{
 "cells": [
  {
   "cell_type": "code",
   "execution_count": 28,
   "metadata": {},
   "outputs": [],
   "source": [
    "import pandas as pd\n",
    "import numpy as np\n",
    "import matplotlib.pyplot as plt\n",
    "import plotly\n",
    "import plotly.graph_objects as go\n",
    "import plotly.express as px\n",
    "import warnings\n",
    "warnings.filterwarnings(action='once')\n",
    "import math\n",
    "from statsmodels.tsa.stattools import adfuller, acf, pacf\n",
    "from statsmodels.tsa.arima.model import ARIMA\n",
    "from statsmodels.graphics.tsaplots import plot_acf, plot_pacf\n",
    "import plotly._subplots as sp"
   ]
  },
  {
   "attachments": {},
   "cell_type": "markdown",
   "metadata": {},
   "source": [
    "1. Import excel file, this excel file contains the COVID-19 confirmed cases have been recorded daily from 27th April to 24th November 2021."
   ]
  },
  {
   "cell_type": "code",
   "execution_count": 29,
   "metadata": {},
   "outputs": [
    {
     "name": "stderr",
     "output_type": "stream",
     "text": [
      "/home/b/anaconda3/lib/python3.9/site-packages/plotly/io/_renderers.py:395: DeprecationWarning:\n",
      "\n",
      "distutils Version classes are deprecated. Use packaging.version instead.\n",
      "\n"
     ]
    },
    {
     "data": {
      "application/vnd.plotly.v1+json": {
       "config": {
        "plotlyServerURL": "https://plot.ly"
       },
       "data": [
        {
         "hovertemplate": "Date=%{x}<br>Confirmed case=%{y}<extra></extra>",
         "legendgroup": "",
         "line": {
          "color": "#636efa",
          "dash": "solid"
         },
         "marker": {
          "symbol": "circle"
         },
         "mode": "lines",
         "name": "",
         "orientation": "v",
         "showlegend": false,
         "type": "scatter",
         "x": [
          "2021-04-27T00:00:00",
          "2021-04-28T00:00:00",
          "2021-04-29T00:00:00",
          "2021-04-30T00:00:00",
          "2021-05-01T00:00:00",
          "2021-05-02T00:00:00",
          "2021-05-03T00:00:00",
          "2021-05-04T00:00:00",
          "2021-05-05T00:00:00",
          "2021-05-06T00:00:00",
          "2021-05-07T00:00:00",
          "2021-05-08T00:00:00",
          "2021-05-09T00:00:00",
          "2021-05-10T00:00:00",
          "2021-05-11T00:00:00",
          "2021-05-12T00:00:00",
          "2021-05-13T00:00:00",
          "2021-05-14T00:00:00",
          "2021-05-15T00:00:00",
          "2021-05-16T00:00:00",
          "2021-05-17T00:00:00",
          "2021-05-18T00:00:00",
          "2021-05-19T00:00:00",
          "2021-05-20T00:00:00",
          "2021-05-21T00:00:00",
          "2021-05-22T00:00:00",
          "2021-05-23T00:00:00",
          "2021-05-24T00:00:00",
          "2021-05-25T00:00:00",
          "2021-05-26T00:00:00",
          "2021-05-27T00:00:00",
          "2021-05-28T00:00:00",
          "2021-05-29T00:00:00",
          "2021-05-30T00:00:00",
          "2021-05-31T00:00:00",
          "2021-06-01T00:00:00",
          "2021-06-02T00:00:00",
          "2021-06-03T00:00:00",
          "2021-06-04T00:00:00",
          "2021-06-05T00:00:00",
          "2021-06-06T00:00:00",
          "2021-06-07T00:00:00",
          "2021-06-08T00:00:00",
          "2021-06-09T00:00:00",
          "2021-06-10T00:00:00",
          "2021-06-11T00:00:00",
          "2021-06-12T00:00:00",
          "2021-06-13T00:00:00",
          "2021-06-14T00:00:00",
          "2021-06-15T00:00:00",
          "2021-06-16T00:00:00",
          "2021-06-17T00:00:00",
          "2021-06-18T00:00:00",
          "2021-06-19T00:00:00",
          "2021-06-20T00:00:00",
          "2021-06-21T00:00:00",
          "2021-06-22T00:00:00",
          "2021-06-23T00:00:00",
          "2021-06-24T00:00:00",
          "2021-06-25T00:00:00",
          "2021-06-26T00:00:00",
          "2021-06-27T00:00:00",
          "2021-06-28T00:00:00",
          "2021-06-29T00:00:00",
          "2021-06-30T00:00:00",
          "2021-07-01T00:00:00",
          "2021-07-02T00:00:00",
          "2021-07-03T00:00:00",
          "2021-07-04T00:00:00",
          "2021-07-05T00:00:00",
          "2021-07-06T00:00:00",
          "2021-07-07T00:00:00",
          "2021-07-08T00:00:00",
          "2021-07-09T00:00:00",
          "2021-07-10T00:00:00",
          "2021-07-11T00:00:00",
          "2021-07-12T00:00:00",
          "2021-07-13T00:00:00",
          "2021-07-14T00:00:00",
          "2021-07-15T00:00:00",
          "2021-07-16T00:00:00",
          "2021-07-17T00:00:00",
          "2021-07-18T00:00:00",
          "2021-07-19T00:00:00",
          "2021-07-20T00:00:00",
          "2021-07-21T00:00:00",
          "2021-07-22T00:00:00",
          "2021-07-23T00:00:00",
          "2021-07-24T00:00:00",
          "2021-07-25T00:00:00",
          "2021-07-26T00:00:00",
          "2021-07-27T00:00:00",
          "2021-07-28T00:00:00",
          "2021-07-29T00:00:00",
          "2021-07-30T00:00:00",
          "2021-07-31T00:00:00",
          "2021-08-01T00:00:00",
          "2021-08-02T00:00:00",
          "2021-08-03T00:00:00",
          "2021-08-04T00:00:00",
          "2021-08-05T00:00:00",
          "2021-08-06T00:00:00",
          "2021-08-07T00:00:00",
          "2021-08-08T00:00:00",
          "2021-08-09T00:00:00",
          "2021-08-10T00:00:00",
          "2021-08-11T00:00:00",
          "2021-08-12T00:00:00",
          "2021-08-13T00:00:00",
          "2021-08-14T00:00:00",
          "2021-08-15T00:00:00",
          "2021-08-16T00:00:00",
          "2021-08-17T00:00:00",
          "2021-08-18T00:00:00",
          "2021-08-19T00:00:00",
          "2021-08-20T00:00:00",
          "2021-08-21T00:00:00",
          "2021-08-22T00:00:00",
          "2021-08-23T00:00:00",
          "2021-08-24T00:00:00",
          "2021-08-25T00:00:00",
          "2021-08-26T00:00:00",
          "2021-08-27T00:00:00",
          "2021-08-28T00:00:00",
          "2021-08-29T00:00:00",
          "2021-08-30T00:00:00",
          "2021-08-31T00:00:00",
          "2021-09-01T00:00:00",
          "2021-09-02T00:00:00",
          "2021-09-03T00:00:00",
          "2021-09-04T00:00:00",
          "2021-09-05T00:00:00",
          "2021-09-06T00:00:00",
          "2021-09-07T00:00:00",
          "2021-09-08T00:00:00",
          "2021-09-09T00:00:00",
          "2021-09-10T00:00:00",
          "2021-09-11T00:00:00",
          "2021-09-12T00:00:00",
          "2021-09-13T00:00:00",
          "2021-09-14T00:00:00",
          "2021-09-15T00:00:00",
          "2021-09-16T00:00:00",
          "2021-09-17T00:00:00",
          "2021-09-18T00:00:00",
          "2021-09-19T00:00:00",
          "2021-09-20T00:00:00",
          "2021-09-21T00:00:00",
          "2021-09-22T00:00:00",
          "2021-09-23T00:00:00",
          "2021-09-24T00:00:00",
          "2021-09-25T00:00:00",
          "2021-09-26T00:00:00",
          "2021-09-27T00:00:00",
          "2021-09-28T00:00:00",
          "2021-09-29T00:00:00",
          "2021-09-30T00:00:00",
          "2021-10-01T00:00:00",
          "2021-10-02T00:00:00",
          "2021-10-03T00:00:00",
          "2021-10-04T00:00:00",
          "2021-10-05T00:00:00",
          "2021-10-06T00:00:00",
          "2021-10-07T00:00:00",
          "2021-10-08T00:00:00",
          "2021-10-09T00:00:00",
          "2021-10-10T00:00:00",
          "2021-10-11T00:00:00",
          "2021-10-12T00:00:00",
          "2021-10-13T00:00:00",
          "2021-10-14T00:00:00",
          "2021-10-15T00:00:00",
          "2021-10-16T00:00:00",
          "2021-10-17T00:00:00",
          "2021-10-18T00:00:00",
          "2021-10-19T00:00:00",
          "2021-10-20T00:00:00",
          "2021-10-21T00:00:00",
          "2021-10-22T00:00:00",
          "2021-10-23T00:00:00",
          "2021-10-24T00:00:00",
          "2021-10-25T00:00:00",
          "2021-10-26T00:00:00",
          "2021-10-27T00:00:00",
          "2021-10-28T00:00:00",
          "2021-10-29T00:00:00",
          "2021-10-30T00:00:00",
          "2021-10-31T00:00:00",
          "2021-11-01T00:00:00",
          "2021-11-02T00:00:00",
          "2021-11-03T00:00:00",
          "2021-11-04T00:00:00",
          "2021-11-05T00:00:00",
          "2021-11-06T00:00:00",
          "2021-11-07T00:00:00",
          "2021-11-08T00:00:00",
          "2021-11-09T00:00:00",
          "2021-11-10T00:00:00",
          "2021-11-11T00:00:00",
          "2021-11-12T00:00:00",
          "2021-11-13T00:00:00",
          "2021-11-14T00:00:00",
          "2021-11-15T00:00:00",
          "2021-11-16T00:00:00",
          "2021-11-17T00:00:00",
          "2021-11-18T00:00:00",
          "2021-11-19T00:00:00",
          "2021-11-20T00:00:00",
          "2021-11-21T00:00:00",
          "2021-11-22T00:00:00",
          "2021-11-23T00:00:00"
         ],
         "xaxis": "x",
         "y": [
          0,
          0,
          1,
          2,
          3,
          0,
          0,
          3,
          1,
          0,
          2,
          1,
          0,
          0,
          3,
          0,
          0,
          0,
          0,
          0,
          2,
          1,
          1,
          3,
          0,
          0,
          0,
          1,
          1,
          0,
          36,
          0,
          0,
          51,
          0,
          0,
          33,
          0,
          36,
          31,
          33,
          69,
          39,
          66,
          45,
          58,
          84,
          95,
          86,
          90,
          100,
          137,
          149,
          135,
          137,
          166,
          136,
          152,
          207,
          165,
          621,
          230,
          218,
          155,
          249,
          464,
          419,
          714,
          599,
          641,
          710,
          766,
          915,
          1229,
          1320,
          1397,
          1764,
          1802,
          2229,
          2691,
          2436,
          3420,
          4083,
          3074,
          3322,
          3558,
          4473,
          4913,
          5546,
          4555,
          6097,
          6622,
          4045,
          2877,
          1541,
          4180,
          2025,
          2267,
          4171,
          936,
          3886,
          1497,
          5827,
          2002,
          4132,
          1466,
          3609,
          1521,
          3399,
          4915,
          3975,
          2855,
          3740,
          3873,
          4307,
          3504,
          4084,
          4193,
          4251,
          4634,
          5294,
          3934,
          5383,
          5481,
          4957,
          5889,
          5444,
          5368,
          5964,
          8510,
          4104,
          6226,
          7122,
          7310,
          7308,
          5549,
          7539,
          5629,
          6158,
          5446,
          6315,
          5301,
          5735,
          5972,
          4273,
          5496,
          5172,
          6521,
          5435,
          5052,
          3786,
          4050,
          5121,
          4134,
          3749,
          4699,
          4372,
          3670,
          2723,
          2461,
          2490,
          1491,
          1960,
          1730,
          2215,
          1662,
          1067,
          1527,
          1018,
          1162,
          909,
          1131,
          790,
          1059,
          968,
          907,
          1347,
          1255,
          1205,
          749,
          966,
          969,
          783,
          1140,
          1069,
          977,
          1042,
          1041,
          927,
          682,
          985,
          981,
          912,
          986,
          1009,
          1316,
          1276,
          1414,
          1185,
          1388,
          1240,
          985,
          1165,
          1183,
          1337,
          1609,
          1339,
          1046,
          1265,
          1547,
          1204
         ],
         "yaxis": "y"
        }
       ],
       "layout": {
        "legend": {
         "tracegroupgap": 0
        },
        "template": {
         "data": {
          "bar": [
           {
            "error_x": {
             "color": "#2a3f5f"
            },
            "error_y": {
             "color": "#2a3f5f"
            },
            "marker": {
             "line": {
              "color": "#E5ECF6",
              "width": 0.5
             },
             "pattern": {
              "fillmode": "overlay",
              "size": 10,
              "solidity": 0.2
             }
            },
            "type": "bar"
           }
          ],
          "barpolar": [
           {
            "marker": {
             "line": {
              "color": "#E5ECF6",
              "width": 0.5
             },
             "pattern": {
              "fillmode": "overlay",
              "size": 10,
              "solidity": 0.2
             }
            },
            "type": "barpolar"
           }
          ],
          "carpet": [
           {
            "aaxis": {
             "endlinecolor": "#2a3f5f",
             "gridcolor": "white",
             "linecolor": "white",
             "minorgridcolor": "white",
             "startlinecolor": "#2a3f5f"
            },
            "baxis": {
             "endlinecolor": "#2a3f5f",
             "gridcolor": "white",
             "linecolor": "white",
             "minorgridcolor": "white",
             "startlinecolor": "#2a3f5f"
            },
            "type": "carpet"
           }
          ],
          "choropleth": [
           {
            "colorbar": {
             "outlinewidth": 0,
             "ticks": ""
            },
            "type": "choropleth"
           }
          ],
          "contour": [
           {
            "colorbar": {
             "outlinewidth": 0,
             "ticks": ""
            },
            "colorscale": [
             [
              0,
              "#0d0887"
             ],
             [
              0.1111111111111111,
              "#46039f"
             ],
             [
              0.2222222222222222,
              "#7201a8"
             ],
             [
              0.3333333333333333,
              "#9c179e"
             ],
             [
              0.4444444444444444,
              "#bd3786"
             ],
             [
              0.5555555555555556,
              "#d8576b"
             ],
             [
              0.6666666666666666,
              "#ed7953"
             ],
             [
              0.7777777777777778,
              "#fb9f3a"
             ],
             [
              0.8888888888888888,
              "#fdca26"
             ],
             [
              1,
              "#f0f921"
             ]
            ],
            "type": "contour"
           }
          ],
          "contourcarpet": [
           {
            "colorbar": {
             "outlinewidth": 0,
             "ticks": ""
            },
            "type": "contourcarpet"
           }
          ],
          "heatmap": [
           {
            "colorbar": {
             "outlinewidth": 0,
             "ticks": ""
            },
            "colorscale": [
             [
              0,
              "#0d0887"
             ],
             [
              0.1111111111111111,
              "#46039f"
             ],
             [
              0.2222222222222222,
              "#7201a8"
             ],
             [
              0.3333333333333333,
              "#9c179e"
             ],
             [
              0.4444444444444444,
              "#bd3786"
             ],
             [
              0.5555555555555556,
              "#d8576b"
             ],
             [
              0.6666666666666666,
              "#ed7953"
             ],
             [
              0.7777777777777778,
              "#fb9f3a"
             ],
             [
              0.8888888888888888,
              "#fdca26"
             ],
             [
              1,
              "#f0f921"
             ]
            ],
            "type": "heatmap"
           }
          ],
          "heatmapgl": [
           {
            "colorbar": {
             "outlinewidth": 0,
             "ticks": ""
            },
            "colorscale": [
             [
              0,
              "#0d0887"
             ],
             [
              0.1111111111111111,
              "#46039f"
             ],
             [
              0.2222222222222222,
              "#7201a8"
             ],
             [
              0.3333333333333333,
              "#9c179e"
             ],
             [
              0.4444444444444444,
              "#bd3786"
             ],
             [
              0.5555555555555556,
              "#d8576b"
             ],
             [
              0.6666666666666666,
              "#ed7953"
             ],
             [
              0.7777777777777778,
              "#fb9f3a"
             ],
             [
              0.8888888888888888,
              "#fdca26"
             ],
             [
              1,
              "#f0f921"
             ]
            ],
            "type": "heatmapgl"
           }
          ],
          "histogram": [
           {
            "marker": {
             "pattern": {
              "fillmode": "overlay",
              "size": 10,
              "solidity": 0.2
             }
            },
            "type": "histogram"
           }
          ],
          "histogram2d": [
           {
            "colorbar": {
             "outlinewidth": 0,
             "ticks": ""
            },
            "colorscale": [
             [
              0,
              "#0d0887"
             ],
             [
              0.1111111111111111,
              "#46039f"
             ],
             [
              0.2222222222222222,
              "#7201a8"
             ],
             [
              0.3333333333333333,
              "#9c179e"
             ],
             [
              0.4444444444444444,
              "#bd3786"
             ],
             [
              0.5555555555555556,
              "#d8576b"
             ],
             [
              0.6666666666666666,
              "#ed7953"
             ],
             [
              0.7777777777777778,
              "#fb9f3a"
             ],
             [
              0.8888888888888888,
              "#fdca26"
             ],
             [
              1,
              "#f0f921"
             ]
            ],
            "type": "histogram2d"
           }
          ],
          "histogram2dcontour": [
           {
            "colorbar": {
             "outlinewidth": 0,
             "ticks": ""
            },
            "colorscale": [
             [
              0,
              "#0d0887"
             ],
             [
              0.1111111111111111,
              "#46039f"
             ],
             [
              0.2222222222222222,
              "#7201a8"
             ],
             [
              0.3333333333333333,
              "#9c179e"
             ],
             [
              0.4444444444444444,
              "#bd3786"
             ],
             [
              0.5555555555555556,
              "#d8576b"
             ],
             [
              0.6666666666666666,
              "#ed7953"
             ],
             [
              0.7777777777777778,
              "#fb9f3a"
             ],
             [
              0.8888888888888888,
              "#fdca26"
             ],
             [
              1,
              "#f0f921"
             ]
            ],
            "type": "histogram2dcontour"
           }
          ],
          "mesh3d": [
           {
            "colorbar": {
             "outlinewidth": 0,
             "ticks": ""
            },
            "type": "mesh3d"
           }
          ],
          "parcoords": [
           {
            "line": {
             "colorbar": {
              "outlinewidth": 0,
              "ticks": ""
             }
            },
            "type": "parcoords"
           }
          ],
          "pie": [
           {
            "automargin": true,
            "type": "pie"
           }
          ],
          "scatter": [
           {
            "fillpattern": {
             "fillmode": "overlay",
             "size": 10,
             "solidity": 0.2
            },
            "type": "scatter"
           }
          ],
          "scatter3d": [
           {
            "line": {
             "colorbar": {
              "outlinewidth": 0,
              "ticks": ""
             }
            },
            "marker": {
             "colorbar": {
              "outlinewidth": 0,
              "ticks": ""
             }
            },
            "type": "scatter3d"
           }
          ],
          "scattercarpet": [
           {
            "marker": {
             "colorbar": {
              "outlinewidth": 0,
              "ticks": ""
             }
            },
            "type": "scattercarpet"
           }
          ],
          "scattergeo": [
           {
            "marker": {
             "colorbar": {
              "outlinewidth": 0,
              "ticks": ""
             }
            },
            "type": "scattergeo"
           }
          ],
          "scattergl": [
           {
            "marker": {
             "colorbar": {
              "outlinewidth": 0,
              "ticks": ""
             }
            },
            "type": "scattergl"
           }
          ],
          "scattermapbox": [
           {
            "marker": {
             "colorbar": {
              "outlinewidth": 0,
              "ticks": ""
             }
            },
            "type": "scattermapbox"
           }
          ],
          "scatterpolar": [
           {
            "marker": {
             "colorbar": {
              "outlinewidth": 0,
              "ticks": ""
             }
            },
            "type": "scatterpolar"
           }
          ],
          "scatterpolargl": [
           {
            "marker": {
             "colorbar": {
              "outlinewidth": 0,
              "ticks": ""
             }
            },
            "type": "scatterpolargl"
           }
          ],
          "scatterternary": [
           {
            "marker": {
             "colorbar": {
              "outlinewidth": 0,
              "ticks": ""
             }
            },
            "type": "scatterternary"
           }
          ],
          "surface": [
           {
            "colorbar": {
             "outlinewidth": 0,
             "ticks": ""
            },
            "colorscale": [
             [
              0,
              "#0d0887"
             ],
             [
              0.1111111111111111,
              "#46039f"
             ],
             [
              0.2222222222222222,
              "#7201a8"
             ],
             [
              0.3333333333333333,
              "#9c179e"
             ],
             [
              0.4444444444444444,
              "#bd3786"
             ],
             [
              0.5555555555555556,
              "#d8576b"
             ],
             [
              0.6666666666666666,
              "#ed7953"
             ],
             [
              0.7777777777777778,
              "#fb9f3a"
             ],
             [
              0.8888888888888888,
              "#fdca26"
             ],
             [
              1,
              "#f0f921"
             ]
            ],
            "type": "surface"
           }
          ],
          "table": [
           {
            "cells": {
             "fill": {
              "color": "#EBF0F8"
             },
             "line": {
              "color": "white"
             }
            },
            "header": {
             "fill": {
              "color": "#C8D4E3"
             },
             "line": {
              "color": "white"
             }
            },
            "type": "table"
           }
          ]
         },
         "layout": {
          "annotationdefaults": {
           "arrowcolor": "#2a3f5f",
           "arrowhead": 0,
           "arrowwidth": 1
          },
          "autotypenumbers": "strict",
          "coloraxis": {
           "colorbar": {
            "outlinewidth": 0,
            "ticks": ""
           }
          },
          "colorscale": {
           "diverging": [
            [
             0,
             "#8e0152"
            ],
            [
             0.1,
             "#c51b7d"
            ],
            [
             0.2,
             "#de77ae"
            ],
            [
             0.3,
             "#f1b6da"
            ],
            [
             0.4,
             "#fde0ef"
            ],
            [
             0.5,
             "#f7f7f7"
            ],
            [
             0.6,
             "#e6f5d0"
            ],
            [
             0.7,
             "#b8e186"
            ],
            [
             0.8,
             "#7fbc41"
            ],
            [
             0.9,
             "#4d9221"
            ],
            [
             1,
             "#276419"
            ]
           ],
           "sequential": [
            [
             0,
             "#0d0887"
            ],
            [
             0.1111111111111111,
             "#46039f"
            ],
            [
             0.2222222222222222,
             "#7201a8"
            ],
            [
             0.3333333333333333,
             "#9c179e"
            ],
            [
             0.4444444444444444,
             "#bd3786"
            ],
            [
             0.5555555555555556,
             "#d8576b"
            ],
            [
             0.6666666666666666,
             "#ed7953"
            ],
            [
             0.7777777777777778,
             "#fb9f3a"
            ],
            [
             0.8888888888888888,
             "#fdca26"
            ],
            [
             1,
             "#f0f921"
            ]
           ],
           "sequentialminus": [
            [
             0,
             "#0d0887"
            ],
            [
             0.1111111111111111,
             "#46039f"
            ],
            [
             0.2222222222222222,
             "#7201a8"
            ],
            [
             0.3333333333333333,
             "#9c179e"
            ],
            [
             0.4444444444444444,
             "#bd3786"
            ],
            [
             0.5555555555555556,
             "#d8576b"
            ],
            [
             0.6666666666666666,
             "#ed7953"
            ],
            [
             0.7777777777777778,
             "#fb9f3a"
            ],
            [
             0.8888888888888888,
             "#fdca26"
            ],
            [
             1,
             "#f0f921"
            ]
           ]
          },
          "colorway": [
           "#636efa",
           "#EF553B",
           "#00cc96",
           "#ab63fa",
           "#FFA15A",
           "#19d3f3",
           "#FF6692",
           "#B6E880",
           "#FF97FF",
           "#FECB52"
          ],
          "font": {
           "color": "#2a3f5f"
          },
          "geo": {
           "bgcolor": "white",
           "lakecolor": "white",
           "landcolor": "#E5ECF6",
           "showlakes": true,
           "showland": true,
           "subunitcolor": "white"
          },
          "hoverlabel": {
           "align": "left"
          },
          "hovermode": "closest",
          "mapbox": {
           "style": "light"
          },
          "paper_bgcolor": "white",
          "plot_bgcolor": "#E5ECF6",
          "polar": {
           "angularaxis": {
            "gridcolor": "white",
            "linecolor": "white",
            "ticks": ""
           },
           "bgcolor": "#E5ECF6",
           "radialaxis": {
            "gridcolor": "white",
            "linecolor": "white",
            "ticks": ""
           }
          },
          "scene": {
           "xaxis": {
            "backgroundcolor": "#E5ECF6",
            "gridcolor": "white",
            "gridwidth": 2,
            "linecolor": "white",
            "showbackground": true,
            "ticks": "",
            "zerolinecolor": "white"
           },
           "yaxis": {
            "backgroundcolor": "#E5ECF6",
            "gridcolor": "white",
            "gridwidth": 2,
            "linecolor": "white",
            "showbackground": true,
            "ticks": "",
            "zerolinecolor": "white"
           },
           "zaxis": {
            "backgroundcolor": "#E5ECF6",
            "gridcolor": "white",
            "gridwidth": 2,
            "linecolor": "white",
            "showbackground": true,
            "ticks": "",
            "zerolinecolor": "white"
           }
          },
          "shapedefaults": {
           "line": {
            "color": "#2a3f5f"
           }
          },
          "ternary": {
           "aaxis": {
            "gridcolor": "white",
            "linecolor": "white",
            "ticks": ""
           },
           "baxis": {
            "gridcolor": "white",
            "linecolor": "white",
            "ticks": ""
           },
           "bgcolor": "#E5ECF6",
           "caxis": {
            "gridcolor": "white",
            "linecolor": "white",
            "ticks": ""
           }
          },
          "title": {
           "x": 0.05
          },
          "xaxis": {
           "automargin": true,
           "gridcolor": "white",
           "linecolor": "white",
           "ticks": "",
           "title": {
            "standoff": 15
           },
           "zerolinecolor": "white",
           "zerolinewidth": 2
          },
          "yaxis": {
           "automargin": true,
           "gridcolor": "white",
           "linecolor": "white",
           "ticks": "",
           "title": {
            "standoff": 15
           },
           "zerolinecolor": "white",
           "zerolinewidth": 2
          }
         }
        },
        "title": {
         "text": "Recorded confirmed cases times series plot"
        },
        "xaxis": {
         "anchor": "y",
         "domain": [
          0,
          1
         ],
         "title": {
          "text": "Date"
         }
        },
        "yaxis": {
         "anchor": "x",
         "domain": [
          0,
          1
         ],
         "title": {
          "text": "Confirmed case"
         }
        }
       }
      }
     },
     "metadata": {},
     "output_type": "display_data"
    }
   ],
   "source": [
    "data = pd.read_excel('data.xlsx')\n",
    "plot_rawdata = px.line(data,x='Date',y='Confirmed case',title='Recorded confirmed cases times series plot')\n",
    "plot_rawdata.show()"
   ]
  },
  {
   "cell_type": "code",
   "execution_count": 30,
   "metadata": {},
   "outputs": [
    {
     "data": {
      "text/html": [
       "<div>\n",
       "<style scoped>\n",
       "    .dataframe tbody tr th:only-of-type {\n",
       "        vertical-align: middle;\n",
       "    }\n",
       "\n",
       "    .dataframe tbody tr th {\n",
       "        vertical-align: top;\n",
       "    }\n",
       "\n",
       "    .dataframe thead th {\n",
       "        text-align: right;\n",
       "    }\n",
       "</style>\n",
       "<table border=\"1\" class=\"dataframe\">\n",
       "  <thead>\n",
       "    <tr style=\"text-align: right;\">\n",
       "      <th></th>\n",
       "      <th>Date</th>\n",
       "      <th>Confirmed case</th>\n",
       "      <th>Vaccination rate</th>\n",
       "      <th>Vaccination coverage</th>\n",
       "      <th>Social Distancing (m)</th>\n",
       "      <th>Incubation period (days)</th>\n",
       "      <th>Generation time (days)</th>\n",
       "    </tr>\n",
       "  </thead>\n",
       "  <tbody>\n",
       "    <tr>\n",
       "      <th>0</th>\n",
       "      <td>2021-04-27</td>\n",
       "      <td>0</td>\n",
       "      <td>8047</td>\n",
       "      <td>112</td>\n",
       "      <td>2</td>\n",
       "      <td>3.41</td>\n",
       "      <td>2.76</td>\n",
       "    </tr>\n",
       "    <tr>\n",
       "      <th>1</th>\n",
       "      <td>2021-04-28</td>\n",
       "      <td>0</td>\n",
       "      <td>7996</td>\n",
       "      <td>111</td>\n",
       "      <td>2</td>\n",
       "      <td>6.02</td>\n",
       "      <td>3.89</td>\n",
       "    </tr>\n",
       "    <tr>\n",
       "      <th>2</th>\n",
       "      <td>2021-04-29</td>\n",
       "      <td>1</td>\n",
       "      <td>8043</td>\n",
       "      <td>112</td>\n",
       "      <td>2</td>\n",
       "      <td>7.04</td>\n",
       "      <td>2.51</td>\n",
       "    </tr>\n",
       "    <tr>\n",
       "      <th>3</th>\n",
       "      <td>2021-04-30</td>\n",
       "      <td>2</td>\n",
       "      <td>7520</td>\n",
       "      <td>104</td>\n",
       "      <td>2</td>\n",
       "      <td>2.28</td>\n",
       "      <td>0.40</td>\n",
       "    </tr>\n",
       "    <tr>\n",
       "      <th>4</th>\n",
       "      <td>2021-05-01</td>\n",
       "      <td>3</td>\n",
       "      <td>7055</td>\n",
       "      <td>98</td>\n",
       "      <td>2</td>\n",
       "      <td>1.16</td>\n",
       "      <td>4.82</td>\n",
       "    </tr>\n",
       "    <tr>\n",
       "      <th>...</th>\n",
       "      <td>...</td>\n",
       "      <td>...</td>\n",
       "      <td>...</td>\n",
       "      <td>...</td>\n",
       "      <td>...</td>\n",
       "      <td>...</td>\n",
       "      <td>...</td>\n",
       "    </tr>\n",
       "    <tr>\n",
       "      <th>206</th>\n",
       "      <td>2021-11-19</td>\n",
       "      <td>1339</td>\n",
       "      <td>19214</td>\n",
       "      <td>267</td>\n",
       "      <td>2</td>\n",
       "      <td>3.53</td>\n",
       "      <td>5.70</td>\n",
       "    </tr>\n",
       "    <tr>\n",
       "      <th>207</th>\n",
       "      <td>2021-11-20</td>\n",
       "      <td>1046</td>\n",
       "      <td>18328</td>\n",
       "      <td>255</td>\n",
       "      <td>1</td>\n",
       "      <td>4.85</td>\n",
       "      <td>4.66</td>\n",
       "    </tr>\n",
       "    <tr>\n",
       "      <th>208</th>\n",
       "      <td>2021-11-21</td>\n",
       "      <td>1265</td>\n",
       "      <td>9881</td>\n",
       "      <td>137</td>\n",
       "      <td>1</td>\n",
       "      <td>3.25</td>\n",
       "      <td>0.54</td>\n",
       "    </tr>\n",
       "    <tr>\n",
       "      <th>209</th>\n",
       "      <td>2021-11-22</td>\n",
       "      <td>1547</td>\n",
       "      <td>7754</td>\n",
       "      <td>108</td>\n",
       "      <td>1</td>\n",
       "      <td>3.31</td>\n",
       "      <td>1.91</td>\n",
       "    </tr>\n",
       "    <tr>\n",
       "      <th>210</th>\n",
       "      <td>2021-11-23</td>\n",
       "      <td>1204</td>\n",
       "      <td>23182</td>\n",
       "      <td>322</td>\n",
       "      <td>1</td>\n",
       "      <td>5.57</td>\n",
       "      <td>2.62</td>\n",
       "    </tr>\n",
       "  </tbody>\n",
       "</table>\n",
       "<p>211 rows × 7 columns</p>\n",
       "</div>"
      ],
      "text/plain": [
       "          Date  Confirmed case  Vaccination rate  Vaccination coverage  \\\n",
       "0   2021-04-27               0              8047                   112   \n",
       "1   2021-04-28               0              7996                   111   \n",
       "2   2021-04-29               1              8043                   112   \n",
       "3   2021-04-30               2              7520                   104   \n",
       "4   2021-05-01               3              7055                    98   \n",
       "..         ...             ...               ...                   ...   \n",
       "206 2021-11-19            1339             19214                   267   \n",
       "207 2021-11-20            1046             18328                   255   \n",
       "208 2021-11-21            1265              9881                   137   \n",
       "209 2021-11-22            1547              7754                   108   \n",
       "210 2021-11-23            1204             23182                   322   \n",
       "\n",
       "     Social Distancing (m)  Incubation period (days)  Generation time (days)  \n",
       "0                        2                      3.41                    2.76  \n",
       "1                        2                      6.02                    3.89  \n",
       "2                        2                      7.04                    2.51  \n",
       "3                        2                      2.28                    0.40  \n",
       "4                        2                      1.16                    4.82  \n",
       "..                     ...                       ...                     ...  \n",
       "206                      2                      3.53                    5.70  \n",
       "207                      1                      4.85                    4.66  \n",
       "208                      1                      3.25                    0.54  \n",
       "209                      1                      3.31                    1.91  \n",
       "210                      1                      5.57                    2.62  \n",
       "\n",
       "[211 rows x 7 columns]"
      ]
     },
     "execution_count": 30,
     "metadata": {},
     "output_type": "execute_result"
    }
   ],
   "source": [
    "data"
   ]
  },
  {
   "attachments": {},
   "cell_type": "markdown",
   "metadata": {},
   "source": [
    "2. The first step in model ARIMA development is considering whether the data is stationary. Hence, an ADF test is provided in the code. From which, d parameters will then be determined based on the stationarity of data in which differencing stage. The COVID-19 confirmed cases in this study is considered to be stationary on the first differencing, which means d = 1 in ARIMA model"
   ]
  },
  {
   "cell_type": "code",
   "execution_count": 31,
   "metadata": {},
   "outputs": [
    {
     "name": "stdout",
     "output_type": "stream",
     "text": [
      "The result of ADF test of raw data is:\n",
      "ADF Statistic: -1.512470\n",
      "p-value: 0.527334\n",
      "Critical values:\n",
      "1% -3.462980134086401\n",
      "5% -2.875885461947131\n",
      "10% -2.5744164898444515\n",
      "Failed to Reject H0 - Time Series is Non-Stationary\n"
     ]
    }
   ],
   "source": [
    "# ADF Test\n",
    "# Considering whether the raw data is stationary or not\n",
    "confirmedcase_raw = data['Confirmed case'].values\n",
    "raw_adf_test = adfuller(confirmedcase_raw)\n",
    "\n",
    "print('The result of ADF test of raw data is:')\n",
    "\n",
    "print('ADF Statistic: %f' % raw_adf_test[0])\n",
    "\n",
    "print('p-value: %f' % raw_adf_test[1])\n",
    "\n",
    "print('Critical values:')\n",
    "for key,value in raw_adf_test[4].items():\n",
    "    print(key,value)\n",
    "\n",
    "if raw_adf_test[0] < raw_adf_test[4]['5%']:\n",
    "    print('Reject H0 - Time Series is Stationary')\n",
    "else:\n",
    "    print('Failed to Reject H0 - Time Series is Non-Stationary')"
   ]
  },
  {
   "cell_type": "code",
   "execution_count": 32,
   "metadata": {},
   "outputs": [
    {
     "name": "stderr",
     "output_type": "stream",
     "text": [
      "/home/b/anaconda3/lib/python3.9/site-packages/plotly/io/_renderers.py:395: DeprecationWarning:\n",
      "\n",
      "distutils Version classes are deprecated. Use packaging.version instead.\n",
      "\n"
     ]
    },
    {
     "data": {
      "application/vnd.plotly.v1+json": {
       "config": {
        "plotlyServerURL": "https://plot.ly"
       },
       "data": [
        {
         "hovertemplate": "Date=%{x}<br>1st Differencing=%{y}<extra></extra>",
         "legendgroup": "",
         "line": {
          "color": "#636efa",
          "dash": "solid"
         },
         "marker": {
          "symbol": "circle"
         },
         "mode": "lines",
         "name": "",
         "orientation": "v",
         "showlegend": false,
         "type": "scatter",
         "x": [
          "2021-04-27T00:00:00",
          "2021-04-28T00:00:00",
          "2021-04-29T00:00:00",
          "2021-04-30T00:00:00",
          "2021-05-01T00:00:00",
          "2021-05-02T00:00:00",
          "2021-05-03T00:00:00",
          "2021-05-04T00:00:00",
          "2021-05-05T00:00:00",
          "2021-05-06T00:00:00",
          "2021-05-07T00:00:00",
          "2021-05-08T00:00:00",
          "2021-05-09T00:00:00",
          "2021-05-10T00:00:00",
          "2021-05-11T00:00:00",
          "2021-05-12T00:00:00",
          "2021-05-13T00:00:00",
          "2021-05-14T00:00:00",
          "2021-05-15T00:00:00",
          "2021-05-16T00:00:00",
          "2021-05-17T00:00:00",
          "2021-05-18T00:00:00",
          "2021-05-19T00:00:00",
          "2021-05-20T00:00:00",
          "2021-05-21T00:00:00",
          "2021-05-22T00:00:00",
          "2021-05-23T00:00:00",
          "2021-05-24T00:00:00",
          "2021-05-25T00:00:00",
          "2021-05-26T00:00:00",
          "2021-05-27T00:00:00",
          "2021-05-28T00:00:00",
          "2021-05-29T00:00:00",
          "2021-05-30T00:00:00",
          "2021-05-31T00:00:00",
          "2021-06-01T00:00:00",
          "2021-06-02T00:00:00",
          "2021-06-03T00:00:00",
          "2021-06-04T00:00:00",
          "2021-06-05T00:00:00",
          "2021-06-06T00:00:00",
          "2021-06-07T00:00:00",
          "2021-06-08T00:00:00",
          "2021-06-09T00:00:00",
          "2021-06-10T00:00:00",
          "2021-06-11T00:00:00",
          "2021-06-12T00:00:00",
          "2021-06-13T00:00:00",
          "2021-06-14T00:00:00",
          "2021-06-15T00:00:00",
          "2021-06-16T00:00:00",
          "2021-06-17T00:00:00",
          "2021-06-18T00:00:00",
          "2021-06-19T00:00:00",
          "2021-06-20T00:00:00",
          "2021-06-21T00:00:00",
          "2021-06-22T00:00:00",
          "2021-06-23T00:00:00",
          "2021-06-24T00:00:00",
          "2021-06-25T00:00:00",
          "2021-06-26T00:00:00",
          "2021-06-27T00:00:00",
          "2021-06-28T00:00:00",
          "2021-06-29T00:00:00",
          "2021-06-30T00:00:00",
          "2021-07-01T00:00:00",
          "2021-07-02T00:00:00",
          "2021-07-03T00:00:00",
          "2021-07-04T00:00:00",
          "2021-07-05T00:00:00",
          "2021-07-06T00:00:00",
          "2021-07-07T00:00:00",
          "2021-07-08T00:00:00",
          "2021-07-09T00:00:00",
          "2021-07-10T00:00:00",
          "2021-07-11T00:00:00",
          "2021-07-12T00:00:00",
          "2021-07-13T00:00:00",
          "2021-07-14T00:00:00",
          "2021-07-15T00:00:00",
          "2021-07-16T00:00:00",
          "2021-07-17T00:00:00",
          "2021-07-18T00:00:00",
          "2021-07-19T00:00:00",
          "2021-07-20T00:00:00",
          "2021-07-21T00:00:00",
          "2021-07-22T00:00:00",
          "2021-07-23T00:00:00",
          "2021-07-24T00:00:00",
          "2021-07-25T00:00:00",
          "2021-07-26T00:00:00",
          "2021-07-27T00:00:00",
          "2021-07-28T00:00:00",
          "2021-07-29T00:00:00",
          "2021-07-30T00:00:00",
          "2021-07-31T00:00:00",
          "2021-08-01T00:00:00",
          "2021-08-02T00:00:00",
          "2021-08-03T00:00:00",
          "2021-08-04T00:00:00",
          "2021-08-05T00:00:00",
          "2021-08-06T00:00:00",
          "2021-08-07T00:00:00",
          "2021-08-08T00:00:00",
          "2021-08-09T00:00:00",
          "2021-08-10T00:00:00",
          "2021-08-11T00:00:00",
          "2021-08-12T00:00:00",
          "2021-08-13T00:00:00",
          "2021-08-14T00:00:00",
          "2021-08-15T00:00:00",
          "2021-08-16T00:00:00",
          "2021-08-17T00:00:00",
          "2021-08-18T00:00:00",
          "2021-08-19T00:00:00",
          "2021-08-20T00:00:00",
          "2021-08-21T00:00:00",
          "2021-08-22T00:00:00",
          "2021-08-23T00:00:00",
          "2021-08-24T00:00:00",
          "2021-08-25T00:00:00",
          "2021-08-26T00:00:00",
          "2021-08-27T00:00:00",
          "2021-08-28T00:00:00",
          "2021-08-29T00:00:00",
          "2021-08-30T00:00:00",
          "2021-08-31T00:00:00",
          "2021-09-01T00:00:00",
          "2021-09-02T00:00:00",
          "2021-09-03T00:00:00",
          "2021-09-04T00:00:00",
          "2021-09-05T00:00:00",
          "2021-09-06T00:00:00",
          "2021-09-07T00:00:00",
          "2021-09-08T00:00:00",
          "2021-09-09T00:00:00",
          "2021-09-10T00:00:00",
          "2021-09-11T00:00:00",
          "2021-09-12T00:00:00",
          "2021-09-13T00:00:00",
          "2021-09-14T00:00:00",
          "2021-09-15T00:00:00",
          "2021-09-16T00:00:00",
          "2021-09-17T00:00:00",
          "2021-09-18T00:00:00",
          "2021-09-19T00:00:00",
          "2021-09-20T00:00:00",
          "2021-09-21T00:00:00",
          "2021-09-22T00:00:00",
          "2021-09-23T00:00:00",
          "2021-09-24T00:00:00",
          "2021-09-25T00:00:00",
          "2021-09-26T00:00:00",
          "2021-09-27T00:00:00",
          "2021-09-28T00:00:00",
          "2021-09-29T00:00:00",
          "2021-09-30T00:00:00",
          "2021-10-01T00:00:00",
          "2021-10-02T00:00:00",
          "2021-10-03T00:00:00",
          "2021-10-04T00:00:00",
          "2021-10-05T00:00:00",
          "2021-10-06T00:00:00",
          "2021-10-07T00:00:00",
          "2021-10-08T00:00:00",
          "2021-10-09T00:00:00",
          "2021-10-10T00:00:00",
          "2021-10-11T00:00:00",
          "2021-10-12T00:00:00",
          "2021-10-13T00:00:00",
          "2021-10-14T00:00:00",
          "2021-10-15T00:00:00",
          "2021-10-16T00:00:00",
          "2021-10-17T00:00:00",
          "2021-10-18T00:00:00",
          "2021-10-19T00:00:00",
          "2021-10-20T00:00:00",
          "2021-10-21T00:00:00",
          "2021-10-22T00:00:00",
          "2021-10-23T00:00:00",
          "2021-10-24T00:00:00",
          "2021-10-25T00:00:00",
          "2021-10-26T00:00:00",
          "2021-10-27T00:00:00",
          "2021-10-28T00:00:00",
          "2021-10-29T00:00:00",
          "2021-10-30T00:00:00",
          "2021-10-31T00:00:00",
          "2021-11-01T00:00:00",
          "2021-11-02T00:00:00",
          "2021-11-03T00:00:00",
          "2021-11-04T00:00:00",
          "2021-11-05T00:00:00",
          "2021-11-06T00:00:00",
          "2021-11-07T00:00:00",
          "2021-11-08T00:00:00",
          "2021-11-09T00:00:00",
          "2021-11-10T00:00:00",
          "2021-11-11T00:00:00",
          "2021-11-12T00:00:00",
          "2021-11-13T00:00:00",
          "2021-11-14T00:00:00",
          "2021-11-15T00:00:00",
          "2021-11-16T00:00:00",
          "2021-11-17T00:00:00",
          "2021-11-18T00:00:00",
          "2021-11-19T00:00:00",
          "2021-11-20T00:00:00",
          "2021-11-21T00:00:00",
          "2021-11-22T00:00:00",
          "2021-11-23T00:00:00"
         ],
         "xaxis": "x",
         "y": [
          0,
          0,
          1,
          1,
          1,
          -3,
          0,
          3,
          -2,
          -1,
          2,
          -1,
          -1,
          0,
          3,
          -3,
          0,
          0,
          0,
          0,
          2,
          -1,
          0,
          2,
          -3,
          0,
          0,
          1,
          0,
          -1,
          36,
          -36,
          0,
          51,
          -51,
          0,
          33,
          -33,
          36,
          -5,
          2,
          36,
          -30,
          27,
          -21,
          13,
          26,
          11,
          -9,
          4,
          10,
          37,
          12,
          -14,
          2,
          29,
          -30,
          16,
          55,
          -42,
          456,
          -391,
          -12,
          -63,
          94,
          215,
          -45,
          295,
          -115,
          42,
          69,
          56,
          149,
          314,
          91,
          77,
          367,
          38,
          427,
          462,
          -255,
          984,
          663,
          -1009,
          248,
          236,
          915,
          440,
          633,
          -991,
          1542,
          525,
          -2577,
          -1168,
          -1336,
          2639,
          -2155,
          242,
          1904,
          -3235,
          2950,
          -2389,
          4330,
          -3825,
          2130,
          -2666,
          2143,
          -2088,
          1878,
          1516,
          -940,
          -1120,
          885,
          133,
          434,
          -803,
          580,
          109,
          58,
          383,
          660,
          -1360,
          1449,
          98,
          -524,
          932,
          -445,
          -76,
          596,
          2546,
          -4406,
          2122,
          896,
          188,
          -2,
          -1759,
          1990,
          -1910,
          529,
          -712,
          869,
          -1014,
          434,
          237,
          -1699,
          1223,
          -324,
          1349,
          -1086,
          -383,
          -1266,
          264,
          1071,
          -987,
          -385,
          950,
          -327,
          -702,
          -947,
          -262,
          29,
          -999,
          469,
          -230,
          485,
          -553,
          -595,
          460,
          -509,
          144,
          -253,
          222,
          -341,
          269,
          -91,
          -61,
          440,
          -92,
          -50,
          -456,
          217,
          3,
          -186,
          357,
          -71,
          -92,
          65,
          -1,
          -114,
          -245,
          303,
          -4,
          -69,
          74,
          23,
          307,
          -40,
          138,
          -229,
          203,
          -148,
          -255,
          180,
          18,
          154,
          272,
          -270,
          -293,
          219,
          282,
          -343
         ],
         "yaxis": "y"
        }
       ],
       "layout": {
        "legend": {
         "tracegroupgap": 0
        },
        "template": {
         "data": {
          "bar": [
           {
            "error_x": {
             "color": "#2a3f5f"
            },
            "error_y": {
             "color": "#2a3f5f"
            },
            "marker": {
             "line": {
              "color": "#E5ECF6",
              "width": 0.5
             },
             "pattern": {
              "fillmode": "overlay",
              "size": 10,
              "solidity": 0.2
             }
            },
            "type": "bar"
           }
          ],
          "barpolar": [
           {
            "marker": {
             "line": {
              "color": "#E5ECF6",
              "width": 0.5
             },
             "pattern": {
              "fillmode": "overlay",
              "size": 10,
              "solidity": 0.2
             }
            },
            "type": "barpolar"
           }
          ],
          "carpet": [
           {
            "aaxis": {
             "endlinecolor": "#2a3f5f",
             "gridcolor": "white",
             "linecolor": "white",
             "minorgridcolor": "white",
             "startlinecolor": "#2a3f5f"
            },
            "baxis": {
             "endlinecolor": "#2a3f5f",
             "gridcolor": "white",
             "linecolor": "white",
             "minorgridcolor": "white",
             "startlinecolor": "#2a3f5f"
            },
            "type": "carpet"
           }
          ],
          "choropleth": [
           {
            "colorbar": {
             "outlinewidth": 0,
             "ticks": ""
            },
            "type": "choropleth"
           }
          ],
          "contour": [
           {
            "colorbar": {
             "outlinewidth": 0,
             "ticks": ""
            },
            "colorscale": [
             [
              0,
              "#0d0887"
             ],
             [
              0.1111111111111111,
              "#46039f"
             ],
             [
              0.2222222222222222,
              "#7201a8"
             ],
             [
              0.3333333333333333,
              "#9c179e"
             ],
             [
              0.4444444444444444,
              "#bd3786"
             ],
             [
              0.5555555555555556,
              "#d8576b"
             ],
             [
              0.6666666666666666,
              "#ed7953"
             ],
             [
              0.7777777777777778,
              "#fb9f3a"
             ],
             [
              0.8888888888888888,
              "#fdca26"
             ],
             [
              1,
              "#f0f921"
             ]
            ],
            "type": "contour"
           }
          ],
          "contourcarpet": [
           {
            "colorbar": {
             "outlinewidth": 0,
             "ticks": ""
            },
            "type": "contourcarpet"
           }
          ],
          "heatmap": [
           {
            "colorbar": {
             "outlinewidth": 0,
             "ticks": ""
            },
            "colorscale": [
             [
              0,
              "#0d0887"
             ],
             [
              0.1111111111111111,
              "#46039f"
             ],
             [
              0.2222222222222222,
              "#7201a8"
             ],
             [
              0.3333333333333333,
              "#9c179e"
             ],
             [
              0.4444444444444444,
              "#bd3786"
             ],
             [
              0.5555555555555556,
              "#d8576b"
             ],
             [
              0.6666666666666666,
              "#ed7953"
             ],
             [
              0.7777777777777778,
              "#fb9f3a"
             ],
             [
              0.8888888888888888,
              "#fdca26"
             ],
             [
              1,
              "#f0f921"
             ]
            ],
            "type": "heatmap"
           }
          ],
          "heatmapgl": [
           {
            "colorbar": {
             "outlinewidth": 0,
             "ticks": ""
            },
            "colorscale": [
             [
              0,
              "#0d0887"
             ],
             [
              0.1111111111111111,
              "#46039f"
             ],
             [
              0.2222222222222222,
              "#7201a8"
             ],
             [
              0.3333333333333333,
              "#9c179e"
             ],
             [
              0.4444444444444444,
              "#bd3786"
             ],
             [
              0.5555555555555556,
              "#d8576b"
             ],
             [
              0.6666666666666666,
              "#ed7953"
             ],
             [
              0.7777777777777778,
              "#fb9f3a"
             ],
             [
              0.8888888888888888,
              "#fdca26"
             ],
             [
              1,
              "#f0f921"
             ]
            ],
            "type": "heatmapgl"
           }
          ],
          "histogram": [
           {
            "marker": {
             "pattern": {
              "fillmode": "overlay",
              "size": 10,
              "solidity": 0.2
             }
            },
            "type": "histogram"
           }
          ],
          "histogram2d": [
           {
            "colorbar": {
             "outlinewidth": 0,
             "ticks": ""
            },
            "colorscale": [
             [
              0,
              "#0d0887"
             ],
             [
              0.1111111111111111,
              "#46039f"
             ],
             [
              0.2222222222222222,
              "#7201a8"
             ],
             [
              0.3333333333333333,
              "#9c179e"
             ],
             [
              0.4444444444444444,
              "#bd3786"
             ],
             [
              0.5555555555555556,
              "#d8576b"
             ],
             [
              0.6666666666666666,
              "#ed7953"
             ],
             [
              0.7777777777777778,
              "#fb9f3a"
             ],
             [
              0.8888888888888888,
              "#fdca26"
             ],
             [
              1,
              "#f0f921"
             ]
            ],
            "type": "histogram2d"
           }
          ],
          "histogram2dcontour": [
           {
            "colorbar": {
             "outlinewidth": 0,
             "ticks": ""
            },
            "colorscale": [
             [
              0,
              "#0d0887"
             ],
             [
              0.1111111111111111,
              "#46039f"
             ],
             [
              0.2222222222222222,
              "#7201a8"
             ],
             [
              0.3333333333333333,
              "#9c179e"
             ],
             [
              0.4444444444444444,
              "#bd3786"
             ],
             [
              0.5555555555555556,
              "#d8576b"
             ],
             [
              0.6666666666666666,
              "#ed7953"
             ],
             [
              0.7777777777777778,
              "#fb9f3a"
             ],
             [
              0.8888888888888888,
              "#fdca26"
             ],
             [
              1,
              "#f0f921"
             ]
            ],
            "type": "histogram2dcontour"
           }
          ],
          "mesh3d": [
           {
            "colorbar": {
             "outlinewidth": 0,
             "ticks": ""
            },
            "type": "mesh3d"
           }
          ],
          "parcoords": [
           {
            "line": {
             "colorbar": {
              "outlinewidth": 0,
              "ticks": ""
             }
            },
            "type": "parcoords"
           }
          ],
          "pie": [
           {
            "automargin": true,
            "type": "pie"
           }
          ],
          "scatter": [
           {
            "fillpattern": {
             "fillmode": "overlay",
             "size": 10,
             "solidity": 0.2
            },
            "type": "scatter"
           }
          ],
          "scatter3d": [
           {
            "line": {
             "colorbar": {
              "outlinewidth": 0,
              "ticks": ""
             }
            },
            "marker": {
             "colorbar": {
              "outlinewidth": 0,
              "ticks": ""
             }
            },
            "type": "scatter3d"
           }
          ],
          "scattercarpet": [
           {
            "marker": {
             "colorbar": {
              "outlinewidth": 0,
              "ticks": ""
             }
            },
            "type": "scattercarpet"
           }
          ],
          "scattergeo": [
           {
            "marker": {
             "colorbar": {
              "outlinewidth": 0,
              "ticks": ""
             }
            },
            "type": "scattergeo"
           }
          ],
          "scattergl": [
           {
            "marker": {
             "colorbar": {
              "outlinewidth": 0,
              "ticks": ""
             }
            },
            "type": "scattergl"
           }
          ],
          "scattermapbox": [
           {
            "marker": {
             "colorbar": {
              "outlinewidth": 0,
              "ticks": ""
             }
            },
            "type": "scattermapbox"
           }
          ],
          "scatterpolar": [
           {
            "marker": {
             "colorbar": {
              "outlinewidth": 0,
              "ticks": ""
             }
            },
            "type": "scatterpolar"
           }
          ],
          "scatterpolargl": [
           {
            "marker": {
             "colorbar": {
              "outlinewidth": 0,
              "ticks": ""
             }
            },
            "type": "scatterpolargl"
           }
          ],
          "scatterternary": [
           {
            "marker": {
             "colorbar": {
              "outlinewidth": 0,
              "ticks": ""
             }
            },
            "type": "scatterternary"
           }
          ],
          "surface": [
           {
            "colorbar": {
             "outlinewidth": 0,
             "ticks": ""
            },
            "colorscale": [
             [
              0,
              "#0d0887"
             ],
             [
              0.1111111111111111,
              "#46039f"
             ],
             [
              0.2222222222222222,
              "#7201a8"
             ],
             [
              0.3333333333333333,
              "#9c179e"
             ],
             [
              0.4444444444444444,
              "#bd3786"
             ],
             [
              0.5555555555555556,
              "#d8576b"
             ],
             [
              0.6666666666666666,
              "#ed7953"
             ],
             [
              0.7777777777777778,
              "#fb9f3a"
             ],
             [
              0.8888888888888888,
              "#fdca26"
             ],
             [
              1,
              "#f0f921"
             ]
            ],
            "type": "surface"
           }
          ],
          "table": [
           {
            "cells": {
             "fill": {
              "color": "#EBF0F8"
             },
             "line": {
              "color": "white"
             }
            },
            "header": {
             "fill": {
              "color": "#C8D4E3"
             },
             "line": {
              "color": "white"
             }
            },
            "type": "table"
           }
          ]
         },
         "layout": {
          "annotationdefaults": {
           "arrowcolor": "#2a3f5f",
           "arrowhead": 0,
           "arrowwidth": 1
          },
          "autotypenumbers": "strict",
          "coloraxis": {
           "colorbar": {
            "outlinewidth": 0,
            "ticks": ""
           }
          },
          "colorscale": {
           "diverging": [
            [
             0,
             "#8e0152"
            ],
            [
             0.1,
             "#c51b7d"
            ],
            [
             0.2,
             "#de77ae"
            ],
            [
             0.3,
             "#f1b6da"
            ],
            [
             0.4,
             "#fde0ef"
            ],
            [
             0.5,
             "#f7f7f7"
            ],
            [
             0.6,
             "#e6f5d0"
            ],
            [
             0.7,
             "#b8e186"
            ],
            [
             0.8,
             "#7fbc41"
            ],
            [
             0.9,
             "#4d9221"
            ],
            [
             1,
             "#276419"
            ]
           ],
           "sequential": [
            [
             0,
             "#0d0887"
            ],
            [
             0.1111111111111111,
             "#46039f"
            ],
            [
             0.2222222222222222,
             "#7201a8"
            ],
            [
             0.3333333333333333,
             "#9c179e"
            ],
            [
             0.4444444444444444,
             "#bd3786"
            ],
            [
             0.5555555555555556,
             "#d8576b"
            ],
            [
             0.6666666666666666,
             "#ed7953"
            ],
            [
             0.7777777777777778,
             "#fb9f3a"
            ],
            [
             0.8888888888888888,
             "#fdca26"
            ],
            [
             1,
             "#f0f921"
            ]
           ],
           "sequentialminus": [
            [
             0,
             "#0d0887"
            ],
            [
             0.1111111111111111,
             "#46039f"
            ],
            [
             0.2222222222222222,
             "#7201a8"
            ],
            [
             0.3333333333333333,
             "#9c179e"
            ],
            [
             0.4444444444444444,
             "#bd3786"
            ],
            [
             0.5555555555555556,
             "#d8576b"
            ],
            [
             0.6666666666666666,
             "#ed7953"
            ],
            [
             0.7777777777777778,
             "#fb9f3a"
            ],
            [
             0.8888888888888888,
             "#fdca26"
            ],
            [
             1,
             "#f0f921"
            ]
           ]
          },
          "colorway": [
           "#636efa",
           "#EF553B",
           "#00cc96",
           "#ab63fa",
           "#FFA15A",
           "#19d3f3",
           "#FF6692",
           "#B6E880",
           "#FF97FF",
           "#FECB52"
          ],
          "font": {
           "color": "#2a3f5f"
          },
          "geo": {
           "bgcolor": "white",
           "lakecolor": "white",
           "landcolor": "#E5ECF6",
           "showlakes": true,
           "showland": true,
           "subunitcolor": "white"
          },
          "hoverlabel": {
           "align": "left"
          },
          "hovermode": "closest",
          "mapbox": {
           "style": "light"
          },
          "paper_bgcolor": "white",
          "plot_bgcolor": "#E5ECF6",
          "polar": {
           "angularaxis": {
            "gridcolor": "white",
            "linecolor": "white",
            "ticks": ""
           },
           "bgcolor": "#E5ECF6",
           "radialaxis": {
            "gridcolor": "white",
            "linecolor": "white",
            "ticks": ""
           }
          },
          "scene": {
           "xaxis": {
            "backgroundcolor": "#E5ECF6",
            "gridcolor": "white",
            "gridwidth": 2,
            "linecolor": "white",
            "showbackground": true,
            "ticks": "",
            "zerolinecolor": "white"
           },
           "yaxis": {
            "backgroundcolor": "#E5ECF6",
            "gridcolor": "white",
            "gridwidth": 2,
            "linecolor": "white",
            "showbackground": true,
            "ticks": "",
            "zerolinecolor": "white"
           },
           "zaxis": {
            "backgroundcolor": "#E5ECF6",
            "gridcolor": "white",
            "gridwidth": 2,
            "linecolor": "white",
            "showbackground": true,
            "ticks": "",
            "zerolinecolor": "white"
           }
          },
          "shapedefaults": {
           "line": {
            "color": "#2a3f5f"
           }
          },
          "ternary": {
           "aaxis": {
            "gridcolor": "white",
            "linecolor": "white",
            "ticks": ""
           },
           "baxis": {
            "gridcolor": "white",
            "linecolor": "white",
            "ticks": ""
           },
           "bgcolor": "#E5ECF6",
           "caxis": {
            "gridcolor": "white",
            "linecolor": "white",
            "ticks": ""
           }
          },
          "title": {
           "x": 0.05
          },
          "xaxis": {
           "automargin": true,
           "gridcolor": "white",
           "linecolor": "white",
           "ticks": "",
           "title": {
            "standoff": 15
           },
           "zerolinecolor": "white",
           "zerolinewidth": 2
          },
          "yaxis": {
           "automargin": true,
           "gridcolor": "white",
           "linecolor": "white",
           "ticks": "",
           "title": {
            "standoff": 15
           },
           "zerolinecolor": "white",
           "zerolinewidth": 2
          }
         }
        },
        "title": {
         "text": "1st Differencing Data cases times series plot"
        },
        "xaxis": {
         "anchor": "y",
         "domain": [
          0,
          1
         ],
         "title": {
          "text": "Date"
         }
        },
        "yaxis": {
         "anchor": "x",
         "domain": [
          0,
          1
         ],
         "title": {
          "text": "1st Differencing"
         }
        }
       }
      }
     },
     "metadata": {},
     "output_type": "display_data"
    },
    {
     "name": "stdout",
     "output_type": "stream",
     "text": [
      "The result of ADF test of raw data is:\n",
      "ADF Statistic: -5.318863\n",
      "p-value: 0.000005\n",
      "Critical values:\n",
      "1% -3.462818103072159\n",
      "5% -2.8758145932936805\n",
      "10% -2.574378674548251\n",
      "Reject H0 - Time Series is Stationary\n"
     ]
    }
   ],
   "source": [
    "# ADF Test\n",
    "# Considering whether the 1st differencing data is stationary or not\n",
    "data['1st Differencing'] = data['Confirmed case'] - data['Confirmed case'].shift(1)\n",
    "data['1st Differencing'] = data['1st Differencing'].fillna(0)\n",
    "data['1st Differencing'] = data['1st Differencing'].astype(int)\n",
    "\n",
    "plot_1stdata = px.line(data,x='Date',y='1st Differencing',title='1st Differencing Data cases times series plot')\n",
    "plot_1stdata.show()\n",
    "\n",
    "confirmedcase_1st = data['1st Differencing'].values\n",
    "first_adf_test = adfuller(confirmedcase_1st)\n",
    "\n",
    "print('The result of ADF test of raw data is:')\n",
    "\n",
    "print('ADF Statistic: %f' % first_adf_test[0])\n",
    "\n",
    "print('p-value: %f' % first_adf_test[1])\n",
    "\n",
    "print('Critical values:')\n",
    "for key,value in first_adf_test[4].items():\n",
    "    print(key,value)\n",
    "\n",
    "if first_adf_test[0] < first_adf_test[4]['5%']:\n",
    "    print('Reject H0 - Time Series is Stationary')\n",
    "else:\n",
    "    print('Failed to Reject H0 - Time Series is Non-Stationary')"
   ]
  },
  {
   "cell_type": "code",
   "execution_count": 33,
   "metadata": {},
   "outputs": [
    {
     "data": {
      "text/html": [
       "<div>\n",
       "<style scoped>\n",
       "    .dataframe tbody tr th:only-of-type {\n",
       "        vertical-align: middle;\n",
       "    }\n",
       "\n",
       "    .dataframe tbody tr th {\n",
       "        vertical-align: top;\n",
       "    }\n",
       "\n",
       "    .dataframe thead th {\n",
       "        text-align: right;\n",
       "    }\n",
       "</style>\n",
       "<table border=\"1\" class=\"dataframe\">\n",
       "  <thead>\n",
       "    <tr style=\"text-align: right;\">\n",
       "      <th></th>\n",
       "      <th>Date</th>\n",
       "      <th>Confirmed case</th>\n",
       "      <th>1st Differencing</th>\n",
       "    </tr>\n",
       "  </thead>\n",
       "  <tbody>\n",
       "    <tr>\n",
       "      <th>0</th>\n",
       "      <td>2021-04-27</td>\n",
       "      <td>0</td>\n",
       "      <td>0</td>\n",
       "    </tr>\n",
       "    <tr>\n",
       "      <th>1</th>\n",
       "      <td>2021-04-28</td>\n",
       "      <td>0</td>\n",
       "      <td>0</td>\n",
       "    </tr>\n",
       "    <tr>\n",
       "      <th>2</th>\n",
       "      <td>2021-04-29</td>\n",
       "      <td>1</td>\n",
       "      <td>1</td>\n",
       "    </tr>\n",
       "    <tr>\n",
       "      <th>3</th>\n",
       "      <td>2021-04-30</td>\n",
       "      <td>2</td>\n",
       "      <td>1</td>\n",
       "    </tr>\n",
       "    <tr>\n",
       "      <th>4</th>\n",
       "      <td>2021-05-01</td>\n",
       "      <td>3</td>\n",
       "      <td>1</td>\n",
       "    </tr>\n",
       "    <tr>\n",
       "      <th>...</th>\n",
       "      <td>...</td>\n",
       "      <td>...</td>\n",
       "      <td>...</td>\n",
       "    </tr>\n",
       "    <tr>\n",
       "      <th>206</th>\n",
       "      <td>2021-11-19</td>\n",
       "      <td>1339</td>\n",
       "      <td>-270</td>\n",
       "    </tr>\n",
       "    <tr>\n",
       "      <th>207</th>\n",
       "      <td>2021-11-20</td>\n",
       "      <td>1046</td>\n",
       "      <td>-293</td>\n",
       "    </tr>\n",
       "    <tr>\n",
       "      <th>208</th>\n",
       "      <td>2021-11-21</td>\n",
       "      <td>1265</td>\n",
       "      <td>219</td>\n",
       "    </tr>\n",
       "    <tr>\n",
       "      <th>209</th>\n",
       "      <td>2021-11-22</td>\n",
       "      <td>1547</td>\n",
       "      <td>282</td>\n",
       "    </tr>\n",
       "    <tr>\n",
       "      <th>210</th>\n",
       "      <td>2021-11-23</td>\n",
       "      <td>1204</td>\n",
       "      <td>-343</td>\n",
       "    </tr>\n",
       "  </tbody>\n",
       "</table>\n",
       "<p>211 rows × 3 columns</p>\n",
       "</div>"
      ],
      "text/plain": [
       "          Date  Confirmed case  1st Differencing\n",
       "0   2021-04-27               0                 0\n",
       "1   2021-04-28               0                 0\n",
       "2   2021-04-29               1                 1\n",
       "3   2021-04-30               2                 1\n",
       "4   2021-05-01               3                 1\n",
       "..         ...             ...               ...\n",
       "206 2021-11-19            1339              -270\n",
       "207 2021-11-20            1046              -293\n",
       "208 2021-11-21            1265               219\n",
       "209 2021-11-22            1547               282\n",
       "210 2021-11-23            1204              -343\n",
       "\n",
       "[211 rows x 3 columns]"
      ]
     },
     "execution_count": 33,
     "metadata": {},
     "output_type": "execute_result"
    }
   ],
   "source": [
    "data[['Date','Confirmed case','1st Differencing']]"
   ]
  },
  {
   "attachments": {},
   "cell_type": "markdown",
   "metadata": {},
   "source": [
    "3. AR(p) and MA(q) were determined using ACF and PACF method"
   ]
  },
  {
   "cell_type": "code",
   "execution_count": 34,
   "metadata": {},
   "outputs": [
    {
     "data": {
      "image/png": "[encoded data removed]",
      "text/plain": [
       "<Figure size 640x480 with 1 Axes>"
      ]
     },
     "metadata": {},
     "output_type": "display_data"
    }
   ],
   "source": [
    "acf_plot = plot_acf(data['1st Differencing'].dropna())"
   ]
  },
  {
   "cell_type": "code",
   "execution_count": 35,
   "metadata": {},
   "outputs": [
    {
     "data": {
      "image/png": "[encoded data removed]",
      "text/plain": [
       "<Figure size 640x480 with 1 Axes>"
      ]
     },
     "metadata": {},
     "output_type": "display_data"
    }
   ],
   "source": [
    "pacf_plot = plot_pacf(data['1st Differencing'].dropna(),method='ywm')"
   ]
  },
  {
   "attachments": {},
   "cell_type": "markdown",
   "metadata": {},
   "source": [
    "4. To implement the external parameters into the model, the study uses Pearson’s correlation to determine the relationships between Confirmed cases and external data defined. However, since the correlation can easily be calculated through excel, the following code only considers when the Beta parameters of external data have been defined and implement these parameters into the ARIMA model for simplicity:"
   ]
  },
  {
   "cell_type": "code",
   "execution_count": 36,
   "metadata": {},
   "outputs": [
    {
     "data": {
      "text/plain": [
       "0       41.73762\n",
       "1       41.40228\n",
       "2       41.60572\n",
       "3       38.66640\n",
       "4       36.94064\n",
       "         ...    \n",
       "206     97.95950\n",
       "207     92.91522\n",
       "208     49.98618\n",
       "209     39.64142\n",
       "210    116.89294\n",
       "Name: External, Length: 211, dtype: float64"
      ]
     },
     "execution_count": 36,
     "metadata": {},
     "output_type": "execute_result"
    }
   ],
   "source": [
    "vaccination = data['Vaccination coverage'].values\n",
    "social_distance = data['Social Distancing (m)'].values\n",
    "incubation = data['Incubation period (days)'].values\n",
    "generation_time = data['Generation time (days)'].values\n",
    "\n",
    "beta_vaccination = 0.361\n",
    "beta_distancing = 0.577\n",
    "beta_incubation = -0.03\n",
    "beta_genaration = 0.092\n",
    "\n",
    "x1 = beta_vaccination * vaccination\n",
    "x2 = beta_distancing * social_distance\n",
    "x3 = beta_incubation * incubation\n",
    "x4 = beta_genaration * generation_time\n",
    "\n",
    "data['External'] = x1 + x2 + x3 + x4\n",
    "data['External']"
   ]
  },
  {
   "attachments": {},
   "cell_type": "markdown",
   "metadata": {},
   "source": [
    "5. The ARIMA parameters and external parameters were used to forecast the COVID-19 confirmed cases in this stage, the following code provides a way to plot these data and include the real data for fitting. Noted that in this stage, a 95% confidence level is applied for COVID-19 confirmed cases collected"
   ]
  },
  {
   "cell_type": "code",
   "execution_count": 37,
   "metadata": {},
   "outputs": [
    {
     "data": {
      "text/html": [
       "<table class=\"simpletable\">\n",
       "<caption>SARIMAX Results</caption>\n",
       "<tr>\n",
       "  <th>Dep. Variable:</th>    <td>Confirmed case</td>  <th>  No. Observations:  </th>    <td>211</td>   \n",
       "</tr>\n",
       "<tr>\n",
       "  <th>Model:</th>            <td>ARIMA(1, 1, 0)</td>  <th>  Log Likelihood     </th> <td>-1687.058</td>\n",
       "</tr>\n",
       "<tr>\n",
       "  <th>Date:</th>            <td>Fri, 10 Feb 2023</td> <th>  AIC                </th> <td>3378.117</td> \n",
       "</tr>\n",
       "<tr>\n",
       "  <th>Time:</th>                <td>16:56:55</td>     <th>  BIC                </th> <td>3384.811</td> \n",
       "</tr>\n",
       "<tr>\n",
       "  <th>Sample:</th>                  <td>0</td>        <th>  HQIC               </th> <td>3380.823</td> \n",
       "</tr>\n",
       "<tr>\n",
       "  <th></th>                      <td> - 211</td>      <th>                     </th>     <td> </td>    \n",
       "</tr>\n",
       "<tr>\n",
       "  <th>Covariance Type:</th>        <td>opg</td>       <th>                     </th>     <td> </td>    \n",
       "</tr>\n",
       "</table>\n",
       "<table class=\"simpletable\">\n",
       "<tr>\n",
       "     <td></td>       <th>coef</th>     <th>std err</th>      <th>z</th>      <th>P>|z|</th>  <th>[0.025</th>    <th>0.975]</th>  \n",
       "</tr>\n",
       "<tr>\n",
       "  <th>ar.L1</th>  <td>   -0.6260</td> <td>    0.031</td> <td>  -20.099</td> <td> 0.000</td> <td>   -0.687</td> <td>   -0.565</td>\n",
       "</tr>\n",
       "<tr>\n",
       "  <th>sigma2</th> <td> 5.583e+05</td> <td> 3.01e+04</td> <td>   18.543</td> <td> 0.000</td> <td> 4.99e+05</td> <td> 6.17e+05</td>\n",
       "</tr>\n",
       "</table>\n",
       "<table class=\"simpletable\">\n",
       "<tr>\n",
       "  <th>Ljung-Box (L1) (Q):</th>     <td>1.14</td>  <th>  Jarque-Bera (JB):  </th> <td>186.55</td>\n",
       "</tr>\n",
       "<tr>\n",
       "  <th>Prob(Q):</th>                <td>0.28</td>  <th>  Prob(JB):          </th>  <td>0.00</td> \n",
       "</tr>\n",
       "<tr>\n",
       "  <th>Heteroskedasticity (H):</th> <td>41.01</td> <th>  Skew:              </th>  <td>0.02</td> \n",
       "</tr>\n",
       "<tr>\n",
       "  <th>Prob(H) (two-sided):</th>    <td>0.00</td>  <th>  Kurtosis:          </th>  <td>7.62</td> \n",
       "</tr>\n",
       "</table><br/><br/>Warnings:<br/>[1] Covariance matrix calculated using the outer product of gradients (complex-step)."
      ],
      "text/plain": [
       "<class 'statsmodels.iolib.summary.Summary'>\n",
       "\"\"\"\n",
       "                               SARIMAX Results                                \n",
       "==============================================================================\n",
       "Dep. Variable:         Confirmed case   No. Observations:                  211\n",
       "Model:                 ARIMA(1, 1, 0)   Log Likelihood               -1687.058\n",
       "Date:                Fri, 10 Feb 2023   AIC                           3378.117\n",
       "Time:                        16:56:55   BIC                           3384.811\n",
       "Sample:                             0   HQIC                          3380.823\n",
       "                                - 211                                         \n",
       "Covariance Type:                  opg                                         \n",
       "==============================================================================\n",
       "                 coef    std err          z      P>|z|      [0.025      0.975]\n",
       "------------------------------------------------------------------------------\n",
       "ar.L1         -0.6260      0.031    -20.099      0.000      -0.687      -0.565\n",
       "sigma2      5.583e+05   3.01e+04     18.543      0.000    4.99e+05    6.17e+05\n",
       "===================================================================================\n",
       "Ljung-Box (L1) (Q):                   1.14   Jarque-Bera (JB):               186.55\n",
       "Prob(Q):                              0.28   Prob(JB):                         0.00\n",
       "Heteroskedasticity (H):              41.01   Skew:                             0.02\n",
       "Prob(H) (two-sided):                  0.00   Kurtosis:                         7.62\n",
       "===================================================================================\n",
       "\n",
       "Warnings:\n",
       "[1] Covariance matrix calculated using the outer product of gradients (complex-step).\n",
       "\"\"\""
      ]
     },
     "execution_count": 37,
     "metadata": {},
     "output_type": "execute_result"
    }
   ],
   "source": [
    "# ARIMA model: provide a forecasting model ARIMA --> ARIMA (1,1,0)\n",
    "model = ARIMA(data['Confirmed case'],order=(1,1,0))\n",
    "result = model.fit()\n",
    "result.summary()"
   ]
  },
  {
   "cell_type": "code",
   "execution_count": 38,
   "metadata": {},
   "outputs": [
    {
     "data": {
      "text/html": [
       "<div>\n",
       "<style scoped>\n",
       "    .dataframe tbody tr th:only-of-type {\n",
       "        vertical-align: middle;\n",
       "    }\n",
       "\n",
       "    .dataframe tbody tr th {\n",
       "        vertical-align: top;\n",
       "    }\n",
       "\n",
       "    .dataframe thead th {\n",
       "        text-align: right;\n",
       "    }\n",
       "</style>\n",
       "<table border=\"1\" class=\"dataframe\">\n",
       "  <thead>\n",
       "    <tr style=\"text-align: right;\">\n",
       "      <th></th>\n",
       "      <th>Residuals</th>\n",
       "    </tr>\n",
       "  </thead>\n",
       "  <tbody>\n",
       "    <tr>\n",
       "      <th>0</th>\n",
       "      <td>0.000000</td>\n",
       "    </tr>\n",
       "    <tr>\n",
       "      <th>1</th>\n",
       "      <td>0.000000</td>\n",
       "    </tr>\n",
       "    <tr>\n",
       "      <th>2</th>\n",
       "      <td>1.000000</td>\n",
       "    </tr>\n",
       "    <tr>\n",
       "      <th>3</th>\n",
       "      <td>1.626001</td>\n",
       "    </tr>\n",
       "    <tr>\n",
       "      <th>4</th>\n",
       "      <td>1.626001</td>\n",
       "    </tr>\n",
       "    <tr>\n",
       "      <th>...</th>\n",
       "      <td>...</td>\n",
       "    </tr>\n",
       "    <tr>\n",
       "      <th>206</th>\n",
       "      <td>-99.727674</td>\n",
       "    </tr>\n",
       "    <tr>\n",
       "      <th>207</th>\n",
       "      <td>-462.020323</td>\n",
       "    </tr>\n",
       "    <tr>\n",
       "      <th>208</th>\n",
       "      <td>35.581649</td>\n",
       "    </tr>\n",
       "    <tr>\n",
       "      <th>209</th>\n",
       "      <td>419.094262</td>\n",
       "    </tr>\n",
       "    <tr>\n",
       "      <th>210</th>\n",
       "      <td>-166.467662</td>\n",
       "    </tr>\n",
       "  </tbody>\n",
       "</table>\n",
       "<p>211 rows × 1 columns</p>\n",
       "</div>"
      ],
      "text/plain": [
       "      Residuals\n",
       "0      0.000000\n",
       "1      0.000000\n",
       "2      1.000000\n",
       "3      1.626001\n",
       "4      1.626001\n",
       "..          ...\n",
       "206  -99.727674\n",
       "207 -462.020323\n",
       "208   35.581649\n",
       "209  419.094262\n",
       "210 -166.467662\n",
       "\n",
       "[211 rows x 1 columns]"
      ]
     },
     "execution_count": 38,
     "metadata": {},
     "output_type": "execute_result"
    }
   ],
   "source": [
    "df_residuals = pd.DataFrame(result.resid)\n",
    "\n",
    "df_residuals.columns = ['Residuals']\n",
    "df_residuals"
   ]
  },
  {
   "cell_type": "code",
   "execution_count": 39,
   "metadata": {},
   "outputs": [
    {
     "data": {
      "image/png": "[encoded data removed]",
      "text/plain": [
       "<Figure size 1280x480 with 2 Axes>"
      ]
     },
     "metadata": {},
     "output_type": "display_data"
    }
   ],
   "source": [
    "fig2,ax = plt.subplots(1,2,figsize=(16,6),dpi=80)\n",
    "\n",
    "df_residuals.plot(title='Residuals',ax=ax[0])\n",
    "df_residuals.plot(title='Density',ax=ax[1],kind='kde')\n",
    "plt.show()"
   ]
  },
  {
   "cell_type": "code",
   "execution_count": 40,
   "metadata": {},
   "outputs": [
    {
     "data": {
      "text/html": [
       "<div>\n",
       "<style scoped>\n",
       "    .dataframe tbody tr th:only-of-type {\n",
       "        vertical-align: middle;\n",
       "    }\n",
       "\n",
       "    .dataframe tbody tr th {\n",
       "        vertical-align: top;\n",
       "    }\n",
       "\n",
       "    .dataframe thead th {\n",
       "        text-align: right;\n",
       "    }\n",
       "</style>\n",
       "<table border=\"1\" class=\"dataframe\">\n",
       "  <thead>\n",
       "    <tr style=\"text-align: right;\">\n",
       "      <th></th>\n",
       "      <th>Residuals</th>\n",
       "    </tr>\n",
       "  </thead>\n",
       "  <tbody>\n",
       "    <tr>\n",
       "      <th>count</th>\n",
       "      <td>211.000000</td>\n",
       "    </tr>\n",
       "    <tr>\n",
       "      <th>mean</th>\n",
       "      <td>10.295848</td>\n",
       "    </tr>\n",
       "    <tr>\n",
       "      <th>std</th>\n",
       "      <td>745.370968</td>\n",
       "    </tr>\n",
       "    <tr>\n",
       "      <th>min</th>\n",
       "      <td>-2812.200952</td>\n",
       "    </tr>\n",
       "    <tr>\n",
       "      <th>25%</th>\n",
       "      <td>-139.528960</td>\n",
       "    </tr>\n",
       "    <tr>\n",
       "      <th>50%</th>\n",
       "      <td>1.626001</td>\n",
       "    </tr>\n",
       "    <tr>\n",
       "      <th>75%</th>\n",
       "      <td>183.659593</td>\n",
       "    </tr>\n",
       "    <tr>\n",
       "      <th>max</th>\n",
       "      <td>2919.096713</td>\n",
       "    </tr>\n",
       "  </tbody>\n",
       "</table>\n",
       "</div>"
      ],
      "text/plain": [
       "         Residuals\n",
       "count   211.000000\n",
       "mean     10.295848\n",
       "std     745.370968\n",
       "min   -2812.200952\n",
       "25%    -139.528960\n",
       "50%       1.626001\n",
       "75%     183.659593\n",
       "max    2919.096713"
      ]
     },
     "execution_count": 40,
     "metadata": {},
     "output_type": "execute_result"
    }
   ],
   "source": [
    "# Summary stats of residuals\n",
    "df_residuals.describe()"
   ]
  },
  {
   "cell_type": "code",
   "execution_count": 41,
   "metadata": {},
   "outputs": [
    {
     "data": {
      "text/html": [
       "<div>\n",
       "<style scoped>\n",
       "    .dataframe tbody tr th:only-of-type {\n",
       "        vertical-align: middle;\n",
       "    }\n",
       "\n",
       "    .dataframe tbody tr th {\n",
       "        vertical-align: top;\n",
       "    }\n",
       "\n",
       "    .dataframe thead th {\n",
       "        text-align: right;\n",
       "    }\n",
       "</style>\n",
       "<table border=\"1\" class=\"dataframe\">\n",
       "  <thead>\n",
       "    <tr style=\"text-align: right;\">\n",
       "      <th></th>\n",
       "      <th>Date</th>\n",
       "      <th>Confirmed case</th>\n",
       "      <th>Vaccination rate</th>\n",
       "      <th>Vaccination coverage</th>\n",
       "      <th>Social Distancing (m)</th>\n",
       "      <th>Incubation period (days)</th>\n",
       "      <th>Generation time (days)</th>\n",
       "      <th>1st Differencing</th>\n",
       "      <th>External</th>\n",
       "      <th>ARIMA(1,1,0)</th>\n",
       "      <th>Final Forecast Result</th>\n",
       "    </tr>\n",
       "  </thead>\n",
       "  <tbody>\n",
       "    <tr>\n",
       "      <th>0</th>\n",
       "      <td>2021-04-27</td>\n",
       "      <td>0</td>\n",
       "      <td>8047</td>\n",
       "      <td>112</td>\n",
       "      <td>2</td>\n",
       "      <td>3.41</td>\n",
       "      <td>2.76</td>\n",
       "      <td>0</td>\n",
       "      <td>41.73762</td>\n",
       "      <td>0</td>\n",
       "      <td>41</td>\n",
       "    </tr>\n",
       "    <tr>\n",
       "      <th>1</th>\n",
       "      <td>2021-04-28</td>\n",
       "      <td>0</td>\n",
       "      <td>7996</td>\n",
       "      <td>111</td>\n",
       "      <td>2</td>\n",
       "      <td>6.02</td>\n",
       "      <td>3.89</td>\n",
       "      <td>0</td>\n",
       "      <td>41.40228</td>\n",
       "      <td>0</td>\n",
       "      <td>41</td>\n",
       "    </tr>\n",
       "    <tr>\n",
       "      <th>2</th>\n",
       "      <td>2021-04-29</td>\n",
       "      <td>1</td>\n",
       "      <td>8043</td>\n",
       "      <td>112</td>\n",
       "      <td>2</td>\n",
       "      <td>7.04</td>\n",
       "      <td>2.51</td>\n",
       "      <td>1</td>\n",
       "      <td>41.60572</td>\n",
       "      <td>0</td>\n",
       "      <td>41</td>\n",
       "    </tr>\n",
       "    <tr>\n",
       "      <th>3</th>\n",
       "      <td>2021-04-30</td>\n",
       "      <td>2</td>\n",
       "      <td>7520</td>\n",
       "      <td>104</td>\n",
       "      <td>2</td>\n",
       "      <td>2.28</td>\n",
       "      <td>0.40</td>\n",
       "      <td>1</td>\n",
       "      <td>38.66640</td>\n",
       "      <td>0</td>\n",
       "      <td>38</td>\n",
       "    </tr>\n",
       "    <tr>\n",
       "      <th>4</th>\n",
       "      <td>2021-05-01</td>\n",
       "      <td>3</td>\n",
       "      <td>7055</td>\n",
       "      <td>98</td>\n",
       "      <td>2</td>\n",
       "      <td>1.16</td>\n",
       "      <td>4.82</td>\n",
       "      <td>1</td>\n",
       "      <td>36.94064</td>\n",
       "      <td>1</td>\n",
       "      <td>37</td>\n",
       "    </tr>\n",
       "    <tr>\n",
       "      <th>...</th>\n",
       "      <td>...</td>\n",
       "      <td>...</td>\n",
       "      <td>...</td>\n",
       "      <td>...</td>\n",
       "      <td>...</td>\n",
       "      <td>...</td>\n",
       "      <td>...</td>\n",
       "      <td>...</td>\n",
       "      <td>...</td>\n",
       "      <td>...</td>\n",
       "      <td>...</td>\n",
       "    </tr>\n",
       "    <tr>\n",
       "      <th>206</th>\n",
       "      <td>2021-11-19</td>\n",
       "      <td>1339</td>\n",
       "      <td>19214</td>\n",
       "      <td>267</td>\n",
       "      <td>2</td>\n",
       "      <td>3.53</td>\n",
       "      <td>5.70</td>\n",
       "      <td>-270</td>\n",
       "      <td>97.95950</td>\n",
       "      <td>1438</td>\n",
       "      <td>1535</td>\n",
       "    </tr>\n",
       "    <tr>\n",
       "      <th>207</th>\n",
       "      <td>2021-11-20</td>\n",
       "      <td>1046</td>\n",
       "      <td>18328</td>\n",
       "      <td>255</td>\n",
       "      <td>1</td>\n",
       "      <td>4.85</td>\n",
       "      <td>4.66</td>\n",
       "      <td>-293</td>\n",
       "      <td>92.91522</td>\n",
       "      <td>1508</td>\n",
       "      <td>1600</td>\n",
       "    </tr>\n",
       "    <tr>\n",
       "      <th>208</th>\n",
       "      <td>2021-11-21</td>\n",
       "      <td>1265</td>\n",
       "      <td>9881</td>\n",
       "      <td>137</td>\n",
       "      <td>1</td>\n",
       "      <td>3.25</td>\n",
       "      <td>0.54</td>\n",
       "      <td>219</td>\n",
       "      <td>49.98618</td>\n",
       "      <td>1229</td>\n",
       "      <td>1278</td>\n",
       "    </tr>\n",
       "    <tr>\n",
       "      <th>209</th>\n",
       "      <td>2021-11-22</td>\n",
       "      <td>1547</td>\n",
       "      <td>7754</td>\n",
       "      <td>108</td>\n",
       "      <td>1</td>\n",
       "      <td>3.31</td>\n",
       "      <td>1.91</td>\n",
       "      <td>282</td>\n",
       "      <td>39.64142</td>\n",
       "      <td>1127</td>\n",
       "      <td>1166</td>\n",
       "    </tr>\n",
       "    <tr>\n",
       "      <th>210</th>\n",
       "      <td>2021-11-23</td>\n",
       "      <td>1204</td>\n",
       "      <td>23182</td>\n",
       "      <td>322</td>\n",
       "      <td>1</td>\n",
       "      <td>5.57</td>\n",
       "      <td>2.62</td>\n",
       "      <td>-343</td>\n",
       "      <td>116.89294</td>\n",
       "      <td>1370</td>\n",
       "      <td>1486</td>\n",
       "    </tr>\n",
       "  </tbody>\n",
       "</table>\n",
       "<p>211 rows × 11 columns</p>\n",
       "</div>"
      ],
      "text/plain": [
       "          Date  Confirmed case  Vaccination rate  Vaccination coverage  \\\n",
       "0   2021-04-27               0              8047                   112   \n",
       "1   2021-04-28               0              7996                   111   \n",
       "2   2021-04-29               1              8043                   112   \n",
       "3   2021-04-30               2              7520                   104   \n",
       "4   2021-05-01               3              7055                    98   \n",
       "..         ...             ...               ...                   ...   \n",
       "206 2021-11-19            1339             19214                   267   \n",
       "207 2021-11-20            1046             18328                   255   \n",
       "208 2021-11-21            1265              9881                   137   \n",
       "209 2021-11-22            1547              7754                   108   \n",
       "210 2021-11-23            1204             23182                   322   \n",
       "\n",
       "     Social Distancing (m)  Incubation period (days)  Generation time (days)  \\\n",
       "0                        2                      3.41                    2.76   \n",
       "1                        2                      6.02                    3.89   \n",
       "2                        2                      7.04                    2.51   \n",
       "3                        2                      2.28                    0.40   \n",
       "4                        2                      1.16                    4.82   \n",
       "..                     ...                       ...                     ...   \n",
       "206                      2                      3.53                    5.70   \n",
       "207                      1                      4.85                    4.66   \n",
       "208                      1                      3.25                    0.54   \n",
       "209                      1                      3.31                    1.91   \n",
       "210                      1                      5.57                    2.62   \n",
       "\n",
       "     1st Differencing   External  ARIMA(1,1,0)  Final Forecast Result  \n",
       "0                   0   41.73762             0                     41  \n",
       "1                   0   41.40228             0                     41  \n",
       "2                   1   41.60572             0                     41  \n",
       "3                   1   38.66640             0                     38  \n",
       "4                   1   36.94064             1                     37  \n",
       "..                ...        ...           ...                    ...  \n",
       "206              -270   97.95950          1438                   1535  \n",
       "207              -293   92.91522          1508                   1600  \n",
       "208               219   49.98618          1229                   1278  \n",
       "209               282   39.64142          1127                   1166  \n",
       "210              -343  116.89294          1370                   1486  \n",
       "\n",
       "[211 rows x 11 columns]"
      ]
     },
     "execution_count": 41,
     "metadata": {},
     "output_type": "execute_result"
    }
   ],
   "source": [
    "data['ARIMA(1,1,0)'] = result.predict(start=0,end=211,dynamic=False)\n",
    "data['ARIMA(1,1,0)'] = data['ARIMA(1,1,0)'].astype(int)\n",
    "data['Final Forecast Result'] = data['ARIMA(1,1,0)'] + data['External']\n",
    "data['Final Forecast Result'] = data['Final Forecast Result'].astype(int)\n",
    "data"
   ]
  },
  {
   "cell_type": "code",
   "execution_count": 42,
   "metadata": {},
   "outputs": [
    {
     "name": "stderr",
     "output_type": "stream",
     "text": [
      "/home/b/anaconda3/lib/python3.9/site-packages/plotly/io/_renderers.py:395: DeprecationWarning:\n",
      "\n",
      "distutils Version classes are deprecated. Use packaging.version instead.\n",
      "\n"
     ]
    },
    {
     "data": {
      "application/vnd.plotly.v1+json": {
       "config": {
        "plotlyServerURL": "https://plot.ly"
       },
       "data": [
        {
         "name": "COVID-19 Confirmed Cases",
         "type": "scatter",
         "x": [
          "2021-04-27T00:00:00",
          "2021-04-28T00:00:00",
          "2021-04-29T00:00:00",
          "2021-04-30T00:00:00",
          "2021-05-01T00:00:00",
          "2021-05-02T00:00:00",
          "2021-05-03T00:00:00",
          "2021-05-04T00:00:00",
          "2021-05-05T00:00:00",
          "2021-05-06T00:00:00",
          "2021-05-07T00:00:00",
          "2021-05-08T00:00:00",
          "2021-05-09T00:00:00",
          "2021-05-10T00:00:00",
          "2021-05-11T00:00:00",
          "2021-05-12T00:00:00",
          "2021-05-13T00:00:00",
          "2021-05-14T00:00:00",
          "2021-05-15T00:00:00",
          "2021-05-16T00:00:00",
          "2021-05-17T00:00:00",
          "2021-05-18T00:00:00",
          "2021-05-19T00:00:00",
          "2021-05-20T00:00:00",
          "2021-05-21T00:00:00",
          "2021-05-22T00:00:00",
          "2021-05-23T00:00:00",
          "2021-05-24T00:00:00",
          "2021-05-25T00:00:00",
          "2021-05-26T00:00:00",
          "2021-05-27T00:00:00",
          "2021-05-28T00:00:00",
          "2021-05-29T00:00:00",
          "2021-05-30T00:00:00",
          "2021-05-31T00:00:00",
          "2021-06-01T00:00:00",
          "2021-06-02T00:00:00",
          "2021-06-03T00:00:00",
          "2021-06-04T00:00:00",
          "2021-06-05T00:00:00",
          "2021-06-06T00:00:00",
          "2021-06-07T00:00:00",
          "2021-06-08T00:00:00",
          "2021-06-09T00:00:00",
          "2021-06-10T00:00:00",
          "2021-06-11T00:00:00",
          "2021-06-12T00:00:00",
          "2021-06-13T00:00:00",
          "2021-06-14T00:00:00",
          "2021-06-15T00:00:00",
          "2021-06-16T00:00:00",
          "2021-06-17T00:00:00",
          "2021-06-18T00:00:00",
          "2021-06-19T00:00:00",
          "2021-06-20T00:00:00",
          "2021-06-21T00:00:00",
          "2021-06-22T00:00:00",
          "2021-06-23T00:00:00",
          "2021-06-24T00:00:00",
          "2021-06-25T00:00:00",
          "2021-06-26T00:00:00",
          "2021-06-27T00:00:00",
          "2021-06-28T00:00:00",
          "2021-06-29T00:00:00",
          "2021-06-30T00:00:00",
          "2021-07-01T00:00:00",
          "2021-07-02T00:00:00",
          "2021-07-03T00:00:00",
          "2021-07-04T00:00:00",
          "2021-07-05T00:00:00",
          "2021-07-06T00:00:00",
          "2021-07-07T00:00:00",
          "2021-07-08T00:00:00",
          "2021-07-09T00:00:00",
          "2021-07-10T00:00:00",
          "2021-07-11T00:00:00",
          "2021-07-12T00:00:00",
          "2021-07-13T00:00:00",
          "2021-07-14T00:00:00",
          "2021-07-15T00:00:00",
          "2021-07-16T00:00:00",
          "2021-07-17T00:00:00",
          "2021-07-18T00:00:00",
          "2021-07-19T00:00:00",
          "2021-07-20T00:00:00",
          "2021-07-21T00:00:00",
          "2021-07-22T00:00:00",
          "2021-07-23T00:00:00",
          "2021-07-24T00:00:00",
          "2021-07-25T00:00:00",
          "2021-07-26T00:00:00",
          "2021-07-27T00:00:00",
          "2021-07-28T00:00:00",
          "2021-07-29T00:00:00",
          "2021-07-30T00:00:00",
          "2021-07-31T00:00:00",
          "2021-08-01T00:00:00",
          "2021-08-02T00:00:00",
          "2021-08-03T00:00:00",
          "2021-08-04T00:00:00",
          "2021-08-05T00:00:00",
          "2021-08-06T00:00:00",
          "2021-08-07T00:00:00",
          "2021-08-08T00:00:00",
          "2021-08-09T00:00:00",
          "2021-08-10T00:00:00",
          "2021-08-11T00:00:00",
          "2021-08-12T00:00:00",
          "2021-08-13T00:00:00",
          "2021-08-14T00:00:00",
          "2021-08-15T00:00:00",
          "2021-08-16T00:00:00",
          "2021-08-17T00:00:00",
          "2021-08-18T00:00:00",
          "2021-08-19T00:00:00",
          "2021-08-20T00:00:00",
          "2021-08-21T00:00:00",
          "2021-08-22T00:00:00",
          "2021-08-23T00:00:00",
          "2021-08-24T00:00:00",
          "2021-08-25T00:00:00",
          "2021-08-26T00:00:00",
          "2021-08-27T00:00:00",
          "2021-08-28T00:00:00",
          "2021-08-29T00:00:00",
          "2021-08-30T00:00:00",
          "2021-08-31T00:00:00",
          "2021-09-01T00:00:00",
          "2021-09-02T00:00:00",
          "2021-09-03T00:00:00",
          "2021-09-04T00:00:00",
          "2021-09-05T00:00:00",
          "2021-09-06T00:00:00",
          "2021-09-07T00:00:00",
          "2021-09-08T00:00:00",
          "2021-09-09T00:00:00",
          "2021-09-10T00:00:00",
          "2021-09-11T00:00:00",
          "2021-09-12T00:00:00",
          "2021-09-13T00:00:00",
          "2021-09-14T00:00:00",
          "2021-09-15T00:00:00",
          "2021-09-16T00:00:00",
          "2021-09-17T00:00:00",
          "2021-09-18T00:00:00",
          "2021-09-19T00:00:00",
          "2021-09-20T00:00:00",
          "2021-09-21T00:00:00",
          "2021-09-22T00:00:00",
          "2021-09-23T00:00:00",
          "2021-09-24T00:00:00",
          "2021-09-25T00:00:00",
          "2021-09-26T00:00:00",
          "2021-09-27T00:00:00",
          "2021-09-28T00:00:00",
          "2021-09-29T00:00:00",
          "2021-09-30T00:00:00",
          "2021-10-01T00:00:00",
          "2021-10-02T00:00:00",
          "2021-10-03T00:00:00",
          "2021-10-04T00:00:00",
          "2021-10-05T00:00:00",
          "2021-10-06T00:00:00",
          "2021-10-07T00:00:00",
          "2021-10-08T00:00:00",
          "2021-10-09T00:00:00",
          "2021-10-10T00:00:00",
          "2021-10-11T00:00:00",
          "2021-10-12T00:00:00",
          "2021-10-13T00:00:00",
          "2021-10-14T00:00:00",
          "2021-10-15T00:00:00",
          "2021-10-16T00:00:00",
          "2021-10-17T00:00:00",
          "2021-10-18T00:00:00",
          "2021-10-19T00:00:00",
          "2021-10-20T00:00:00",
          "2021-10-21T00:00:00",
          "2021-10-22T00:00:00",
          "2021-10-23T00:00:00",
          "2021-10-24T00:00:00",
          "2021-10-25T00:00:00",
          "2021-10-26T00:00:00",
          "2021-10-27T00:00:00",
          "2021-10-28T00:00:00",
          "2021-10-29T00:00:00",
          "2021-10-30T00:00:00",
          "2021-10-31T00:00:00",
          "2021-11-01T00:00:00",
          "2021-11-02T00:00:00",
          "2021-11-03T00:00:00",
          "2021-11-04T00:00:00",
          "2021-11-05T00:00:00",
          "2021-11-06T00:00:00",
          "2021-11-07T00:00:00",
          "2021-11-08T00:00:00",
          "2021-11-09T00:00:00",
          "2021-11-10T00:00:00",
          "2021-11-11T00:00:00",
          "2021-11-12T00:00:00",
          "2021-11-13T00:00:00",
          "2021-11-14T00:00:00",
          "2021-11-15T00:00:00",
          "2021-11-16T00:00:00",
          "2021-11-17T00:00:00",
          "2021-11-18T00:00:00",
          "2021-11-19T00:00:00",
          "2021-11-20T00:00:00",
          "2021-11-21T00:00:00",
          "2021-11-22T00:00:00",
          "2021-11-23T00:00:00"
         ],
         "y": [
          0,
          0,
          1,
          2,
          3,
          0,
          0,
          3,
          1,
          0,
          2,
          1,
          0,
          0,
          3,
          0,
          0,
          0,
          0,
          0,
          2,
          1,
          1,
          3,
          0,
          0,
          0,
          1,
          1,
          0,
          36,
          0,
          0,
          51,
          0,
          0,
          33,
          0,
          36,
          31,
          33,
          69,
          39,
          66,
          45,
          58,
          84,
          95,
          86,
          90,
          100,
          137,
          149,
          135,
          137,
          166,
          136,
          152,
          207,
          165,
          621,
          230,
          218,
          155,
          249,
          464,
          419,
          714,
          599,
          641,
          710,
          766,
          915,
          1229,
          1320,
          1397,
          1764,
          1802,
          2229,
          2691,
          2436,
          3420,
          4083,
          3074,
          3322,
          3558,
          4473,
          4913,
          5546,
          4555,
          6097,
          6622,
          4045,
          2877,
          1541,
          4180,
          2025,
          2267,
          4171,
          936,
          3886,
          1497,
          5827,
          2002,
          4132,
          1466,
          3609,
          1521,
          3399,
          4915,
          3975,
          2855,
          3740,
          3873,
          4307,
          3504,
          4084,
          4193,
          4251,
          4634,
          5294,
          3934,
          5383,
          5481,
          4957,
          5889,
          5444,
          5368,
          5964,
          8510,
          4104,
          6226,
          7122,
          7310,
          7308,
          5549,
          7539,
          5629,
          6158,
          5446,
          6315,
          5301,
          5735,
          5972,
          4273,
          5496,
          5172,
          6521,
          5435,
          5052,
          3786,
          4050,
          5121,
          4134,
          3749,
          4699,
          4372,
          3670,
          2723,
          2461,
          2490,
          1491,
          1960,
          1730,
          2215,
          1662,
          1067,
          1527,
          1018,
          1162,
          909,
          1131,
          790,
          1059,
          968,
          907,
          1347,
          1255,
          1205,
          749,
          966,
          969,
          783,
          1140,
          1069,
          977,
          1042,
          1041,
          927,
          682,
          985,
          981,
          912,
          986,
          1009,
          1316,
          1276,
          1414,
          1185,
          1388,
          1240,
          985,
          1165,
          1183,
          1337,
          1609,
          1339,
          1046,
          1265,
          1547,
          1204
         ]
        },
        {
         "name": "ARIMA(1,1,0) Forecast",
         "type": "scatter",
         "x": [
          "2021-04-27T00:00:00",
          "2021-04-28T00:00:00",
          "2021-04-29T00:00:00",
          "2021-04-30T00:00:00",
          "2021-05-01T00:00:00",
          "2021-05-02T00:00:00",
          "2021-05-03T00:00:00",
          "2021-05-04T00:00:00",
          "2021-05-05T00:00:00",
          "2021-05-06T00:00:00",
          "2021-05-07T00:00:00",
          "2021-05-08T00:00:00",
          "2021-05-09T00:00:00",
          "2021-05-10T00:00:00",
          "2021-05-11T00:00:00",
          "2021-05-12T00:00:00",
          "2021-05-13T00:00:00",
          "2021-05-14T00:00:00",
          "2021-05-15T00:00:00",
          "2021-05-16T00:00:00",
          "2021-05-17T00:00:00",
          "2021-05-18T00:00:00",
          "2021-05-19T00:00:00",
          "2021-05-20T00:00:00",
          "2021-05-21T00:00:00",
          "2021-05-22T00:00:00",
          "2021-05-23T00:00:00",
          "2021-05-24T00:00:00",
          "2021-05-25T00:00:00",
          "2021-05-26T00:00:00",
          "2021-05-27T00:00:00",
          "2021-05-28T00:00:00",
          "2021-05-29T00:00:00",
          "2021-05-30T00:00:00",
          "2021-05-31T00:00:00",
          "2021-06-01T00:00:00",
          "2021-06-02T00:00:00",
          "2021-06-03T00:00:00",
          "2021-06-04T00:00:00",
          "2021-06-05T00:00:00",
          "2021-06-06T00:00:00",
          "2021-06-07T00:00:00",
          "2021-06-08T00:00:00",
          "2021-06-09T00:00:00",
          "2021-06-10T00:00:00",
          "2021-06-11T00:00:00",
          "2021-06-12T00:00:00",
          "2021-06-13T00:00:00",
          "2021-06-14T00:00:00",
          "2021-06-15T00:00:00",
          "2021-06-16T00:00:00",
          "2021-06-17T00:00:00",
          "2021-06-18T00:00:00",
          "2021-06-19T00:00:00",
          "2021-06-20T00:00:00",
          "2021-06-21T00:00:00",
          "2021-06-22T00:00:00",
          "2021-06-23T00:00:00",
          "2021-06-24T00:00:00",
          "2021-06-25T00:00:00",
          "2021-06-26T00:00:00",
          "2021-06-27T00:00:00",
          "2021-06-28T00:00:00",
          "2021-06-29T00:00:00",
          "2021-06-30T00:00:00",
          "2021-07-01T00:00:00",
          "2021-07-02T00:00:00",
          "2021-07-03T00:00:00",
          "2021-07-04T00:00:00",
          "2021-07-05T00:00:00",
          "2021-07-06T00:00:00",
          "2021-07-07T00:00:00",
          "2021-07-08T00:00:00",
          "2021-07-09T00:00:00",
          "2021-07-10T00:00:00",
          "2021-07-11T00:00:00",
          "2021-07-12T00:00:00",
          "2021-07-13T00:00:00",
          "2021-07-14T00:00:00",
          "2021-07-15T00:00:00",
          "2021-07-16T00:00:00",
          "2021-07-17T00:00:00",
          "2021-07-18T00:00:00",
          "2021-07-19T00:00:00",
          "2021-07-20T00:00:00",
          "2021-07-21T00:00:00",
          "2021-07-22T00:00:00",
          "2021-07-23T00:00:00",
          "2021-07-24T00:00:00",
          "2021-07-25T00:00:00",
          "2021-07-26T00:00:00",
          "2021-07-27T00:00:00",
          "2021-07-28T00:00:00",
          "2021-07-29T00:00:00",
          "2021-07-30T00:00:00",
          "2021-07-31T00:00:00",
          "2021-08-01T00:00:00",
          "2021-08-02T00:00:00",
          "2021-08-03T00:00:00",
          "2021-08-04T00:00:00",
          "2021-08-05T00:00:00",
          "2021-08-06T00:00:00",
          "2021-08-07T00:00:00",
          "2021-08-08T00:00:00",
          "2021-08-09T00:00:00",
          "2021-08-10T00:00:00",
          "2021-08-11T00:00:00",
          "2021-08-12T00:00:00",
          "2021-08-13T00:00:00",
          "2021-08-14T00:00:00",
          "2021-08-15T00:00:00",
          "2021-08-16T00:00:00",
          "2021-08-17T00:00:00",
          "2021-08-18T00:00:00",
          "2021-08-19T00:00:00",
          "2021-08-20T00:00:00",
          "2021-08-21T00:00:00",
          "2021-08-22T00:00:00",
          "2021-08-23T00:00:00",
          "2021-08-24T00:00:00",
          "2021-08-25T00:00:00",
          "2021-08-26T00:00:00",
          "2021-08-27T00:00:00",
          "2021-08-28T00:00:00",
          "2021-08-29T00:00:00",
          "2021-08-30T00:00:00",
          "2021-08-31T00:00:00",
          "2021-09-01T00:00:00",
          "2021-09-02T00:00:00",
          "2021-09-03T00:00:00",
          "2021-09-04T00:00:00",
          "2021-09-05T00:00:00",
          "2021-09-06T00:00:00",
          "2021-09-07T00:00:00",
          "2021-09-08T00:00:00",
          "2021-09-09T00:00:00",
          "2021-09-10T00:00:00",
          "2021-09-11T00:00:00",
          "2021-09-12T00:00:00",
          "2021-09-13T00:00:00",
          "2021-09-14T00:00:00",
          "2021-09-15T00:00:00",
          "2021-09-16T00:00:00",
          "2021-09-17T00:00:00",
          "2021-09-18T00:00:00",
          "2021-09-19T00:00:00",
          "2021-09-20T00:00:00",
          "2021-09-21T00:00:00",
          "2021-09-22T00:00:00",
          "2021-09-23T00:00:00",
          "2021-09-24T00:00:00",
          "2021-09-25T00:00:00",
          "2021-09-26T00:00:00",
          "2021-09-27T00:00:00",
          "2021-09-28T00:00:00",
          "2021-09-29T00:00:00",
          "2021-09-30T00:00:00",
          "2021-10-01T00:00:00",
          "2021-10-02T00:00:00",
          "2021-10-03T00:00:00",
          "2021-10-04T00:00:00",
          "2021-10-05T00:00:00",
          "2021-10-06T00:00:00",
          "2021-10-07T00:00:00",
          "2021-10-08T00:00:00",
          "2021-10-09T00:00:00",
          "2021-10-10T00:00:00",
          "2021-10-11T00:00:00",
          "2021-10-12T00:00:00",
          "2021-10-13T00:00:00",
          "2021-10-14T00:00:00",
          "2021-10-15T00:00:00",
          "2021-10-16T00:00:00",
          "2021-10-17T00:00:00",
          "2021-10-18T00:00:00",
          "2021-10-19T00:00:00",
          "2021-10-20T00:00:00",
          "2021-10-21T00:00:00",
          "2021-10-22T00:00:00",
          "2021-10-23T00:00:00",
          "2021-10-24T00:00:00",
          "2021-10-25T00:00:00",
          "2021-10-26T00:00:00",
          "2021-10-27T00:00:00",
          "2021-10-28T00:00:00",
          "2021-10-29T00:00:00",
          "2021-10-30T00:00:00",
          "2021-10-31T00:00:00",
          "2021-11-01T00:00:00",
          "2021-11-02T00:00:00",
          "2021-11-03T00:00:00",
          "2021-11-04T00:00:00",
          "2021-11-05T00:00:00",
          "2021-11-06T00:00:00",
          "2021-11-07T00:00:00",
          "2021-11-08T00:00:00",
          "2021-11-09T00:00:00",
          "2021-11-10T00:00:00",
          "2021-11-11T00:00:00",
          "2021-11-12T00:00:00",
          "2021-11-13T00:00:00",
          "2021-11-14T00:00:00",
          "2021-11-15T00:00:00",
          "2021-11-16T00:00:00",
          "2021-11-17T00:00:00",
          "2021-11-18T00:00:00",
          "2021-11-19T00:00:00",
          "2021-11-20T00:00:00",
          "2021-11-21T00:00:00",
          "2021-11-22T00:00:00",
          "2021-11-23T00:00:00"
         ],
         "y": [
          41,
          41,
          41,
          38,
          37,
          35,
          19,
          6,
          9,
          12,
          10,
          11,
          12,
          10,
          8,
          7,
          6,
          5,
          5,
          6,
          5,
          4,
          5,
          4,
          3,
          3,
          2,
          2,
          2,
          3,
          2,
          15,
          24,
          2,
          21,
          33,
          2,
          14,
          22,
          15,
          36,
          33,
          48,
          59,
          51,
          60,
          51,
          69,
          90,
          93,
          89,
          95,
          115,
          158,
          176,
          183,
          195,
          290,
          400,
          541,
          654,
          782,
          951,
          748,
          630,
          502,
          532,
          540,
          622,
          717,
          615,
          668,
          732,
          823,
          1034,
          1265,
          1350,
          1536,
          1780,
          1964,
          2404,
          2598,
          2808,
          3671,
          3708,
          3170,
          3428,
          3917,
          4722,
          5332,
          5416,
          5332,
          6642,
          6024,
          4002,
          2794,
          3008,
          3969,
          2678,
          3711,
          6330,
          3296,
          4051,
          4720,
          6218,
          4233,
          4615,
          3852,
          3301,
          2654,
          4957,
          5540,
          4191,
          3943,
          4504,
          4621,
          4487,
          4030,
          4422,
          4406,
          4687,
          5143,
          5101,
          4676,
          5585,
          5438,
          5509,
          5892,
          5735,
          5802,
          7295,
          7304,
          5430,
          7372,
          8015,
          8255,
          7574,
          7371,
          8061,
          6701,
          6781,
          6519,
          6535,
          5857,
          6259,
          5778,
          4884,
          5737,
          8252,
          6455,
          5649,
          5255,
          5077,
          5485,
          5420,
          5626,
          5368,
          5367,
          5462,
          4487,
          4047,
          3601,
          2989,
          2314,
          2386,
          2316,
          2491,
          1724,
          1549,
          1594,
          1253,
          1262,
          1132,
          1131,
          967,
          1143,
          1051,
          1178,
          1414,
          1354,
          1119,
          871,
          1086,
          1016,
          1098,
          1459,
          1381,
          1164,
          1181,
          1149,
          970,
          918,
          1092,
          1088,
          1009,
          1022,
          1228,
          1382,
          1409,
          1562,
          1385,
          1402,
          1169,
          1144,
          1368,
          1333,
          1535,
          1600,
          1278,
          1166,
          1486
         ]
        },
        {
         "fill": "tonexty",
         "line": {
          "width": 0
         },
         "name": "CI fill upper",
         "opacity": 0.5,
         "type": "scatter",
         "x": [
          "2021-04-27T00:00:00",
          "2021-04-28T00:00:00",
          "2021-04-29T00:00:00",
          "2021-04-30T00:00:00",
          "2021-05-01T00:00:00",
          "2021-05-02T00:00:00",
          "2021-05-03T00:00:00",
          "2021-05-04T00:00:00",
          "2021-05-05T00:00:00",
          "2021-05-06T00:00:00",
          "2021-05-07T00:00:00",
          "2021-05-08T00:00:00",
          "2021-05-09T00:00:00",
          "2021-05-10T00:00:00",
          "2021-05-11T00:00:00",
          "2021-05-12T00:00:00",
          "2021-05-13T00:00:00",
          "2021-05-14T00:00:00",
          "2021-05-15T00:00:00",
          "2021-05-16T00:00:00",
          "2021-05-17T00:00:00",
          "2021-05-18T00:00:00",
          "2021-05-19T00:00:00",
          "2021-05-20T00:00:00",
          "2021-05-21T00:00:00",
          "2021-05-22T00:00:00",
          "2021-05-23T00:00:00",
          "2021-05-24T00:00:00",
          "2021-05-25T00:00:00",
          "2021-05-26T00:00:00",
          "2021-05-27T00:00:00",
          "2021-05-28T00:00:00",
          "2021-05-29T00:00:00",
          "2021-05-30T00:00:00",
          "2021-05-31T00:00:00",
          "2021-06-01T00:00:00",
          "2021-06-02T00:00:00",
          "2021-06-03T00:00:00",
          "2021-06-04T00:00:00",
          "2021-06-05T00:00:00",
          "2021-06-06T00:00:00",
          "2021-06-07T00:00:00",
          "2021-06-08T00:00:00",
          "2021-06-09T00:00:00",
          "2021-06-10T00:00:00",
          "2021-06-11T00:00:00",
          "2021-06-12T00:00:00",
          "2021-06-13T00:00:00",
          "2021-06-14T00:00:00",
          "2021-06-15T00:00:00",
          "2021-06-16T00:00:00",
          "2021-06-17T00:00:00",
          "2021-06-18T00:00:00",
          "2021-06-19T00:00:00",
          "2021-06-20T00:00:00",
          "2021-06-21T00:00:00",
          "2021-06-22T00:00:00",
          "2021-06-23T00:00:00",
          "2021-06-24T00:00:00",
          "2021-06-25T00:00:00",
          "2021-06-26T00:00:00",
          "2021-06-27T00:00:00",
          "2021-06-28T00:00:00",
          "2021-06-29T00:00:00",
          "2021-06-30T00:00:00",
          "2021-07-01T00:00:00",
          "2021-07-02T00:00:00",
          "2021-07-03T00:00:00",
          "2021-07-04T00:00:00",
          "2021-07-05T00:00:00",
          "2021-07-06T00:00:00",
          "2021-07-07T00:00:00",
          "2021-07-08T00:00:00",
          "2021-07-09T00:00:00",
          "2021-07-10T00:00:00",
          "2021-07-11T00:00:00",
          "2021-07-12T00:00:00",
          "2021-07-13T00:00:00",
          "2021-07-14T00:00:00",
          "2021-07-15T00:00:00",
          "2021-07-16T00:00:00",
          "2021-07-17T00:00:00",
          "2021-07-18T00:00:00",
          "2021-07-19T00:00:00",
          "2021-07-20T00:00:00",
          "2021-07-21T00:00:00",
          "2021-07-22T00:00:00",
          "2021-07-23T00:00:00",
          "2021-07-24T00:00:00",
          "2021-07-25T00:00:00",
          "2021-07-26T00:00:00",
          "2021-07-27T00:00:00",
          "2021-07-28T00:00:00",
          "2021-07-29T00:00:00",
          "2021-07-30T00:00:00",
          "2021-07-31T00:00:00",
          "2021-08-01T00:00:00",
          "2021-08-02T00:00:00",
          "2021-08-03T00:00:00",
          "2021-08-04T00:00:00",
          "2021-08-05T00:00:00",
          "2021-08-06T00:00:00",
          "2021-08-07T00:00:00",
          "2021-08-08T00:00:00",
          "2021-08-09T00:00:00",
          "2021-08-10T00:00:00",
          "2021-08-11T00:00:00",
          "2021-08-12T00:00:00",
          "2021-08-13T00:00:00",
          "2021-08-14T00:00:00",
          "2021-08-15T00:00:00",
          "2021-08-16T00:00:00",
          "2021-08-17T00:00:00",
          "2021-08-18T00:00:00",
          "2021-08-19T00:00:00",
          "2021-08-20T00:00:00",
          "2021-08-21T00:00:00",
          "2021-08-22T00:00:00",
          "2021-08-23T00:00:00",
          "2021-08-24T00:00:00",
          "2021-08-25T00:00:00",
          "2021-08-26T00:00:00",
          "2021-08-27T00:00:00",
          "2021-08-28T00:00:00",
          "2021-08-29T00:00:00",
          "2021-08-30T00:00:00",
          "2021-08-31T00:00:00",
          "2021-09-01T00:00:00",
          "2021-09-02T00:00:00",
          "2021-09-03T00:00:00",
          "2021-09-04T00:00:00",
          "2021-09-05T00:00:00",
          "2021-09-06T00:00:00",
          "2021-09-07T00:00:00",
          "2021-09-08T00:00:00",
          "2021-09-09T00:00:00",
          "2021-09-10T00:00:00",
          "2021-09-11T00:00:00",
          "2021-09-12T00:00:00",
          "2021-09-13T00:00:00",
          "2021-09-14T00:00:00",
          "2021-09-15T00:00:00",
          "2021-09-16T00:00:00",
          "2021-09-17T00:00:00",
          "2021-09-18T00:00:00",
          "2021-09-19T00:00:00",
          "2021-09-20T00:00:00",
          "2021-09-21T00:00:00",
          "2021-09-22T00:00:00",
          "2021-09-23T00:00:00",
          "2021-09-24T00:00:00",
          "2021-09-25T00:00:00",
          "2021-09-26T00:00:00",
          "2021-09-27T00:00:00",
          "2021-09-28T00:00:00",
          "2021-09-29T00:00:00",
          "2021-09-30T00:00:00",
          "2021-10-01T00:00:00",
          "2021-10-02T00:00:00",
          "2021-10-03T00:00:00",
          "2021-10-04T00:00:00",
          "2021-10-05T00:00:00",
          "2021-10-06T00:00:00",
          "2021-10-07T00:00:00",
          "2021-10-08T00:00:00",
          "2021-10-09T00:00:00",
          "2021-10-10T00:00:00",
          "2021-10-11T00:00:00",
          "2021-10-12T00:00:00",
          "2021-10-13T00:00:00",
          "2021-10-14T00:00:00",
          "2021-10-15T00:00:00",
          "2021-10-16T00:00:00",
          "2021-10-17T00:00:00",
          "2021-10-18T00:00:00",
          "2021-10-19T00:00:00",
          "2021-10-20T00:00:00",
          "2021-10-21T00:00:00",
          "2021-10-22T00:00:00",
          "2021-10-23T00:00:00",
          "2021-10-24T00:00:00",
          "2021-10-25T00:00:00",
          "2021-10-26T00:00:00",
          "2021-10-27T00:00:00",
          "2021-10-28T00:00:00",
          "2021-10-29T00:00:00",
          "2021-10-30T00:00:00",
          "2021-10-31T00:00:00",
          "2021-11-01T00:00:00",
          "2021-11-02T00:00:00",
          "2021-11-03T00:00:00",
          "2021-11-04T00:00:00",
          "2021-11-05T00:00:00",
          "2021-11-06T00:00:00",
          "2021-11-07T00:00:00",
          "2021-11-08T00:00:00",
          "2021-11-09T00:00:00",
          "2021-11-10T00:00:00",
          "2021-11-11T00:00:00",
          "2021-11-12T00:00:00",
          "2021-11-13T00:00:00",
          "2021-11-14T00:00:00",
          "2021-11-15T00:00:00",
          "2021-11-16T00:00:00",
          "2021-11-17T00:00:00",
          "2021-11-18T00:00:00",
          "2021-11-19T00:00:00",
          "2021-11-20T00:00:00",
          "2021-11-21T00:00:00",
          "2021-11-22T00:00:00",
          "2021-11-23T00:00:00"
         ],
         "y": [
          290.47672277122643,
          290.47672277122643,
          291.47672277122643,
          292.47672277122643,
          293.47672277122643,
          290.47672277122643,
          290.47672277122643,
          293.47672277122643,
          291.47672277122643,
          290.47672277122643,
          292.47672277122643,
          291.47672277122643,
          290.47672277122643,
          290.47672277122643,
          293.47672277122643,
          290.47672277122643,
          290.47672277122643,
          290.47672277122643,
          290.47672277122643,
          290.47672277122643,
          292.47672277122643,
          291.47672277122643,
          291.47672277122643,
          293.47672277122643,
          290.47672277122643,
          290.47672277122643,
          290.47672277122643,
          291.47672277122643,
          291.47672277122643,
          290.47672277122643,
          326.47672277122643,
          290.47672277122643,
          290.47672277122643,
          341.47672277122643,
          290.47672277122643,
          290.47672277122643,
          323.47672277122643,
          290.47672277122643,
          326.47672277122643,
          321.47672277122643,
          323.47672277122643,
          359.47672277122643,
          329.47672277122643,
          356.47672277122643,
          335.47672277122643,
          348.47672277122643,
          374.47672277122643,
          385.47672277122643,
          376.47672277122643,
          380.47672277122643,
          390.47672277122643,
          427.47672277122643,
          439.47672277122643,
          425.47672277122643,
          427.47672277122643,
          456.47672277122643,
          426.47672277122643,
          442.47672277122643,
          497.47672277122643,
          455.47672277122643,
          911.4767227712264,
          520.4767227712264,
          508.47672277122643,
          445.47672277122643,
          539.4767227712264,
          754.4767227712264,
          709.4767227712264,
          1004.4767227712264,
          889.4767227712264,
          931.4767227712264,
          1000.4767227712264,
          1056.4767227712264,
          1205.4767227712264,
          1519.4767227712264,
          1610.4767227712264,
          1687.4767227712264,
          2054.4767227712264,
          2092.4767227712264,
          2519.4767227712264,
          2981.4767227712264,
          2726.4767227712264,
          3710.4767227712264,
          4373.476722771226,
          3364.4767227712264,
          3612.4767227712264,
          3848.4767227712264,
          4763.476722771226,
          5203.476722771226,
          5836.476722771226,
          4845.476722771226,
          6387.476722771226,
          6912.476722771226,
          4335.476722771226,
          3167.4767227712264,
          1831.4767227712264,
          4470.476722771226,
          2315.4767227712264,
          2557.4767227712264,
          4461.476722771226,
          1226.4767227712264,
          4176.476722771226,
          1787.4767227712264,
          6117.476722771226,
          2292.4767227712264,
          4422.476722771226,
          1756.4767227712264,
          3899.4767227712264,
          1811.4767227712264,
          3689.4767227712264,
          5205.476722771226,
          4265.476722771226,
          3145.4767227712264,
          4030.4767227712264,
          4163.476722771226,
          4597.476722771226,
          3794.4767227712264,
          4374.476722771226,
          4483.476722771226,
          4541.476722771226,
          4924.476722771226,
          5584.476722771226,
          4224.476722771226,
          5673.476722771226,
          5771.476722771226,
          5247.476722771226,
          6179.476722771226,
          5734.476722771226,
          5658.476722771226,
          6254.476722771226,
          8800.476722771227,
          4394.476722771226,
          6516.476722771226,
          7412.476722771226,
          7600.476722771226,
          7598.476722771226,
          5839.476722771226,
          7829.476722771226,
          5919.476722771226,
          6448.476722771226,
          5736.476722771226,
          6605.476722771226,
          5591.476722771226,
          6025.476722771226,
          6262.476722771226,
          4563.476722771226,
          5786.476722771226,
          5462.476722771226,
          6811.476722771226,
          5725.476722771226,
          5342.476722771226,
          4076.4767227712264,
          4340.476722771226,
          5411.476722771226,
          4424.476722771226,
          4039.4767227712264,
          4989.476722771226,
          4662.476722771226,
          3960.4767227712264,
          3013.4767227712264,
          2751.4767227712264,
          2780.4767227712264,
          1781.4767227712264,
          2250.4767227712264,
          2020.4767227712264,
          2505.4767227712264,
          1952.4767227712264,
          1357.4767227712264,
          1817.4767227712264,
          1308.4767227712264,
          1452.4767227712264,
          1199.4767227712264,
          1421.4767227712264,
          1080.4767227712264,
          1349.4767227712264,
          1258.4767227712264,
          1197.4767227712264,
          1637.4767227712264,
          1545.4767227712264,
          1495.4767227712264,
          1039.4767227712264,
          1256.4767227712264,
          1259.4767227712264,
          1073.4767227712264,
          1430.4767227712264,
          1359.4767227712264,
          1267.4767227712264,
          1332.4767227712264,
          1331.4767227712264,
          1217.4767227712264,
          972.4767227712264,
          1275.4767227712264,
          1271.4767227712264,
          1202.4767227712264,
          1276.4767227712264,
          1299.4767227712264,
          1606.4767227712264,
          1566.4767227712264,
          1704.4767227712264,
          1475.4767227712264,
          1678.4767227712264,
          1530.4767227712264,
          1275.4767227712264,
          1455.4767227712264,
          1473.4767227712264,
          1627.4767227712264,
          1899.4767227712264,
          1629.4767227712264,
          1336.4767227712264,
          1555.4767227712264,
          1837.4767227712264,
          1494.4767227712264
         ]
        },
        {
         "fill": "tonexty",
         "line": {
          "width": 0
         },
         "name": "CI fill lower",
         "opacity": 0.5,
         "type": "scatter",
         "x": [
          "2021-04-27T00:00:00",
          "2021-04-28T00:00:00",
          "2021-04-29T00:00:00",
          "2021-04-30T00:00:00",
          "2021-05-01T00:00:00",
          "2021-05-02T00:00:00",
          "2021-05-03T00:00:00",
          "2021-05-04T00:00:00",
          "2021-05-05T00:00:00",
          "2021-05-06T00:00:00",
          "2021-05-07T00:00:00",
          "2021-05-08T00:00:00",
          "2021-05-09T00:00:00",
          "2021-05-10T00:00:00",
          "2021-05-11T00:00:00",
          "2021-05-12T00:00:00",
          "2021-05-13T00:00:00",
          "2021-05-14T00:00:00",
          "2021-05-15T00:00:00",
          "2021-05-16T00:00:00",
          "2021-05-17T00:00:00",
          "2021-05-18T00:00:00",
          "2021-05-19T00:00:00",
          "2021-05-20T00:00:00",
          "2021-05-21T00:00:00",
          "2021-05-22T00:00:00",
          "2021-05-23T00:00:00",
          "2021-05-24T00:00:00",
          "2021-05-25T00:00:00",
          "2021-05-26T00:00:00",
          "2021-05-27T00:00:00",
          "2021-05-28T00:00:00",
          "2021-05-29T00:00:00",
          "2021-05-30T00:00:00",
          "2021-05-31T00:00:00",
          "2021-06-01T00:00:00",
          "2021-06-02T00:00:00",
          "2021-06-03T00:00:00",
          "2021-06-04T00:00:00",
          "2021-06-05T00:00:00",
          "2021-06-06T00:00:00",
          "2021-06-07T00:00:00",
          "2021-06-08T00:00:00",
          "2021-06-09T00:00:00",
          "2021-06-10T00:00:00",
          "2021-06-11T00:00:00",
          "2021-06-12T00:00:00",
          "2021-06-13T00:00:00",
          "2021-06-14T00:00:00",
          "2021-06-15T00:00:00",
          "2021-06-16T00:00:00",
          "2021-06-17T00:00:00",
          "2021-06-18T00:00:00",
          "2021-06-19T00:00:00",
          "2021-06-20T00:00:00",
          "2021-06-21T00:00:00",
          "2021-06-22T00:00:00",
          "2021-06-23T00:00:00",
          "2021-06-24T00:00:00",
          "2021-06-25T00:00:00",
          "2021-06-26T00:00:00",
          "2021-06-27T00:00:00",
          "2021-06-28T00:00:00",
          "2021-06-29T00:00:00",
          "2021-06-30T00:00:00",
          "2021-07-01T00:00:00",
          "2021-07-02T00:00:00",
          "2021-07-03T00:00:00",
          "2021-07-04T00:00:00",
          "2021-07-05T00:00:00",
          "2021-07-06T00:00:00",
          "2021-07-07T00:00:00",
          "2021-07-08T00:00:00",
          "2021-07-09T00:00:00",
          "2021-07-10T00:00:00",
          "2021-07-11T00:00:00",
          "2021-07-12T00:00:00",
          "2021-07-13T00:00:00",
          "2021-07-14T00:00:00",
          "2021-07-15T00:00:00",
          "2021-07-16T00:00:00",
          "2021-07-17T00:00:00",
          "2021-07-18T00:00:00",
          "2021-07-19T00:00:00",
          "2021-07-20T00:00:00",
          "2021-07-21T00:00:00",
          "2021-07-22T00:00:00",
          "2021-07-23T00:00:00",
          "2021-07-24T00:00:00",
          "2021-07-25T00:00:00",
          "2021-07-26T00:00:00",
          "2021-07-27T00:00:00",
          "2021-07-28T00:00:00",
          "2021-07-29T00:00:00",
          "2021-07-30T00:00:00",
          "2021-07-31T00:00:00",
          "2021-08-01T00:00:00",
          "2021-08-02T00:00:00",
          "2021-08-03T00:00:00",
          "2021-08-04T00:00:00",
          "2021-08-05T00:00:00",
          "2021-08-06T00:00:00",
          "2021-08-07T00:00:00",
          "2021-08-08T00:00:00",
          "2021-08-09T00:00:00",
          "2021-08-10T00:00:00",
          "2021-08-11T00:00:00",
          "2021-08-12T00:00:00",
          "2021-08-13T00:00:00",
          "2021-08-14T00:00:00",
          "2021-08-15T00:00:00",
          "2021-08-16T00:00:00",
          "2021-08-17T00:00:00",
          "2021-08-18T00:00:00",
          "2021-08-19T00:00:00",
          "2021-08-20T00:00:00",
          "2021-08-21T00:00:00",
          "2021-08-22T00:00:00",
          "2021-08-23T00:00:00",
          "2021-08-24T00:00:00",
          "2021-08-25T00:00:00",
          "2021-08-26T00:00:00",
          "2021-08-27T00:00:00",
          "2021-08-28T00:00:00",
          "2021-08-29T00:00:00",
          "2021-08-30T00:00:00",
          "2021-08-31T00:00:00",
          "2021-09-01T00:00:00",
          "2021-09-02T00:00:00",
          "2021-09-03T00:00:00",
          "2021-09-04T00:00:00",
          "2021-09-05T00:00:00",
          "2021-09-06T00:00:00",
          "2021-09-07T00:00:00",
          "2021-09-08T00:00:00",
          "2021-09-09T00:00:00",
          "2021-09-10T00:00:00",
          "2021-09-11T00:00:00",
          "2021-09-12T00:00:00",
          "2021-09-13T00:00:00",
          "2021-09-14T00:00:00",
          "2021-09-15T00:00:00",
          "2021-09-16T00:00:00",
          "2021-09-17T00:00:00",
          "2021-09-18T00:00:00",
          "2021-09-19T00:00:00",
          "2021-09-20T00:00:00",
          "2021-09-21T00:00:00",
          "2021-09-22T00:00:00",
          "2021-09-23T00:00:00",
          "2021-09-24T00:00:00",
          "2021-09-25T00:00:00",
          "2021-09-26T00:00:00",
          "2021-09-27T00:00:00",
          "2021-09-28T00:00:00",
          "2021-09-29T00:00:00",
          "2021-09-30T00:00:00",
          "2021-10-01T00:00:00",
          "2021-10-02T00:00:00",
          "2021-10-03T00:00:00",
          "2021-10-04T00:00:00",
          "2021-10-05T00:00:00",
          "2021-10-06T00:00:00",
          "2021-10-07T00:00:00",
          "2021-10-08T00:00:00",
          "2021-10-09T00:00:00",
          "2021-10-10T00:00:00",
          "2021-10-11T00:00:00",
          "2021-10-12T00:00:00",
          "2021-10-13T00:00:00",
          "2021-10-14T00:00:00",
          "2021-10-15T00:00:00",
          "2021-10-16T00:00:00",
          "2021-10-17T00:00:00",
          "2021-10-18T00:00:00",
          "2021-10-19T00:00:00",
          "2021-10-20T00:00:00",
          "2021-10-21T00:00:00",
          "2021-10-22T00:00:00",
          "2021-10-23T00:00:00",
          "2021-10-24T00:00:00",
          "2021-10-25T00:00:00",
          "2021-10-26T00:00:00",
          "2021-10-27T00:00:00",
          "2021-10-28T00:00:00",
          "2021-10-29T00:00:00",
          "2021-10-30T00:00:00",
          "2021-10-31T00:00:00",
          "2021-11-01T00:00:00",
          "2021-11-02T00:00:00",
          "2021-11-03T00:00:00",
          "2021-11-04T00:00:00",
          "2021-11-05T00:00:00",
          "2021-11-06T00:00:00",
          "2021-11-07T00:00:00",
          "2021-11-08T00:00:00",
          "2021-11-09T00:00:00",
          "2021-11-10T00:00:00",
          "2021-11-11T00:00:00",
          "2021-11-12T00:00:00",
          "2021-11-13T00:00:00",
          "2021-11-14T00:00:00",
          "2021-11-15T00:00:00",
          "2021-11-16T00:00:00",
          "2021-11-17T00:00:00",
          "2021-11-18T00:00:00",
          "2021-11-19T00:00:00",
          "2021-11-20T00:00:00",
          "2021-11-21T00:00:00",
          "2021-11-22T00:00:00",
          "2021-11-23T00:00:00"
         ],
         "y": [
          -290.47672277122643,
          -290.47672277122643,
          -289.47672277122643,
          -288.47672277122643,
          -287.47672277122643,
          -290.47672277122643,
          -290.47672277122643,
          -287.47672277122643,
          -289.47672277122643,
          -290.47672277122643,
          -288.47672277122643,
          -289.47672277122643,
          -290.47672277122643,
          -290.47672277122643,
          -287.47672277122643,
          -290.47672277122643,
          -290.47672277122643,
          -290.47672277122643,
          -290.47672277122643,
          -290.47672277122643,
          -288.47672277122643,
          -289.47672277122643,
          -289.47672277122643,
          -287.47672277122643,
          -290.47672277122643,
          -290.47672277122643,
          -290.47672277122643,
          -289.47672277122643,
          -289.47672277122643,
          -290.47672277122643,
          -254.47672277122643,
          -290.47672277122643,
          -290.47672277122643,
          -239.47672277122643,
          -290.47672277122643,
          -290.47672277122643,
          -257.47672277122643,
          -290.47672277122643,
          -254.47672277122643,
          -259.47672277122643,
          -257.47672277122643,
          -221.47672277122643,
          -251.47672277122643,
          -224.47672277122643,
          -245.47672277122643,
          -232.47672277122643,
          -206.47672277122643,
          -195.47672277122643,
          -204.47672277122643,
          -200.47672277122643,
          -190.47672277122643,
          -153.47672277122643,
          -141.47672277122643,
          -155.47672277122643,
          -153.47672277122643,
          -124.47672277122643,
          -154.47672277122643,
          -138.47672277122643,
          -83.47672277122643,
          -125.47672277122643,
          330.52327722877357,
          -60.476722771226434,
          -72.47672277122643,
          -135.47672277122643,
          -41.476722771226434,
          173.52327722877357,
          128.52327722877357,
          423.52327722877357,
          308.52327722877357,
          350.52327722877357,
          419.52327722877357,
          475.52327722877357,
          624.5232772287736,
          938.5232772287736,
          1029.5232772287736,
          1106.5232772287736,
          1473.5232772287736,
          1511.5232772287736,
          1938.5232772287736,
          2400.5232772287736,
          2145.5232772287736,
          3129.5232772287736,
          3792.5232772287736,
          2783.5232772287736,
          3031.5232772287736,
          3267.5232772287736,
          4182.523277228774,
          4622.523277228774,
          5255.523277228774,
          4264.523277228774,
          5806.523277228774,
          6331.523277228774,
          3754.5232772287736,
          2586.5232772287736,
          1250.5232772287736,
          3889.5232772287736,
          1734.5232772287736,
          1976.5232772287736,
          3880.5232772287736,
          645.5232772287736,
          3595.5232772287736,
          1206.5232772287736,
          5536.523277228774,
          1711.5232772287736,
          3841.5232772287736,
          1175.5232772287736,
          3318.5232772287736,
          1230.5232772287736,
          3108.5232772287736,
          4624.523277228774,
          3684.5232772287736,
          2564.5232772287736,
          3449.5232772287736,
          3582.5232772287736,
          4016.5232772287736,
          3213.5232772287736,
          3793.5232772287736,
          3902.5232772287736,
          3960.5232772287736,
          4343.523277228774,
          5003.523277228774,
          3643.5232772287736,
          5092.523277228774,
          5190.523277228774,
          4666.523277228774,
          5598.523277228774,
          5153.523277228774,
          5077.523277228774,
          5673.523277228774,
          8219.523277228773,
          3813.5232772287736,
          5935.523277228774,
          6831.523277228774,
          7019.523277228774,
          7017.523277228774,
          5258.523277228774,
          7248.523277228774,
          5338.523277228774,
          5867.523277228774,
          5155.523277228774,
          6024.523277228774,
          5010.523277228774,
          5444.523277228774,
          5681.523277228774,
          3982.5232772287736,
          5205.523277228774,
          4881.523277228774,
          6230.523277228774,
          5144.523277228774,
          4761.523277228774,
          3495.5232772287736,
          3759.5232772287736,
          4830.523277228774,
          3843.5232772287736,
          3458.5232772287736,
          4408.523277228774,
          4081.5232772287736,
          3379.5232772287736,
          2432.5232772287736,
          2170.5232772287736,
          2199.5232772287736,
          1200.5232772287736,
          1669.5232772287736,
          1439.5232772287736,
          1924.5232772287736,
          1371.5232772287736,
          776.5232772287736,
          1236.5232772287736,
          727.5232772287736,
          871.5232772287736,
          618.5232772287736,
          840.5232772287736,
          499.52327722877357,
          768.5232772287736,
          677.5232772287736,
          616.5232772287736,
          1056.5232772287736,
          964.5232772287736,
          914.5232772287736,
          458.52327722877357,
          675.5232772287736,
          678.5232772287736,
          492.52327722877357,
          849.5232772287736,
          778.5232772287736,
          686.5232772287736,
          751.5232772287736,
          750.5232772287736,
          636.5232772287736,
          391.52327722877357,
          694.5232772287736,
          690.5232772287736,
          621.5232772287736,
          695.5232772287736,
          718.5232772287736,
          1025.5232772287736,
          985.5232772287736,
          1123.5232772287736,
          894.5232772287736,
          1097.5232772287736,
          949.5232772287736,
          694.5232772287736,
          874.5232772287736,
          892.5232772287736,
          1046.5232772287736,
          1318.5232772287736,
          1048.5232772287736,
          755.5232772287736,
          974.5232772287736,
          1256.5232772287736,
          913.5232772287736
         ]
        }
       ],
       "layout": {
        "template": {
         "data": {
          "bar": [
           {
            "error_x": {
             "color": "#2a3f5f"
            },
            "error_y": {
             "color": "#2a3f5f"
            },
            "marker": {
             "line": {
              "color": "#E5ECF6",
              "width": 0.5
             },
             "pattern": {
              "fillmode": "overlay",
              "size": 10,
              "solidity": 0.2
             }
            },
            "type": "bar"
           }
          ],
          "barpolar": [
           {
            "marker": {
             "line": {
              "color": "#E5ECF6",
              "width": 0.5
             },
             "pattern": {
              "fillmode": "overlay",
              "size": 10,
              "solidity": 0.2
             }
            },
            "type": "barpolar"
           }
          ],
          "carpet": [
           {
            "aaxis": {
             "endlinecolor": "#2a3f5f",
             "gridcolor": "white",
             "linecolor": "white",
             "minorgridcolor": "white",
             "startlinecolor": "#2a3f5f"
            },
            "baxis": {
             "endlinecolor": "#2a3f5f",
             "gridcolor": "white",
             "linecolor": "white",
             "minorgridcolor": "white",
             "startlinecolor": "#2a3f5f"
            },
            "type": "carpet"
           }
          ],
          "choropleth": [
           {
            "colorbar": {
             "outlinewidth": 0,
             "ticks": ""
            },
            "type": "choropleth"
           }
          ],
          "contour": [
           {
            "colorbar": {
             "outlinewidth": 0,
             "ticks": ""
            },
            "colorscale": [
             [
              0,
              "#0d0887"
             ],
             [
              0.1111111111111111,
              "#46039f"
             ],
             [
              0.2222222222222222,
              "#7201a8"
             ],
             [
              0.3333333333333333,
              "#9c179e"
             ],
             [
              0.4444444444444444,
              "#bd3786"
             ],
             [
              0.5555555555555556,
              "#d8576b"
             ],
             [
              0.6666666666666666,
              "#ed7953"
             ],
             [
              0.7777777777777778,
              "#fb9f3a"
             ],
             [
              0.8888888888888888,
              "#fdca26"
             ],
             [
              1,
              "#f0f921"
             ]
            ],
            "type": "contour"
           }
          ],
          "contourcarpet": [
           {
            "colorbar": {
             "outlinewidth": 0,
             "ticks": ""
            },
            "type": "contourcarpet"
           }
          ],
          "heatmap": [
           {
            "colorbar": {
             "outlinewidth": 0,
             "ticks": ""
            },
            "colorscale": [
             [
              0,
              "#0d0887"
             ],
             [
              0.1111111111111111,
              "#46039f"
             ],
             [
              0.2222222222222222,
              "#7201a8"
             ],
             [
              0.3333333333333333,
              "#9c179e"
             ],
             [
              0.4444444444444444,
              "#bd3786"
             ],
             [
              0.5555555555555556,
              "#d8576b"
             ],
             [
              0.6666666666666666,
              "#ed7953"
             ],
             [
              0.7777777777777778,
              "#fb9f3a"
             ],
             [
              0.8888888888888888,
              "#fdca26"
             ],
             [
              1,
              "#f0f921"
             ]
            ],
            "type": "heatmap"
           }
          ],
          "heatmapgl": [
           {
            "colorbar": {
             "outlinewidth": 0,
             "ticks": ""
            },
            "colorscale": [
             [
              0,
              "#0d0887"
             ],
             [
              0.1111111111111111,
              "#46039f"
             ],
             [
              0.2222222222222222,
              "#7201a8"
             ],
             [
              0.3333333333333333,
              "#9c179e"
             ],
             [
              0.4444444444444444,
              "#bd3786"
             ],
             [
              0.5555555555555556,
              "#d8576b"
             ],
             [
              0.6666666666666666,
              "#ed7953"
             ],
             [
              0.7777777777777778,
              "#fb9f3a"
             ],
             [
              0.8888888888888888,
              "#fdca26"
             ],
             [
              1,
              "#f0f921"
             ]
            ],
            "type": "heatmapgl"
           }
          ],
          "histogram": [
           {
            "marker": {
             "pattern": {
              "fillmode": "overlay",
              "size": 10,
              "solidity": 0.2
             }
            },
            "type": "histogram"
           }
          ],
          "histogram2d": [
           {
            "colorbar": {
             "outlinewidth": 0,
             "ticks": ""
            },
            "colorscale": [
             [
              0,
              "#0d0887"
             ],
             [
              0.1111111111111111,
              "#46039f"
             ],
             [
              0.2222222222222222,
              "#7201a8"
             ],
             [
              0.3333333333333333,
              "#9c179e"
             ],
             [
              0.4444444444444444,
              "#bd3786"
             ],
             [
              0.5555555555555556,
              "#d8576b"
             ],
             [
              0.6666666666666666,
              "#ed7953"
             ],
             [
              0.7777777777777778,
              "#fb9f3a"
             ],
             [
              0.8888888888888888,
              "#fdca26"
             ],
             [
              1,
              "#f0f921"
             ]
            ],
            "type": "histogram2d"
           }
          ],
          "histogram2dcontour": [
           {
            "colorbar": {
             "outlinewidth": 0,
             "ticks": ""
            },
            "colorscale": [
             [
              0,
              "#0d0887"
             ],
             [
              0.1111111111111111,
              "#46039f"
             ],
             [
              0.2222222222222222,
              "#7201a8"
             ],
             [
              0.3333333333333333,
              "#9c179e"
             ],
             [
              0.4444444444444444,
              "#bd3786"
             ],
             [
              0.5555555555555556,
              "#d8576b"
             ],
             [
              0.6666666666666666,
              "#ed7953"
             ],
             [
              0.7777777777777778,
              "#fb9f3a"
             ],
             [
              0.8888888888888888,
              "#fdca26"
             ],
             [
              1,
              "#f0f921"
             ]
            ],
            "type": "histogram2dcontour"
           }
          ],
          "mesh3d": [
           {
            "colorbar": {
             "outlinewidth": 0,
             "ticks": ""
            },
            "type": "mesh3d"
           }
          ],
          "parcoords": [
           {
            "line": {
             "colorbar": {
              "outlinewidth": 0,
              "ticks": ""
             }
            },
            "type": "parcoords"
           }
          ],
          "pie": [
           {
            "automargin": true,
            "type": "pie"
           }
          ],
          "scatter": [
           {
            "fillpattern": {
             "fillmode": "overlay",
             "size": 10,
             "solidity": 0.2
            },
            "type": "scatter"
           }
          ],
          "scatter3d": [
           {
            "line": {
             "colorbar": {
              "outlinewidth": 0,
              "ticks": ""
             }
            },
            "marker": {
             "colorbar": {
              "outlinewidth": 0,
              "ticks": ""
             }
            },
            "type": "scatter3d"
           }
          ],
          "scattercarpet": [
           {
            "marker": {
             "colorbar": {
              "outlinewidth": 0,
              "ticks": ""
             }
            },
            "type": "scattercarpet"
           }
          ],
          "scattergeo": [
           {
            "marker": {
             "colorbar": {
              "outlinewidth": 0,
              "ticks": ""
             }
            },
            "type": "scattergeo"
           }
          ],
          "scattergl": [
           {
            "marker": {
             "colorbar": {
              "outlinewidth": 0,
              "ticks": ""
             }
            },
            "type": "scattergl"
           }
          ],
          "scattermapbox": [
           {
            "marker": {
             "colorbar": {
              "outlinewidth": 0,
              "ticks": ""
             }
            },
            "type": "scattermapbox"
           }
          ],
          "scatterpolar": [
           {
            "marker": {
             "colorbar": {
              "outlinewidth": 0,
              "ticks": ""
             }
            },
            "type": "scatterpolar"
           }
          ],
          "scatterpolargl": [
           {
            "marker": {
             "colorbar": {
              "outlinewidth": 0,
              "ticks": ""
             }
            },
            "type": "scatterpolargl"
           }
          ],
          "scatterternary": [
           {
            "marker": {
             "colorbar": {
              "outlinewidth": 0,
              "ticks": ""
             }
            },
            "type": "scatterternary"
           }
          ],
          "surface": [
           {
            "colorbar": {
             "outlinewidth": 0,
             "ticks": ""
            },
            "colorscale": [
             [
              0,
              "#0d0887"
             ],
             [
              0.1111111111111111,
              "#46039f"
             ],
             [
              0.2222222222222222,
              "#7201a8"
             ],
             [
              0.3333333333333333,
              "#9c179e"
             ],
             [
              0.4444444444444444,
              "#bd3786"
             ],
             [
              0.5555555555555556,
              "#d8576b"
             ],
             [
              0.6666666666666666,
              "#ed7953"
             ],
             [
              0.7777777777777778,
              "#fb9f3a"
             ],
             [
              0.8888888888888888,
              "#fdca26"
             ],
             [
              1,
              "#f0f921"
             ]
            ],
            "type": "surface"
           }
          ],
          "table": [
           {
            "cells": {
             "fill": {
              "color": "#EBF0F8"
             },
             "line": {
              "color": "white"
             }
            },
            "header": {
             "fill": {
              "color": "#C8D4E3"
             },
             "line": {
              "color": "white"
             }
            },
            "type": "table"
           }
          ]
         },
         "layout": {
          "annotationdefaults": {
           "arrowcolor": "#2a3f5f",
           "arrowhead": 0,
           "arrowwidth": 1
          },
          "autotypenumbers": "strict",
          "coloraxis": {
           "colorbar": {
            "outlinewidth": 0,
            "ticks": ""
           }
          },
          "colorscale": {
           "diverging": [
            [
             0,
             "#8e0152"
            ],
            [
             0.1,
             "#c51b7d"
            ],
            [
             0.2,
             "#de77ae"
            ],
            [
             0.3,
             "#f1b6da"
            ],
            [
             0.4,
             "#fde0ef"
            ],
            [
             0.5,
             "#f7f7f7"
            ],
            [
             0.6,
             "#e6f5d0"
            ],
            [
             0.7,
             "#b8e186"
            ],
            [
             0.8,
             "#7fbc41"
            ],
            [
             0.9,
             "#4d9221"
            ],
            [
             1,
             "#276419"
            ]
           ],
           "sequential": [
            [
             0,
             "#0d0887"
            ],
            [
             0.1111111111111111,
             "#46039f"
            ],
            [
             0.2222222222222222,
             "#7201a8"
            ],
            [
             0.3333333333333333,
             "#9c179e"
            ],
            [
             0.4444444444444444,
             "#bd3786"
            ],
            [
             0.5555555555555556,
             "#d8576b"
            ],
            [
             0.6666666666666666,
             "#ed7953"
            ],
            [
             0.7777777777777778,
             "#fb9f3a"
            ],
            [
             0.8888888888888888,
             "#fdca26"
            ],
            [
             1,
             "#f0f921"
            ]
           ],
           "sequentialminus": [
            [
             0,
             "#0d0887"
            ],
            [
             0.1111111111111111,
             "#46039f"
            ],
            [
             0.2222222222222222,
             "#7201a8"
            ],
            [
             0.3333333333333333,
             "#9c179e"
            ],
            [
             0.4444444444444444,
             "#bd3786"
            ],
            [
             0.5555555555555556,
             "#d8576b"
            ],
            [
             0.6666666666666666,
             "#ed7953"
            ],
            [
             0.7777777777777778,
             "#fb9f3a"
            ],
            [
             0.8888888888888888,
             "#fdca26"
            ],
            [
             1,
             "#f0f921"
            ]
           ]
          },
          "colorway": [
           "#636efa",
           "#EF553B",
           "#00cc96",
           "#ab63fa",
           "#FFA15A",
           "#19d3f3",
           "#FF6692",
           "#B6E880",
           "#FF97FF",
           "#FECB52"
          ],
          "font": {
           "color": "#2a3f5f"
          },
          "geo": {
           "bgcolor": "white",
           "lakecolor": "white",
           "landcolor": "#E5ECF6",
           "showlakes": true,
           "showland": true,
           "subunitcolor": "white"
          },
          "hoverlabel": {
           "align": "left"
          },
          "hovermode": "closest",
          "mapbox": {
           "style": "light"
          },
          "paper_bgcolor": "white",
          "plot_bgcolor": "#E5ECF6",
          "polar": {
           "angularaxis": {
            "gridcolor": "white",
            "linecolor": "white",
            "ticks": ""
           },
           "bgcolor": "#E5ECF6",
           "radialaxis": {
            "gridcolor": "white",
            "linecolor": "white",
            "ticks": ""
           }
          },
          "scene": {
           "xaxis": {
            "backgroundcolor": "#E5ECF6",
            "gridcolor": "white",
            "gridwidth": 2,
            "linecolor": "white",
            "showbackground": true,
            "ticks": "",
            "zerolinecolor": "white"
           },
           "yaxis": {
            "backgroundcolor": "#E5ECF6",
            "gridcolor": "white",
            "gridwidth": 2,
            "linecolor": "white",
            "showbackground": true,
            "ticks": "",
            "zerolinecolor": "white"
           },
           "zaxis": {
            "backgroundcolor": "#E5ECF6",
            "gridcolor": "white",
            "gridwidth": 2,
            "linecolor": "white",
            "showbackground": true,
            "ticks": "",
            "zerolinecolor": "white"
           }
          },
          "shapedefaults": {
           "line": {
            "color": "#2a3f5f"
           }
          },
          "ternary": {
           "aaxis": {
            "gridcolor": "white",
            "linecolor": "white",
            "ticks": ""
           },
           "baxis": {
            "gridcolor": "white",
            "linecolor": "white",
            "ticks": ""
           },
           "bgcolor": "#E5ECF6",
           "caxis": {
            "gridcolor": "white",
            "linecolor": "white",
            "ticks": ""
           }
          },
          "title": {
           "x": 0.05
          },
          "xaxis": {
           "automargin": true,
           "gridcolor": "white",
           "linecolor": "white",
           "ticks": "",
           "title": {
            "standoff": 15
           },
           "zerolinecolor": "white",
           "zerolinewidth": 2
          },
          "yaxis": {
           "automargin": true,
           "gridcolor": "white",
           "linecolor": "white",
           "ticks": "",
           "title": {
            "standoff": 15
           },
           "zerolinecolor": "white",
           "zerolinewidth": 2
          }
         }
        },
        "title": {
         "text": "Forecast of COVID-19 Confirmed Cases in HCMC"
        },
        "xaxis": {
         "title": {
          "text": "Date"
         }
        },
        "yaxis": {
         "title": {
          "text": "COVID-19 Cases"
         }
        }
       }
      }
     },
     "metadata": {},
     "output_type": "display_data"
    }
   ],
   "source": [
    "# 95% Confidence interval\n",
    "CI = 1.96 * np.std(data['Confirmed case']) / np.sqrt(len(list(data['Date'])))\n",
    "\n",
    "# Plot\n",
    "import plotly.express as px\n",
    "import plotly.graph_objs as go\n",
    "\n",
    "# First trace\n",
    "actual = go.Scatter(x=data['Date'], y=data['Confirmed case'],\n",
    "                    name='COVID-19 Confirmed Cases')\n",
    "\n",
    "# Second trace\n",
    "arima110 = go.Scatter(x=data['Date'], y=data['Final Forecast Result'],\n",
    "                    name='ARIMA(1,1,0) Forecast')\n",
    "\n",
    "# Fill between trace\n",
    "conf_int1 = go.Scatter(x=data['Date'], y=(data['Confirmed case'] + CI), fill='tonexty',\n",
    "                        opacity=0.5, line=dict(width=0), name='CI fill upper')\n",
    "conf_int2 = go.Scatter(x=data['Date'], y=(data['Confirmed case'] - CI), fill='tonexty',\n",
    "                        opacity=0.5, line=dict(width=0), name='CI fill lower')\n",
    "\n",
    "# Create the figure\n",
    "result_fig = go.Figure(data=[actual, arima110, conf_int1, conf_int2], layout=go.Layout(\n",
    "    title='Forecast of COVID-19 Confirmed Cases in HCMC',\n",
    "    xaxis=dict(title='Date'),\n",
    "    yaxis=dict(title='COVID-19 Cases'),\n",
    "    # plot_bgcolor='white',  # set the plot background color to white\n",
    "    # paper_bgcolor='white'  # set the paper background color to white\n",
    "))\n",
    "\n",
    "# Show the figure\n",
    "result_fig.show()\n"
   ]
  },
  {
   "attachments": {},
   "cell_type": "markdown",
   "metadata": {},
   "source": [
    "6. After providing forecast results, the study continued with calculating and plotting a 7-day moving average between forecasting results and real data. MSE and RMSE calculation was also included in this part for error comparison in this study:"
   ]
  },
  {
   "cell_type": "code",
   "execution_count": 43,
   "metadata": {},
   "outputs": [],
   "source": [
    "\"\"\"Calculate the 7-day Moving Average of both confirmed cases and forecasting result\"\"\"\n",
    "\n",
    "# For confirmed cases\n",
    "window_size1 = 7\n",
    "i = 0\n",
    "moving_avg_acutal = []\n",
    "# Loop through array to consider every window of size 7:\n",
    "while i < len(data['Confirmed case']) - window_size1 + 1:\n",
    "    actual_list = list(data['Confirmed case'])\n",
    "    # Store elements from i to i+window_size in list to get the current window\n",
    "    window1 = actual_list[i:i+window_size1]\n",
    "    # Calculate the avg of the current window\n",
    "    window_average_actual = round(sum(window1)/window_size1, 2)\n",
    "    # Store the avg of the current window in moving average list\n",
    "    moving_avg_acutal.append(window_average_actual)\n",
    "\n",
    "    i=i+1"
   ]
  },
  {
   "cell_type": "code",
   "execution_count": 44,
   "metadata": {},
   "outputs": [],
   "source": [
    "# For forcasting cases\n",
    "window_size2 = 7\n",
    "j = 0\n",
    "moving_avg_forecast = []\n",
    "# Loop through array to consider every window of size 7:\n",
    "while j < len(data['Final Forecast Result']) - window_size2 + 1:\n",
    "    forecast_list = list(data['Final Forecast Result'])\n",
    "    # Store elements from i to i+window_size in list to get the current window\n",
    "    window2 = forecast_list[j:j+window_size2]\n",
    "    # Calculate the avg of the current window\n",
    "    window_average_forecast = round(sum(window2)/window_size2, 2)\n",
    "    # Store the avg of the current window in moving average list\n",
    "    moving_avg_forecast.append(window_average_forecast)\n",
    "\n",
    "    j=j+1"
   ]
  },
  {
   "cell_type": "code",
   "execution_count": 45,
   "metadata": {},
   "outputs": [
    {
     "data": {
      "text/html": [
       "<div>\n",
       "<style scoped>\n",
       "    .dataframe tbody tr th:only-of-type {\n",
       "        vertical-align: middle;\n",
       "    }\n",
       "\n",
       "    .dataframe tbody tr th {\n",
       "        vertical-align: top;\n",
       "    }\n",
       "\n",
       "    .dataframe thead th {\n",
       "        text-align: right;\n",
       "    }\n",
       "</style>\n",
       "<table border=\"1\" class=\"dataframe\">\n",
       "  <thead>\n",
       "    <tr style=\"text-align: right;\">\n",
       "      <th></th>\n",
       "      <th>7-day Moving Average Actual</th>\n",
       "    </tr>\n",
       "  </thead>\n",
       "  <tbody>\n",
       "    <tr>\n",
       "      <th>0</th>\n",
       "      <td>0.86</td>\n",
       "    </tr>\n",
       "    <tr>\n",
       "      <th>1</th>\n",
       "      <td>1.29</td>\n",
       "    </tr>\n",
       "    <tr>\n",
       "      <th>2</th>\n",
       "      <td>1.43</td>\n",
       "    </tr>\n",
       "    <tr>\n",
       "      <th>3</th>\n",
       "      <td>1.29</td>\n",
       "    </tr>\n",
       "    <tr>\n",
       "      <th>4</th>\n",
       "      <td>1.29</td>\n",
       "    </tr>\n",
       "    <tr>\n",
       "      <th>...</th>\n",
       "      <td>...</td>\n",
       "    </tr>\n",
       "    <tr>\n",
       "      <th>200</th>\n",
       "      <td>1265.43</td>\n",
       "    </tr>\n",
       "    <tr>\n",
       "      <th>201</th>\n",
       "      <td>1237.71</td>\n",
       "    </tr>\n",
       "    <tr>\n",
       "      <th>202</th>\n",
       "      <td>1277.71</td>\n",
       "    </tr>\n",
       "    <tr>\n",
       "      <th>203</th>\n",
       "      <td>1332.29</td>\n",
       "    </tr>\n",
       "    <tr>\n",
       "      <th>204</th>\n",
       "      <td>1335.29</td>\n",
       "    </tr>\n",
       "  </tbody>\n",
       "</table>\n",
       "<p>205 rows × 1 columns</p>\n",
       "</div>"
      ],
      "text/plain": [
       "     7-day Moving Average Actual\n",
       "0                           0.86\n",
       "1                           1.29\n",
       "2                           1.43\n",
       "3                           1.29\n",
       "4                           1.29\n",
       "..                           ...\n",
       "200                      1265.43\n",
       "201                      1237.71\n",
       "202                      1277.71\n",
       "203                      1332.29\n",
       "204                      1335.29\n",
       "\n",
       "[205 rows x 1 columns]"
      ]
     },
     "execution_count": 45,
     "metadata": {},
     "output_type": "execute_result"
    }
   ],
   "source": [
    "moving_avg_acutal = pd.DataFrame(moving_avg_acutal)\n",
    "moving_avg_acutal.columns = ['7-day Moving Average Actual']\n",
    "moving_avg_acutal"
   ]
  },
  {
   "cell_type": "code",
   "execution_count": 46,
   "metadata": {},
   "outputs": [
    {
     "data": {
      "text/html": [
       "<div>\n",
       "<style scoped>\n",
       "    .dataframe tbody tr th:only-of-type {\n",
       "        vertical-align: middle;\n",
       "    }\n",
       "\n",
       "    .dataframe tbody tr th {\n",
       "        vertical-align: top;\n",
       "    }\n",
       "\n",
       "    .dataframe thead th {\n",
       "        text-align: right;\n",
       "    }\n",
       "</style>\n",
       "<table border=\"1\" class=\"dataframe\">\n",
       "  <thead>\n",
       "    <tr style=\"text-align: right;\">\n",
       "      <th></th>\n",
       "      <th>7-day Moving Average Forecast</th>\n",
       "    </tr>\n",
       "  </thead>\n",
       "  <tbody>\n",
       "    <tr>\n",
       "      <th>0</th>\n",
       "      <td>36.00</td>\n",
       "    </tr>\n",
       "    <tr>\n",
       "      <th>1</th>\n",
       "      <td>31.00</td>\n",
       "    </tr>\n",
       "    <tr>\n",
       "      <th>2</th>\n",
       "      <td>26.43</td>\n",
       "    </tr>\n",
       "    <tr>\n",
       "      <th>3</th>\n",
       "      <td>22.29</td>\n",
       "    </tr>\n",
       "    <tr>\n",
       "      <th>4</th>\n",
       "      <td>18.29</td>\n",
       "    </tr>\n",
       "    <tr>\n",
       "      <th>...</th>\n",
       "      <td>...</td>\n",
       "    </tr>\n",
       "    <tr>\n",
       "      <th>200</th>\n",
       "      <td>1333.71</td>\n",
       "    </tr>\n",
       "    <tr>\n",
       "      <th>201</th>\n",
       "      <td>1364.43</td>\n",
       "    </tr>\n",
       "    <tr>\n",
       "      <th>202</th>\n",
       "      <td>1346.71</td>\n",
       "    </tr>\n",
       "    <tr>\n",
       "      <th>203</th>\n",
       "      <td>1346.29</td>\n",
       "    </tr>\n",
       "    <tr>\n",
       "      <th>204</th>\n",
       "      <td>1395.14</td>\n",
       "    </tr>\n",
       "  </tbody>\n",
       "</table>\n",
       "<p>205 rows × 1 columns</p>\n",
       "</div>"
      ],
      "text/plain": [
       "     7-day Moving Average Forecast\n",
       "0                            36.00\n",
       "1                            31.00\n",
       "2                            26.43\n",
       "3                            22.29\n",
       "4                            18.29\n",
       "..                             ...\n",
       "200                        1333.71\n",
       "201                        1364.43\n",
       "202                        1346.71\n",
       "203                        1346.29\n",
       "204                        1395.14\n",
       "\n",
       "[205 rows x 1 columns]"
      ]
     },
     "execution_count": 46,
     "metadata": {},
     "output_type": "execute_result"
    }
   ],
   "source": [
    "moving_avg_forecast = pd.DataFrame(moving_avg_forecast)\n",
    "moving_avg_forecast.columns = ['7-day Moving Average Forecast']\n",
    "moving_avg_forecast"
   ]
  },
  {
   "cell_type": "code",
   "execution_count": 47,
   "metadata": {},
   "outputs": [
    {
     "data": {
      "text/html": [
       "<div>\n",
       "<style scoped>\n",
       "    .dataframe tbody tr th:only-of-type {\n",
       "        vertical-align: middle;\n",
       "    }\n",
       "\n",
       "    .dataframe tbody tr th {\n",
       "        vertical-align: top;\n",
       "    }\n",
       "\n",
       "    .dataframe thead th {\n",
       "        text-align: right;\n",
       "    }\n",
       "</style>\n",
       "<table border=\"1\" class=\"dataframe\">\n",
       "  <thead>\n",
       "    <tr style=\"text-align: right;\">\n",
       "      <th></th>\n",
       "      <th>Index Order</th>\n",
       "    </tr>\n",
       "  </thead>\n",
       "  <tbody>\n",
       "    <tr>\n",
       "      <th>0</th>\n",
       "      <td>0</td>\n",
       "    </tr>\n",
       "    <tr>\n",
       "      <th>1</th>\n",
       "      <td>1</td>\n",
       "    </tr>\n",
       "    <tr>\n",
       "      <th>2</th>\n",
       "      <td>2</td>\n",
       "    </tr>\n",
       "    <tr>\n",
       "      <th>3</th>\n",
       "      <td>3</td>\n",
       "    </tr>\n",
       "    <tr>\n",
       "      <th>4</th>\n",
       "      <td>4</td>\n",
       "    </tr>\n",
       "    <tr>\n",
       "      <th>...</th>\n",
       "      <td>...</td>\n",
       "    </tr>\n",
       "    <tr>\n",
       "      <th>200</th>\n",
       "      <td>200</td>\n",
       "    </tr>\n",
       "    <tr>\n",
       "      <th>201</th>\n",
       "      <td>201</td>\n",
       "    </tr>\n",
       "    <tr>\n",
       "      <th>202</th>\n",
       "      <td>202</td>\n",
       "    </tr>\n",
       "    <tr>\n",
       "      <th>203</th>\n",
       "      <td>203</td>\n",
       "    </tr>\n",
       "    <tr>\n",
       "      <th>204</th>\n",
       "      <td>204</td>\n",
       "    </tr>\n",
       "  </tbody>\n",
       "</table>\n",
       "<p>205 rows × 1 columns</p>\n",
       "</div>"
      ],
      "text/plain": [
       "     Index Order\n",
       "0              0\n",
       "1              1\n",
       "2              2\n",
       "3              3\n",
       "4              4\n",
       "..           ...\n",
       "200          200\n",
       "201          201\n",
       "202          202\n",
       "203          203\n",
       "204          204\n",
       "\n",
       "[205 rows x 1 columns]"
      ]
     },
     "execution_count": 47,
     "metadata": {},
     "output_type": "execute_result"
    }
   ],
   "source": [
    "# Specify the number of observation in 7-day moving average --> 205 obs\n",
    "mva_obs = np.linspace(0,204,205)\n",
    "mva_obs = pd.DataFrame(mva_obs)\n",
    "mva_obs.columns = ['Index Order']\n",
    "mva_obs['Index Order'] = mva_obs['Index Order'].astype(int)\n",
    "mva_obs"
   ]
  },
  {
   "cell_type": "code",
   "execution_count": 50,
   "metadata": {},
   "outputs": [
    {
     "data": {
      "application/vnd.plotly.v1+json": {
       "config": {
        "plotlyServerURL": "https://plot.ly"
       },
       "data": [
        {
         "name": "7-day Moving Average COVID-19 Confirmed Cases",
         "type": "scatter",
         "x": [
          0,
          1,
          2,
          3,
          4,
          5,
          6,
          7,
          8,
          9,
          10,
          11,
          12,
          13,
          14,
          15,
          16,
          17,
          18,
          19,
          20,
          21,
          22,
          23,
          24,
          25,
          26,
          27,
          28,
          29,
          30,
          31,
          32,
          33,
          34,
          35,
          36,
          37,
          38,
          39,
          40,
          41,
          42,
          43,
          44,
          45,
          46,
          47,
          48,
          49,
          50,
          51,
          52,
          53,
          54,
          55,
          56,
          57,
          58,
          59,
          60,
          61,
          62,
          63,
          64,
          65,
          66,
          67,
          68,
          69,
          70,
          71,
          72,
          73,
          74,
          75,
          76,
          77,
          78,
          79,
          80,
          81,
          82,
          83,
          84,
          85,
          86,
          87,
          88,
          89,
          90,
          91,
          92,
          93,
          94,
          95,
          96,
          97,
          98,
          99,
          100,
          101,
          102,
          103,
          104,
          105,
          106,
          107,
          108,
          109,
          110,
          111,
          112,
          113,
          114,
          115,
          116,
          117,
          118,
          119,
          120,
          121,
          122,
          123,
          124,
          125,
          126,
          127,
          128,
          129,
          130,
          131,
          132,
          133,
          134,
          135,
          136,
          137,
          138,
          139,
          140,
          141,
          142,
          143,
          144,
          145,
          146,
          147,
          148,
          149,
          150,
          151,
          152,
          153,
          154,
          155,
          156,
          157,
          158,
          159,
          160,
          161,
          162,
          163,
          164,
          165,
          166,
          167,
          168,
          169,
          170,
          171,
          172,
          173,
          174,
          175,
          176,
          177,
          178,
          179,
          180,
          181,
          182,
          183,
          184,
          185,
          186,
          187,
          188,
          189,
          190,
          191,
          192,
          193,
          194,
          195,
          196,
          197,
          198,
          199,
          200,
          201,
          202,
          203,
          204
         ],
         "y": [
          0.86,
          1.29,
          1.43,
          1.29,
          1.29,
          1,
          1,
          1,
          1,
          0.86,
          0.86,
          0.57,
          0.43,
          0.43,
          0.71,
          0.43,
          0.57,
          1,
          1,
          1,
          1,
          0.86,
          0.86,
          0.71,
          5.43,
          5.43,
          5.43,
          12.71,
          12.57,
          12.43,
          17.14,
          12,
          17.14,
          21.57,
          19,
          28.86,
          34.43,
          39.14,
          45.57,
          48.71,
          56.29,
          65.14,
          67.57,
          74.86,
          79.71,
          92.86,
          105.86,
          113.14,
          119.14,
          130.57,
          137.14,
          144.57,
          154.57,
          156.86,
          226.29,
          239.57,
          247,
          249.71,
          263.57,
          300.29,
          336.57,
          349.86,
          402.57,
          463,
          542.29,
          616.14,
          680.57,
          796.29,
          882.86,
          996.86,
          1157.29,
          1313.29,
          1522.29,
          1776,
          1948.43,
          2248.43,
          2632.14,
          2819.29,
          3036.43,
          3226.29,
          3480.86,
          3834.71,
          4138.43,
          4205.86,
          4637.71,
          5109.14,
          5178.71,
          4950.71,
          4469,
          4273.86,
          3912.43,
          3365.29,
          3015.14,
          2571,
          2715.14,
          2708.86,
          2944.14,
          2940.86,
          3207.29,
          2820.86,
          3202.71,
          2864.86,
          3136.57,
          3006.29,
          3288.14,
          3105.71,
          3430.57,
          3468.29,
          3866.29,
          3881.29,
          3762.57,
          3793.71,
          3993.14,
          4120.86,
          4323.86,
          4270.57,
          4539,
          4738.57,
          4847.71,
          5081.71,
          5197.43,
          5208,
          5498,
          5944.71,
          5748,
          5929.29,
          6105.43,
          6372,
          6649.14,
          6589.86,
          6451.14,
          6669,
          6659.29,
          6419.86,
          6277.71,
          5991,
          6017.57,
          5793.71,
          5600,
          5505.43,
          5466.29,
          5495.71,
          5514.86,
          5417.29,
          5105,
          5073.14,
          5019.57,
          4871.29,
          4475.29,
          4370.14,
          4273,
          4256.43,
          4066.86,
          3686.86,
          3452,
          3129.43,
          2738.14,
          2360.71,
          2152.86,
          2001.29,
          1802.14,
          1664.57,
          1597,
          1483,
          1365.71,
          1210.86,
          1086.29,
          1085.14,
          1005.29,
          989.43,
          1015.86,
          1065.29,
          1075.86,
          1070,
          1056.71,
          1056.86,
          1039.14,
          1009.57,
          983,
          950.43,
          992.29,
          1003,
          997,
          982.57,
          960.43,
          947.86,
          938.57,
          930.57,
          926,
          981.57,
          1066.43,
          1127.71,
          1156.86,
          1224.86,
          1261.14,
          1257.71,
          1236.14,
          1222.86,
          1211.86,
          1272.43,
          1265.43,
          1237.71,
          1277.71,
          1332.29,
          1335.29
         ]
        },
        {
         "name": "7-day Moving Average ARIMA(1,1,0) Forecast",
         "type": "scatter",
         "x": [
          0,
          1,
          2,
          3,
          4,
          5,
          6,
          7,
          8,
          9,
          10,
          11,
          12,
          13,
          14,
          15,
          16,
          17,
          18,
          19,
          20,
          21,
          22,
          23,
          24,
          25,
          26,
          27,
          28,
          29,
          30,
          31,
          32,
          33,
          34,
          35,
          36,
          37,
          38,
          39,
          40,
          41,
          42,
          43,
          44,
          45,
          46,
          47,
          48,
          49,
          50,
          51,
          52,
          53,
          54,
          55,
          56,
          57,
          58,
          59,
          60,
          61,
          62,
          63,
          64,
          65,
          66,
          67,
          68,
          69,
          70,
          71,
          72,
          73,
          74,
          75,
          76,
          77,
          78,
          79,
          80,
          81,
          82,
          83,
          84,
          85,
          86,
          87,
          88,
          89,
          90,
          91,
          92,
          93,
          94,
          95,
          96,
          97,
          98,
          99,
          100,
          101,
          102,
          103,
          104,
          105,
          106,
          107,
          108,
          109,
          110,
          111,
          112,
          113,
          114,
          115,
          116,
          117,
          118,
          119,
          120,
          121,
          122,
          123,
          124,
          125,
          126,
          127,
          128,
          129,
          130,
          131,
          132,
          133,
          134,
          135,
          136,
          137,
          138,
          139,
          140,
          141,
          142,
          143,
          144,
          145,
          146,
          147,
          148,
          149,
          150,
          151,
          152,
          153,
          154,
          155,
          156,
          157,
          158,
          159,
          160,
          161,
          162,
          163,
          164,
          165,
          166,
          167,
          168,
          169,
          170,
          171,
          172,
          173,
          174,
          175,
          176,
          177,
          178,
          179,
          180,
          181,
          182,
          183,
          184,
          185,
          186,
          187,
          188,
          189,
          190,
          191,
          192,
          193,
          194,
          195,
          196,
          197,
          198,
          199,
          200,
          201,
          202,
          203,
          204
         ],
         "y": [
          36,
          31,
          26.43,
          22.29,
          18.29,
          14.57,
          11.29,
          10,
          10.29,
          10,
          9.14,
          8.43,
          7.57,
          6.71,
          6,
          5.43,
          5.14,
          4.86,
          4.57,
          4.29,
          3.71,
          3.29,
          3,
          2.71,
          2.43,
          4.14,
          7.14,
          7.14,
          9.86,
          14.29,
          14.14,
          15.86,
          16.86,
          15.57,
          20.43,
          22.14,
          24.29,
          32.43,
          37.71,
          43.14,
          48.29,
          53,
          61.14,
          67.57,
          71.86,
          78.14,
          86,
          101.29,
          116.57,
          129.86,
          144.43,
          173.14,
          216.71,
          277.57,
          348.43,
          435,
          544.71,
          623.71,
          672.29,
          686.86,
          685.57,
          669.29,
          646.43,
          613,
          594,
          599.43,
          632.29,
          673.86,
          744.43,
          836.29,
          926.71,
          1058.29,
          1217.14,
          1393.14,
          1619,
          1842.43,
          2062.86,
          2394.43,
          2704.71,
          2903.29,
          3112.43,
          3328.57,
          3632,
          3992.57,
          4241.86,
          4473.86,
          4969.86,
          5340.71,
          5352.86,
          5077.43,
          4745.43,
          4538.71,
          4159.57,
          3740.86,
          3784.57,
          3683.71,
          3863.29,
          4107.86,
          4429.14,
          4651.29,
          4780.43,
          4426.43,
          4427.14,
          4227.57,
          4261.43,
          4164.57,
          4158.57,
          4062.57,
          4155.71,
          4344.29,
          4606.14,
          4473.71,
          4314,
          4344.71,
          4451,
          4542.29,
          4610.86,
          4637.86,
          4860,
          5005.14,
          5162.71,
          5334.86,
          5419.43,
          5519.57,
          5893.71,
          6139.29,
          6138.14,
          6404.29,
          6707.57,
          7067.57,
          7320.71,
          7331.57,
          7439.71,
          7621.29,
          7536.86,
          7323.14,
          7077.43,
          6832.14,
          6673.29,
          6347.14,
          6087.57,
          5938.43,
          6186,
          6174.57,
          6144.86,
          6001.43,
          5901.29,
          5987.14,
          5941.86,
          5566.71,
          5411.43,
          5371.14,
          5400.71,
          5316.43,
          5111,
          4851.14,
          4474.43,
          4038.14,
          3612.29,
          3162.86,
          2877.71,
          2545.86,
          2252.71,
          2053.43,
          1901.86,
          1741.29,
          1572.14,
          1377.86,
          1269.71,
          1211.71,
          1134.14,
          1123.43,
          1145.14,
          1176.86,
          1175.14,
          1161.43,
          1153.29,
          1148.29,
          1136.86,
          1143.29,
          1147.14,
          1153.57,
          1197.86,
          1206.86,
          1200.29,
          1174.57,
          1122.14,
          1080.29,
          1058.14,
          1035.43,
          1046.71,
          1105.57,
          1175.71,
          1242.86,
          1285.29,
          1341.43,
          1362.43,
          1350.43,
          1348.43,
          1337.57,
          1333.71,
          1364.43,
          1346.71,
          1346.29,
          1395.14
         ]
        },
        {
         "fill": "tonexty",
         "line": {
          "width": 0
         },
         "name": "CI fill upper",
         "opacity": 0.5,
         "type": "scatter",
         "x": [
          0,
          1,
          2,
          3,
          4,
          5,
          6,
          7,
          8,
          9,
          10,
          11,
          12,
          13,
          14,
          15,
          16,
          17,
          18,
          19,
          20,
          21,
          22,
          23,
          24,
          25,
          26,
          27,
          28,
          29,
          30,
          31,
          32,
          33,
          34,
          35,
          36,
          37,
          38,
          39,
          40,
          41,
          42,
          43,
          44,
          45,
          46,
          47,
          48,
          49,
          50,
          51,
          52,
          53,
          54,
          55,
          56,
          57,
          58,
          59,
          60,
          61,
          62,
          63,
          64,
          65,
          66,
          67,
          68,
          69,
          70,
          71,
          72,
          73,
          74,
          75,
          76,
          77,
          78,
          79,
          80,
          81,
          82,
          83,
          84,
          85,
          86,
          87,
          88,
          89,
          90,
          91,
          92,
          93,
          94,
          95,
          96,
          97,
          98,
          99,
          100,
          101,
          102,
          103,
          104,
          105,
          106,
          107,
          108,
          109,
          110,
          111,
          112,
          113,
          114,
          115,
          116,
          117,
          118,
          119,
          120,
          121,
          122,
          123,
          124,
          125,
          126,
          127,
          128,
          129,
          130,
          131,
          132,
          133,
          134,
          135,
          136,
          137,
          138,
          139,
          140,
          141,
          142,
          143,
          144,
          145,
          146,
          147,
          148,
          149,
          150,
          151,
          152,
          153,
          154,
          155,
          156,
          157,
          158,
          159,
          160,
          161,
          162,
          163,
          164,
          165,
          166,
          167,
          168,
          169,
          170,
          171,
          172,
          173,
          174,
          175,
          176,
          177,
          178,
          179,
          180,
          181,
          182,
          183,
          184,
          185,
          186,
          187,
          188,
          189,
          190,
          191,
          192,
          193,
          194,
          195,
          196,
          197,
          198,
          199,
          200,
          201,
          202,
          203,
          204
         ],
         "y": [
          284.30581239751103,
          284.73581239751104,
          284.875812397511,
          284.73581239751104,
          284.73581239751104,
          284.445812397511,
          284.445812397511,
          284.445812397511,
          284.445812397511,
          284.30581239751103,
          284.30581239751103,
          284.015812397511,
          283.875812397511,
          283.875812397511,
          284.155812397511,
          283.875812397511,
          284.015812397511,
          284.445812397511,
          284.445812397511,
          284.445812397511,
          284.445812397511,
          284.30581239751103,
          284.30581239751103,
          284.155812397511,
          288.875812397511,
          288.875812397511,
          288.875812397511,
          296.155812397511,
          296.015812397511,
          295.875812397511,
          300.585812397511,
          295.445812397511,
          300.585812397511,
          305.015812397511,
          302.445812397511,
          312.30581239751103,
          317.875812397511,
          322.585812397511,
          329.015812397511,
          332.155812397511,
          339.73581239751104,
          348.585812397511,
          351.015812397511,
          358.30581239751103,
          363.155812397511,
          376.30581239751103,
          389.30581239751103,
          396.585812397511,
          402.585812397511,
          414.015812397511,
          420.585812397511,
          428.015812397511,
          438.015812397511,
          440.30581239751103,
          509.73581239751104,
          523.015812397511,
          530.445812397511,
          533.155812397511,
          547.015812397511,
          583.735812397511,
          620.015812397511,
          633.3058123975111,
          686.015812397511,
          746.445812397511,
          825.7358123975109,
          899.5858123975111,
          964.0158123975111,
          1079.735812397511,
          1166.305812397511,
          1280.305812397511,
          1440.735812397511,
          1596.735812397511,
          1805.735812397511,
          2059.445812397511,
          2231.8758123975113,
          2531.875812397511,
          2915.585812397511,
          3102.735812397511,
          3319.875812397511,
          3509.735812397511,
          3764.305812397511,
          4118.155812397511,
          4421.875812397511,
          4489.305812397511,
          4921.155812397511,
          5392.585812397511,
          5462.155812397511,
          5234.155812397511,
          4752.445812397511,
          4557.305812397511,
          4195.875812397511,
          3648.735812397511,
          3298.585812397511,
          2854.445812397511,
          2998.585812397511,
          2992.305812397511,
          3227.585812397511,
          3224.305812397511,
          3490.735812397511,
          3104.305812397511,
          3486.155812397511,
          3148.305812397511,
          3420.015812397511,
          3289.735812397511,
          3571.585812397511,
          3389.155812397511,
          3714.015812397511,
          3751.735812397511,
          4149.735812397511,
          4164.735812397511,
          4046.015812397511,
          4077.155812397511,
          4276.585812397511,
          4404.305812397511,
          4607.305812397511,
          4554.015812397511,
          4822.445812397511,
          5022.015812397511,
          5131.155812397511,
          5365.155812397511,
          5480.875812397511,
          5491.445812397511,
          5781.445812397511,
          6228.155812397511,
          6031.445812397511,
          6212.735812397511,
          6388.875812397511,
          6655.445812397511,
          6932.585812397511,
          6873.305812397511,
          6734.585812397511,
          6952.445812397511,
          6942.735812397511,
          6703.305812397511,
          6561.155812397511,
          6274.445812397511,
          6301.015812397511,
          6077.155812397511,
          5883.445812397511,
          5788.875812397511,
          5749.735812397511,
          5779.155812397511,
          5798.305812397511,
          5700.735812397511,
          5388.445812397511,
          5356.585812397511,
          5303.015812397511,
          5154.735812397511,
          4758.735812397511,
          4653.585812397511,
          4556.445812397511,
          4539.875812397511,
          4350.3058123975115,
          3970.305812397511,
          3735.445812397511,
          3412.875812397511,
          3021.585812397511,
          2644.155812397511,
          2436.305812397511,
          2284.735812397511,
          2085.5858123975113,
          1948.015812397511,
          1880.445812397511,
          1766.445812397511,
          1649.155812397511,
          1494.3058123975109,
          1369.735812397511,
          1368.585812397511,
          1288.735812397511,
          1272.875812397511,
          1299.305812397511,
          1348.735812397511,
          1359.3058123975109,
          1353.445812397511,
          1340.155812397511,
          1340.3058123975109,
          1322.585812397511,
          1293.0158123975111,
          1266.445812397511,
          1233.875812397511,
          1275.735812397511,
          1286.445812397511,
          1280.445812397511,
          1266.0158123975111,
          1243.875812397511,
          1231.305812397511,
          1222.0158123975111,
          1214.0158123975111,
          1209.445812397511,
          1265.0158123975111,
          1349.875812397511,
          1411.155812397511,
          1440.3058123975109,
          1508.3058123975109,
          1544.585812397511,
          1541.155812397511,
          1519.585812397511,
          1506.3058123975109,
          1495.3058123975109,
          1555.875812397511,
          1548.875812397511,
          1521.155812397511,
          1561.155812397511,
          1615.735812397511,
          1618.735812397511
         ]
        },
        {
         "fill": "tonexty",
         "line": {
          "width": 0
         },
         "name": "CI fill lower",
         "opacity": 0.5,
         "type": "scatter",
         "x": [
          0,
          1,
          2,
          3,
          4,
          5,
          6,
          7,
          8,
          9,
          10,
          11,
          12,
          13,
          14,
          15,
          16,
          17,
          18,
          19,
          20,
          21,
          22,
          23,
          24,
          25,
          26,
          27,
          28,
          29,
          30,
          31,
          32,
          33,
          34,
          35,
          36,
          37,
          38,
          39,
          40,
          41,
          42,
          43,
          44,
          45,
          46,
          47,
          48,
          49,
          50,
          51,
          52,
          53,
          54,
          55,
          56,
          57,
          58,
          59,
          60,
          61,
          62,
          63,
          64,
          65,
          66,
          67,
          68,
          69,
          70,
          71,
          72,
          73,
          74,
          75,
          76,
          77,
          78,
          79,
          80,
          81,
          82,
          83,
          84,
          85,
          86,
          87,
          88,
          89,
          90,
          91,
          92,
          93,
          94,
          95,
          96,
          97,
          98,
          99,
          100,
          101,
          102,
          103,
          104,
          105,
          106,
          107,
          108,
          109,
          110,
          111,
          112,
          113,
          114,
          115,
          116,
          117,
          118,
          119,
          120,
          121,
          122,
          123,
          124,
          125,
          126,
          127,
          128,
          129,
          130,
          131,
          132,
          133,
          134,
          135,
          136,
          137,
          138,
          139,
          140,
          141,
          142,
          143,
          144,
          145,
          146,
          147,
          148,
          149,
          150,
          151,
          152,
          153,
          154,
          155,
          156,
          157,
          158,
          159,
          160,
          161,
          162,
          163,
          164,
          165,
          166,
          167,
          168,
          169,
          170,
          171,
          172,
          173,
          174,
          175,
          176,
          177,
          178,
          179,
          180,
          181,
          182,
          183,
          184,
          185,
          186,
          187,
          188,
          189,
          190,
          191,
          192,
          193,
          194,
          195,
          196,
          197,
          198,
          199,
          200,
          201,
          202,
          203,
          204
         ],
         "y": [
          -282.585812397511,
          -282.155812397511,
          -282.015812397511,
          -282.155812397511,
          -282.155812397511,
          -282.445812397511,
          -282.445812397511,
          -282.445812397511,
          -282.445812397511,
          -282.585812397511,
          -282.585812397511,
          -282.875812397511,
          -283.015812397511,
          -283.015812397511,
          -282.73581239751104,
          -283.015812397511,
          -282.875812397511,
          -282.445812397511,
          -282.445812397511,
          -282.445812397511,
          -282.445812397511,
          -282.585812397511,
          -282.585812397511,
          -282.73581239751104,
          -278.015812397511,
          -278.015812397511,
          -278.015812397511,
          -270.73581239751104,
          -270.875812397511,
          -271.015812397511,
          -266.30581239751103,
          -271.445812397511,
          -266.30581239751103,
          -261.875812397511,
          -264.445812397511,
          -254.585812397511,
          -249.015812397511,
          -244.30581239751103,
          -237.87581239751103,
          -234.735812397511,
          -227.15581239751103,
          -218.30581239751103,
          -215.87581239751103,
          -208.585812397511,
          -203.73581239751104,
          -190.585812397511,
          -177.585812397511,
          -170.30581239751103,
          -164.30581239751103,
          -152.87581239751103,
          -146.30581239751103,
          -138.87581239751103,
          -128.87581239751103,
          -126.585812397511,
          -57.15581239751103,
          -43.87581239751103,
          -36.44581239751102,
          -33.73581239751101,
          -19.875812397511027,
          16.844187602489,
          53.12418760248897,
          66.414187602489,
          119.12418760248897,
          179.55418760248898,
          258.84418760248894,
          332.69418760248897,
          397.12418760248903,
          512.844187602489,
          599.4141876024889,
          713.4141876024889,
          873.844187602489,
          1029.844187602489,
          1238.844187602489,
          1492.554187602489,
          1664.984187602489,
          1964.9841876024889,
          2348.694187602489,
          2535.844187602489,
          2752.984187602489,
          2942.844187602489,
          3197.414187602489,
          3551.264187602489,
          3854.9841876024893,
          3922.4141876024887,
          4354.264187602489,
          4825.694187602489,
          4895.264187602489,
          4667.264187602489,
          4185.554187602489,
          3990.4141876024887,
          3628.984187602489,
          3081.844187602489,
          2731.694187602489,
          2287.554187602489,
          2431.694187602489,
          2425.414187602489,
          2660.694187602489,
          2657.414187602489,
          2923.844187602489,
          2537.414187602489,
          2919.264187602489,
          2581.414187602489,
          2853.124187602489,
          2722.844187602489,
          3004.694187602489,
          2822.264187602489,
          3147.124187602489,
          3184.844187602489,
          3582.844187602489,
          3597.844187602489,
          3479.124187602489,
          3510.264187602489,
          3709.694187602489,
          3837.4141876024887,
          4040.4141876024887,
          3987.1241876024887,
          4255.554187602489,
          4455.124187602489,
          4564.264187602489,
          4798.264187602489,
          4913.984187602489,
          4924.554187602489,
          5214.554187602489,
          5661.264187602489,
          5464.554187602489,
          5645.844187602489,
          5821.984187602489,
          6088.554187602489,
          6365.694187602489,
          6306.414187602489,
          6167.694187602489,
          6385.554187602489,
          6375.844187602489,
          6136.414187602489,
          5994.264187602489,
          5707.554187602489,
          5734.124187602489,
          5510.264187602489,
          5316.554187602489,
          5221.984187602489,
          5182.844187602489,
          5212.264187602489,
          5231.414187602489,
          5133.844187602489,
          4821.554187602489,
          4789.694187602489,
          4736.124187602489,
          4587.844187602489,
          4191.844187602489,
          4086.6941876024894,
          3989.554187602489,
          3972.9841876024893,
          3783.414187602489,
          3403.414187602489,
          3168.554187602489,
          2845.984187602489,
          2454.694187602489,
          2077.264187602489,
          1869.4141876024892,
          1717.844187602489,
          1518.6941876024891,
          1381.124187602489,
          1313.554187602489,
          1199.554187602489,
          1082.264187602489,
          927.4141876024889,
          802.844187602489,
          801.6941876024891,
          721.844187602489,
          705.9841876024889,
          732.4141876024889,
          781.844187602489,
          792.4141876024889,
          786.554187602489,
          773.2641876024891,
          773.4141876024889,
          755.6941876024891,
          726.124187602489,
          699.554187602489,
          666.9841876024889,
          708.844187602489,
          719.554187602489,
          713.554187602489,
          699.124187602489,
          676.9841876024889,
          664.4141876024889,
          655.124187602489,
          647.124187602489,
          642.554187602489,
          698.124187602489,
          782.9841876024891,
          844.2641876024891,
          873.4141876024889,
          941.4141876024889,
          977.6941876024891,
          974.2641876024891,
          952.6941876024891,
          939.4141876024889,
          928.4141876024889,
          988.9841876024891,
          981.9841876024891,
          954.2641876024891,
          994.2641876024891,
          1048.844187602489,
          1051.844187602489
         ]
        }
       ],
       "layout": {
        "paper_bgcolor": "white",
        "template": {
         "data": {
          "bar": [
           {
            "error_x": {
             "color": "#2a3f5f"
            },
            "error_y": {
             "color": "#2a3f5f"
            },
            "marker": {
             "line": {
              "color": "#E5ECF6",
              "width": 0.5
             },
             "pattern": {
              "fillmode": "overlay",
              "size": 10,
              "solidity": 0.2
             }
            },
            "type": "bar"
           }
          ],
          "barpolar": [
           {
            "marker": {
             "line": {
              "color": "#E5ECF6",
              "width": 0.5
             },
             "pattern": {
              "fillmode": "overlay",
              "size": 10,
              "solidity": 0.2
             }
            },
            "type": "barpolar"
           }
          ],
          "carpet": [
           {
            "aaxis": {
             "endlinecolor": "#2a3f5f",
             "gridcolor": "white",
             "linecolor": "white",
             "minorgridcolor": "white",
             "startlinecolor": "#2a3f5f"
            },
            "baxis": {
             "endlinecolor": "#2a3f5f",
             "gridcolor": "white",
             "linecolor": "white",
             "minorgridcolor": "white",
             "startlinecolor": "#2a3f5f"
            },
            "type": "carpet"
           }
          ],
          "choropleth": [
           {
            "colorbar": {
             "outlinewidth": 0,
             "ticks": ""
            },
            "type": "choropleth"
           }
          ],
          "contour": [
           {
            "colorbar": {
             "outlinewidth": 0,
             "ticks": ""
            },
            "colorscale": [
             [
              0,
              "#0d0887"
             ],
             [
              0.1111111111111111,
              "#46039f"
             ],
             [
              0.2222222222222222,
              "#7201a8"
             ],
             [
              0.3333333333333333,
              "#9c179e"
             ],
             [
              0.4444444444444444,
              "#bd3786"
             ],
             [
              0.5555555555555556,
              "#d8576b"
             ],
             [
              0.6666666666666666,
              "#ed7953"
             ],
             [
              0.7777777777777778,
              "#fb9f3a"
             ],
             [
              0.8888888888888888,
              "#fdca26"
             ],
             [
              1,
              "#f0f921"
             ]
            ],
            "type": "contour"
           }
          ],
          "contourcarpet": [
           {
            "colorbar": {
             "outlinewidth": 0,
             "ticks": ""
            },
            "type": "contourcarpet"
           }
          ],
          "heatmap": [
           {
            "colorbar": {
             "outlinewidth": 0,
             "ticks": ""
            },
            "colorscale": [
             [
              0,
              "#0d0887"
             ],
             [
              0.1111111111111111,
              "#46039f"
             ],
             [
              0.2222222222222222,
              "#7201a8"
             ],
             [
              0.3333333333333333,
              "#9c179e"
             ],
             [
              0.4444444444444444,
              "#bd3786"
             ],
             [
              0.5555555555555556,
              "#d8576b"
             ],
             [
              0.6666666666666666,
              "#ed7953"
             ],
             [
              0.7777777777777778,
              "#fb9f3a"
             ],
             [
              0.8888888888888888,
              "#fdca26"
             ],
             [
              1,
              "#f0f921"
             ]
            ],
            "type": "heatmap"
           }
          ],
          "heatmapgl": [
           {
            "colorbar": {
             "outlinewidth": 0,
             "ticks": ""
            },
            "colorscale": [
             [
              0,
              "#0d0887"
             ],
             [
              0.1111111111111111,
              "#46039f"
             ],
             [
              0.2222222222222222,
              "#7201a8"
             ],
             [
              0.3333333333333333,
              "#9c179e"
             ],
             [
              0.4444444444444444,
              "#bd3786"
             ],
             [
              0.5555555555555556,
              "#d8576b"
             ],
             [
              0.6666666666666666,
              "#ed7953"
             ],
             [
              0.7777777777777778,
              "#fb9f3a"
             ],
             [
              0.8888888888888888,
              "#fdca26"
             ],
             [
              1,
              "#f0f921"
             ]
            ],
            "type": "heatmapgl"
           }
          ],
          "histogram": [
           {
            "marker": {
             "pattern": {
              "fillmode": "overlay",
              "size": 10,
              "solidity": 0.2
             }
            },
            "type": "histogram"
           }
          ],
          "histogram2d": [
           {
            "colorbar": {
             "outlinewidth": 0,
             "ticks": ""
            },
            "colorscale": [
             [
              0,
              "#0d0887"
             ],
             [
              0.1111111111111111,
              "#46039f"
             ],
             [
              0.2222222222222222,
              "#7201a8"
             ],
             [
              0.3333333333333333,
              "#9c179e"
             ],
             [
              0.4444444444444444,
              "#bd3786"
             ],
             [
              0.5555555555555556,
              "#d8576b"
             ],
             [
              0.6666666666666666,
              "#ed7953"
             ],
             [
              0.7777777777777778,
              "#fb9f3a"
             ],
             [
              0.8888888888888888,
              "#fdca26"
             ],
             [
              1,
              "#f0f921"
             ]
            ],
            "type": "histogram2d"
           }
          ],
          "histogram2dcontour": [
           {
            "colorbar": {
             "outlinewidth": 0,
             "ticks": ""
            },
            "colorscale": [
             [
              0,
              "#0d0887"
             ],
             [
              0.1111111111111111,
              "#46039f"
             ],
             [
              0.2222222222222222,
              "#7201a8"
             ],
             [
              0.3333333333333333,
              "#9c179e"
             ],
             [
              0.4444444444444444,
              "#bd3786"
             ],
             [
              0.5555555555555556,
              "#d8576b"
             ],
             [
              0.6666666666666666,
              "#ed7953"
             ],
             [
              0.7777777777777778,
              "#fb9f3a"
             ],
             [
              0.8888888888888888,
              "#fdca26"
             ],
             [
              1,
              "#f0f921"
             ]
            ],
            "type": "histogram2dcontour"
           }
          ],
          "mesh3d": [
           {
            "colorbar": {
             "outlinewidth": 0,
             "ticks": ""
            },
            "type": "mesh3d"
           }
          ],
          "parcoords": [
           {
            "line": {
             "colorbar": {
              "outlinewidth": 0,
              "ticks": ""
             }
            },
            "type": "parcoords"
           }
          ],
          "pie": [
           {
            "automargin": true,
            "type": "pie"
           }
          ],
          "scatter": [
           {
            "fillpattern": {
             "fillmode": "overlay",
             "size": 10,
             "solidity": 0.2
            },
            "type": "scatter"
           }
          ],
          "scatter3d": [
           {
            "line": {
             "colorbar": {
              "outlinewidth": 0,
              "ticks": ""
             }
            },
            "marker": {
             "colorbar": {
              "outlinewidth": 0,
              "ticks": ""
             }
            },
            "type": "scatter3d"
           }
          ],
          "scattercarpet": [
           {
            "marker": {
             "colorbar": {
              "outlinewidth": 0,
              "ticks": ""
             }
            },
            "type": "scattercarpet"
           }
          ],
          "scattergeo": [
           {
            "marker": {
             "colorbar": {
              "outlinewidth": 0,
              "ticks": ""
             }
            },
            "type": "scattergeo"
           }
          ],
          "scattergl": [
           {
            "marker": {
             "colorbar": {
              "outlinewidth": 0,
              "ticks": ""
             }
            },
            "type": "scattergl"
           }
          ],
          "scattermapbox": [
           {
            "marker": {
             "colorbar": {
              "outlinewidth": 0,
              "ticks": ""
             }
            },
            "type": "scattermapbox"
           }
          ],
          "scatterpolar": [
           {
            "marker": {
             "colorbar": {
              "outlinewidth": 0,
              "ticks": ""
             }
            },
            "type": "scatterpolar"
           }
          ],
          "scatterpolargl": [
           {
            "marker": {
             "colorbar": {
              "outlinewidth": 0,
              "ticks": ""
             }
            },
            "type": "scatterpolargl"
           }
          ],
          "scatterternary": [
           {
            "marker": {
             "colorbar": {
              "outlinewidth": 0,
              "ticks": ""
             }
            },
            "type": "scatterternary"
           }
          ],
          "surface": [
           {
            "colorbar": {
             "outlinewidth": 0,
             "ticks": ""
            },
            "colorscale": [
             [
              0,
              "#0d0887"
             ],
             [
              0.1111111111111111,
              "#46039f"
             ],
             [
              0.2222222222222222,
              "#7201a8"
             ],
             [
              0.3333333333333333,
              "#9c179e"
             ],
             [
              0.4444444444444444,
              "#bd3786"
             ],
             [
              0.5555555555555556,
              "#d8576b"
             ],
             [
              0.6666666666666666,
              "#ed7953"
             ],
             [
              0.7777777777777778,
              "#fb9f3a"
             ],
             [
              0.8888888888888888,
              "#fdca26"
             ],
             [
              1,
              "#f0f921"
             ]
            ],
            "type": "surface"
           }
          ],
          "table": [
           {
            "cells": {
             "fill": {
              "color": "#EBF0F8"
             },
             "line": {
              "color": "white"
             }
            },
            "header": {
             "fill": {
              "color": "#C8D4E3"
             },
             "line": {
              "color": "white"
             }
            },
            "type": "table"
           }
          ]
         },
         "layout": {
          "annotationdefaults": {
           "arrowcolor": "#2a3f5f",
           "arrowhead": 0,
           "arrowwidth": 1
          },
          "autotypenumbers": "strict",
          "coloraxis": {
           "colorbar": {
            "outlinewidth": 0,
            "ticks": ""
           }
          },
          "colorscale": {
           "diverging": [
            [
             0,
             "#8e0152"
            ],
            [
             0.1,
             "#c51b7d"
            ],
            [
             0.2,
             "#de77ae"
            ],
            [
             0.3,
             "#f1b6da"
            ],
            [
             0.4,
             "#fde0ef"
            ],
            [
             0.5,
             "#f7f7f7"
            ],
            [
             0.6,
             "#e6f5d0"
            ],
            [
             0.7,
             "#b8e186"
            ],
            [
             0.8,
             "#7fbc41"
            ],
            [
             0.9,
             "#4d9221"
            ],
            [
             1,
             "#276419"
            ]
           ],
           "sequential": [
            [
             0,
             "#0d0887"
            ],
            [
             0.1111111111111111,
             "#46039f"
            ],
            [
             0.2222222222222222,
             "#7201a8"
            ],
            [
             0.3333333333333333,
             "#9c179e"
            ],
            [
             0.4444444444444444,
             "#bd3786"
            ],
            [
             0.5555555555555556,
             "#d8576b"
            ],
            [
             0.6666666666666666,
             "#ed7953"
            ],
            [
             0.7777777777777778,
             "#fb9f3a"
            ],
            [
             0.8888888888888888,
             "#fdca26"
            ],
            [
             1,
             "#f0f921"
            ]
           ],
           "sequentialminus": [
            [
             0,
             "#0d0887"
            ],
            [
             0.1111111111111111,
             "#46039f"
            ],
            [
             0.2222222222222222,
             "#7201a8"
            ],
            [
             0.3333333333333333,
             "#9c179e"
            ],
            [
             0.4444444444444444,
             "#bd3786"
            ],
            [
             0.5555555555555556,
             "#d8576b"
            ],
            [
             0.6666666666666666,
             "#ed7953"
            ],
            [
             0.7777777777777778,
             "#fb9f3a"
            ],
            [
             0.8888888888888888,
             "#fdca26"
            ],
            [
             1,
             "#f0f921"
            ]
           ]
          },
          "colorway": [
           "#636efa",
           "#EF553B",
           "#00cc96",
           "#ab63fa",
           "#FFA15A",
           "#19d3f3",
           "#FF6692",
           "#B6E880",
           "#FF97FF",
           "#FECB52"
          ],
          "font": {
           "color": "#2a3f5f"
          },
          "geo": {
           "bgcolor": "white",
           "lakecolor": "white",
           "landcolor": "#E5ECF6",
           "showlakes": true,
           "showland": true,
           "subunitcolor": "white"
          },
          "hoverlabel": {
           "align": "left"
          },
          "hovermode": "closest",
          "mapbox": {
           "style": "light"
          },
          "paper_bgcolor": "white",
          "plot_bgcolor": "#E5ECF6",
          "polar": {
           "angularaxis": {
            "gridcolor": "white",
            "linecolor": "white",
            "ticks": ""
           },
           "bgcolor": "#E5ECF6",
           "radialaxis": {
            "gridcolor": "white",
            "linecolor": "white",
            "ticks": ""
           }
          },
          "scene": {
           "xaxis": {
            "backgroundcolor": "#E5ECF6",
            "gridcolor": "white",
            "gridwidth": 2,
            "linecolor": "white",
            "showbackground": true,
            "ticks": "",
            "zerolinecolor": "white"
           },
           "yaxis": {
            "backgroundcolor": "#E5ECF6",
            "gridcolor": "white",
            "gridwidth": 2,
            "linecolor": "white",
            "showbackground": true,
            "ticks": "",
            "zerolinecolor": "white"
           },
           "zaxis": {
            "backgroundcolor": "#E5ECF6",
            "gridcolor": "white",
            "gridwidth": 2,
            "linecolor": "white",
            "showbackground": true,
            "ticks": "",
            "zerolinecolor": "white"
           }
          },
          "shapedefaults": {
           "line": {
            "color": "#2a3f5f"
           }
          },
          "ternary": {
           "aaxis": {
            "gridcolor": "white",
            "linecolor": "white",
            "ticks": ""
           },
           "baxis": {
            "gridcolor": "white",
            "linecolor": "white",
            "ticks": ""
           },
           "bgcolor": "#E5ECF6",
           "caxis": {
            "gridcolor": "white",
            "linecolor": "white",
            "ticks": ""
           }
          },
          "title": {
           "x": 0.05
          },
          "xaxis": {
           "automargin": true,
           "gridcolor": "white",
           "linecolor": "white",
           "ticks": "",
           "title": {
            "standoff": 15
           },
           "zerolinecolor": "white",
           "zerolinewidth": 2
          },
          "yaxis": {
           "automargin": true,
           "gridcolor": "white",
           "linecolor": "white",
           "ticks": "",
           "title": {
            "standoff": 15
           },
           "zerolinecolor": "white",
           "zerolinewidth": 2
          }
         }
        },
        "title": {
         "text": "7-day Moving Average Forecast of COVID-19 Confirmed Cases in HCMC"
        },
        "xaxis": {
         "title": {
          "text": "Index Order"
         }
        },
        "yaxis": {
         "title": {
          "text": "7-day Moving Average Cases"
         }
        }
       }
      }
     },
     "metadata": {},
     "output_type": "display_data"
    }
   ],
   "source": [
    "# 95% Confidence interval\n",
    "mva_CI = 1.96 * np.std(moving_avg_acutal['7-day Moving Average Actual']) / np.sqrt(len(list(mva_obs['Index Order'])))\n",
    "\n",
    "# First trace\n",
    "mva_actual = go.Scatter(x=mva_obs['Index Order'], y=moving_avg_acutal['7-day Moving Average Actual'],\n",
    "                    name='7-day Moving Average COVID-19 Confirmed Cases')\n",
    "\n",
    "# Second trace\n",
    "mva_arima110 = go.Scatter(x=mva_obs['Index Order'], y=moving_avg_forecast['7-day Moving Average Forecast'],\n",
    "                    name='7-day Moving Average ARIMA(1,1,0) Forecast')\n",
    "\n",
    "# Fill between trace\n",
    "mva_conf_int1 = go.Scatter(x=mva_obs['Index Order'], y=(moving_avg_acutal['7-day Moving Average Actual']) + mva_CI, fill='tonexty',\n",
    "                        opacity=0.5, line=dict(width=0), name='CI fill upper')\n",
    "mva_conf_int2 = go.Scatter(x=mva_obs['Index Order'], y=(moving_avg_acutal['7-day Moving Average Actual']) - mva_CI, fill='tonexty',\n",
    "                        opacity=0.5, line=dict(width=0), name='CI fill lower')\n",
    "\n",
    "# Create the figure\n",
    "mva_fig = go.Figure(data=[mva_actual, mva_arima110, mva_conf_int1, mva_conf_int2], layout=go.Layout(\n",
    "    title='7-day Moving Average Forecast of COVID-19 Confirmed Cases in HCMC',\n",
    "    xaxis=dict(title='Index Order'),\n",
    "    yaxis=dict(title='7-day Moving Average Cases'),\n",
    "    # plot_bgcolor='white',  # set the plot background color to white\n",
    "    paper_bgcolor='white'  # set the paper background color to white\n",
    "))\n",
    "\n",
    "# Show the figure\n",
    "mva_fig.show()\n"
   ]
  },
  {
   "cell_type": "code",
   "execution_count": 51,
   "metadata": {},
   "outputs": [
    {
     "name": "stdout",
     "output_type": "stream",
     "text": [
      "Mean Square Error (MSE):  952224.0663507109\n",
      "Root Mean Square Error (RMSE):  975.8196894666099\n"
     ]
    }
   ],
   "source": [
    "# RMSE Calculation\n",
    "MSE = np.square(np.subtract(data['Confirmed case'],data['Final Forecast Result'])).mean()\n",
    "RMSE = math.sqrt(MSE)\n",
    "\n",
    "print('Mean Square Error (MSE): ',MSE)\n",
    "print('Root Mean Square Error (RMSE): ',RMSE)"
   ]
  },
  {
   "cell_type": "code",
   "execution_count": null,
   "metadata": {},
   "outputs": [],
   "source": []
  }
 ],
 "metadata": {
  "kernelspec": {
   "display_name": "base",
   "language": "python",
   "name": "python3"
  },
  "language_info": {
   "codemirror_mode": {
    "name": "ipython",
    "version": 3
   },
   "file_extension": ".py",
   "mimetype": "text/x-python",
   "name": "python",
   "nbconvert_exporter": "python",
   "pygments_lexer": "ipython3",
   "version": "3.9.13"
  },
  "orig_nbformat": 4,
  "vscode": {
   "interpreter": {
    "hash": "f9d4deea51ff5d1e770b709483c768bbb2160eafa17160ef291f4d64f5df228e"
   }
  }
 },
 "nbformat": 4,
 "nbformat_minor": 2
}
